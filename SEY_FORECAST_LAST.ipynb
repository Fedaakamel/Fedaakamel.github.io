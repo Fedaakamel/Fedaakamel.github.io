{
 "cells": [
  {
   "cell_type": "markdown",
   "metadata": {},
   "source": [
    "### PROJECT DESCRIPTION\n",
    "\n",
    "##CCTE Programme for Syrians and other refugees in Turkey is being implemented with the partnership of; Turkish Red Crescent  , Ministry of National Education (MoNE), Ministry of Family, Labor and Social Services and UNICEF. In May 2017, the National CCTE Programme was extended to cover school-age refugee children residing in Turkey under temporary/international protection. It was aimed to ensure that children have access to school and attend classes regularly with the cash assistance oﬀered under the programme. The cash assistance amounts vary according to gender and school levels for each month. The payments are made on a bi-monthly basis and the programme is on the condition of regular attendance, i.e. cash is not provided if the child is absent for more than four days in a school month.The CCTE program is open to refugees and persons under temporary/international protection of all nationalities. Applicants for the CCTE must be registered with the Directorate General of Migration Management (DGMM), have a foreigner’s ID number beginning with the number 99 and be registered in the MERNIS database. Applicants must meet the eligibility criteria for the CCTE program and send their children to school regularly in order to receive CCTE payments regularly. Children attending the Accelerated Learning Program (ALP) at Public Education Centers can also benefit from CCTE.\n",
    "\n"
   ]
  },
  {
   "cell_type": "code",
   "execution_count": 1,
   "metadata": {},
   "outputs": [],
   "source": [
    "# Calling the required packages \n",
    "\n",
    "import os\n",
    "import pandas as pd\n",
    "import numpy as np\n",
    "import re\n",
    "import matplotlib.pyplot as plt\n",
    "from sklearn.linear_model import LinearRegression\n",
    "import seaborn as sns\n",
    "import plotly.graph_objects as go\n",
    "from pandas.plotting import autocorrelation_plot\n",
    "from datetime import datetime\n",
    "from statsmodels.graphics.tsaplots import plot_acf\n",
    "from statsmodels.graphics.tsaplots import plot_pacf\n",
    "from statsmodels.stats.stattools import jarque_bera\n",
    "from statsmodels.tsa.stattools import adfuller\n",
    "from statsmodels.graphics.gofplots import qqplot\n",
    "from scipy.stats import gaussian_kde, norm\n",
    "import scipy\n",
    "#import sys\n",
    "#!{sys.executable} -m pip install statsmodels\n",
    "import statsmodels\n",
    "from statsmodels.tsa.arima_model import ARIMA\n",
    "from statsmodels.tsa.statespace.sarimax import SARIMAX\n",
    "from dateutil.relativedelta import relativedelta"
   ]
  },
  {
   "cell_type": "code",
   "execution_count": 2,
   "metadata": {},
   "outputs": [],
   "source": [
    "##Sinif bilgisi  Class information\n",
    "Anasinif_Ilkokul_kiz=50\n",
    "Anasinif_Ilkokul_erkek=45\n",
    "lise_kiz=75\n",
    "lise_erkek=55\n",
    "Hep_kiz=75\n",
    "Hep_erkek=75\n",
    "Ek_odeme_orani=0.96\n",
    "Hep_ek_orani=0.99\n",
    "top_up_lise=150\n",
    "top_up_orta=100"
   ]
  },
  {
   "cell_type": "code",
   "execution_count": 3,
   "metadata": {},
   "outputs": [
    {
     "data": {
      "text/html": [
       "        <script type=\"text/javascript\">\n",
       "        window.PlotlyConfig = {MathJaxConfig: 'local'};\n",
       "        if (window.MathJax) {MathJax.Hub.Config({SVG: {font: \"STIX-Web\"}});}\n",
       "        if (typeof require !== 'undefined') {\n",
       "        require.undef(\"plotly\");\n",
       "        requirejs.config({\n",
       "            paths: {\n",
       "                'plotly': ['https://cdn.plot.ly/plotly-latest.min']\n",
       "            }\n",
       "        });\n",
       "        require(['plotly'], function(Plotly) {\n",
       "            window._Plotly = Plotly;\n",
       "        });\n",
       "        }\n",
       "        </script>\n",
       "        "
      ]
     },
     "metadata": {},
     "output_type": "display_data"
    }
   ],
   "source": [
    "import chart_studio\n",
    "import cufflinks as cf\n",
    "cf.go_offline()"
   ]
  },
  {
   "cell_type": "code",
   "execution_count": 4,
   "metadata": {},
   "outputs": [],
   "source": [
    "#calling Arima package\n",
    "\n",
    "import pmdarima as pm\n",
    "from pmdarima import auto_arima"
   ]
  },
  {
   "cell_type": "code",
   "execution_count": 5,
   "metadata": {},
   "outputs": [],
   "source": [
    "###Historical data \n",
    "\n",
    "historic = pd.read_excel(r\"D:\\desktop\\Sey\\ŞEY_Forecasting 24032021.xlsx\",sheet_name=\"Sheet1\")"
   ]
  },
  {
   "cell_type": "code",
   "execution_count": 6,
   "metadata": {},
   "outputs": [],
   "source": [
    "sinif_cinsiyet=pd.read_excel(r\"D:\\desktop\\Sey\\seyforecast.xlsx\",sheet_name=\"cinsiyet-sinif\")"
   ]
  },
  {
   "cell_type": "code",
   "execution_count": 7,
   "metadata": {},
   "outputs": [
    {
     "data": {
      "text/html": [
       "<div>\n",
       "<style scoped>\n",
       "    .dataframe tbody tr th:only-of-type {\n",
       "        vertical-align: middle;\n",
       "    }\n",
       "\n",
       "    .dataframe tbody tr th {\n",
       "        vertical-align: top;\n",
       "    }\n",
       "\n",
       "    .dataframe thead th {\n",
       "        text-align: right;\n",
       "    }\n",
       "</style>\n",
       "<table border=\"1\" class=\"dataframe\">\n",
       "  <thead>\n",
       "    <tr style=\"text-align: right;\">\n",
       "      <th></th>\n",
       "      <th>AY</th>\n",
       "      <th>ANASINIFI_Kadın</th>\n",
       "      <th>ANASINIFI_Erkek</th>\n",
       "      <th>BILGI YOK_Kadın</th>\n",
       "      <th>BILGI YOK_Erkek</th>\n",
       "      <th>HEP_Kadın</th>\n",
       "      <th>HEP_Erkek</th>\n",
       "      <th>ILKOKUL_Kadın</th>\n",
       "      <th>ILKOKUL_Erkek</th>\n",
       "      <th>LISE_Kadın</th>\n",
       "      <th>LISE_Erkek</th>\n",
       "      <th>ORTAOKUL_Kadın</th>\n",
       "      <th>ORTAOKUL_Erkek</th>\n",
       "      <th>Toplam</th>\n",
       "    </tr>\n",
       "  </thead>\n",
       "  <tbody>\n",
       "    <tr>\n",
       "      <th>0</th>\n",
       "      <td>201705</td>\n",
       "      <td>110</td>\n",
       "      <td>97</td>\n",
       "      <td>448</td>\n",
       "      <td>507</td>\n",
       "      <td>0</td>\n",
       "      <td>0</td>\n",
       "      <td>5360</td>\n",
       "      <td>6012</td>\n",
       "      <td>4501</td>\n",
       "      <td>3677</td>\n",
       "      <td>17916</td>\n",
       "      <td>17612</td>\n",
       "      <td>56240</td>\n",
       "    </tr>\n",
       "    <tr>\n",
       "      <th>1</th>\n",
       "      <td>201707</td>\n",
       "      <td>140</td>\n",
       "      <td>127</td>\n",
       "      <td>533</td>\n",
       "      <td>556</td>\n",
       "      <td>0</td>\n",
       "      <td>2</td>\n",
       "      <td>6987</td>\n",
       "      <td>7755</td>\n",
       "      <td>5692</td>\n",
       "      <td>4566</td>\n",
       "      <td>23109</td>\n",
       "      <td>22560</td>\n",
       "      <td>72027</td>\n",
       "    </tr>\n",
       "    <tr>\n",
       "      <th>2</th>\n",
       "      <td>201709</td>\n",
       "      <td>202</td>\n",
       "      <td>180</td>\n",
       "      <td>2142</td>\n",
       "      <td>2270</td>\n",
       "      <td>6</td>\n",
       "      <td>9</td>\n",
       "      <td>13429</td>\n",
       "      <td>14950</td>\n",
       "      <td>12092</td>\n",
       "      <td>9434</td>\n",
       "      <td>41071</td>\n",
       "      <td>40738</td>\n",
       "      <td>136523</td>\n",
       "    </tr>\n",
       "    <tr>\n",
       "      <th>3</th>\n",
       "      <td>201711</td>\n",
       "      <td>194</td>\n",
       "      <td>181</td>\n",
       "      <td>323</td>\n",
       "      <td>351</td>\n",
       "      <td>10</td>\n",
       "      <td>10</td>\n",
       "      <td>21233</td>\n",
       "      <td>22908</td>\n",
       "      <td>14176</td>\n",
       "      <td>10948</td>\n",
       "      <td>49100</td>\n",
       "      <td>48008</td>\n",
       "      <td>167442</td>\n",
       "    </tr>\n",
       "    <tr>\n",
       "      <th>4</th>\n",
       "      <td>201801</td>\n",
       "      <td>468</td>\n",
       "      <td>531</td>\n",
       "      <td>1841</td>\n",
       "      <td>1995</td>\n",
       "      <td>28</td>\n",
       "      <td>26</td>\n",
       "      <td>47068</td>\n",
       "      <td>50356</td>\n",
       "      <td>25667</td>\n",
       "      <td>20136</td>\n",
       "      <td>81907</td>\n",
       "      <td>81903</td>\n",
       "      <td>311926</td>\n",
       "    </tr>\n",
       "  </tbody>\n",
       "</table>\n",
       "</div>"
      ],
      "text/plain": [
       "       AY  ANASINIFI_Kadın  ANASINIFI_Erkek  BILGI YOK_Kadın  BILGI YOK_Erkek  \\\n",
       "0  201705              110               97              448              507   \n",
       "1  201707              140              127              533              556   \n",
       "2  201709              202              180             2142             2270   \n",
       "3  201711              194              181              323              351   \n",
       "4  201801              468              531             1841             1995   \n",
       "\n",
       "   HEP_Kadın  HEP_Erkek  ILKOKUL_Kadın  ILKOKUL_Erkek  LISE_Kadın  LISE_Erkek  \\\n",
       "0          0          0           5360           6012        4501        3677   \n",
       "1          0          2           6987           7755        5692        4566   \n",
       "2          6          9          13429          14950       12092        9434   \n",
       "3         10         10          21233          22908       14176       10948   \n",
       "4         28         26          47068          50356       25667       20136   \n",
       "\n",
       "   ORTAOKUL_Kadın  ORTAOKUL_Erkek  Toplam  \n",
       "0           17916           17612   56240  \n",
       "1           23109           22560   72027  \n",
       "2           41071           40738  136523  \n",
       "3           49100           48008  167442  \n",
       "4           81907           81903  311926  "
      ]
     },
     "execution_count": 7,
     "metadata": {},
     "output_type": "execute_result"
    }
   ],
   "source": [
    "sinif_cinsiyet.head()"
   ]
  },
  {
   "cell_type": "code",
   "execution_count": 8,
   "metadata": {},
   "outputs": [],
   "source": [
    "idx = pd.date_range(start='05/2017', end='03/2021', freq='2m')\n",
    "idx = pd.to_datetime(idx, format = '%m/%d/%Y').strftime('%b %Y')"
   ]
  },
  {
   "cell_type": "code",
   "execution_count": 9,
   "metadata": {},
   "outputs": [],
   "source": [
    "all_fay = pd.Series((sinif_cinsiyet['Toplam'][0:24]),index = idx)"
   ]
  },
  {
   "cell_type": "code",
   "execution_count": 11,
   "metadata": {},
   "outputs": [
    {
     "data": {
      "image/png": "[encoded data removed]",
      "text/plain": [
       "<Figure size 432x288 with 1 Axes>"
      ]
     },
     "metadata": {
      "needs_background": "light"
     },
     "output_type": "display_data"
    }
   ],
   "source": [
    "ax = sinif_cinsiyet.plot(fontsize=15, linewidth=3);\n",
    "ax.set_xlabel('AY', fontsize=10);\n",
    "ax.legend(loc='upper left', bbox_to_anchor=(0.7, 1.5), ncol=3, fontsize=7);\n",
    "\n",
    "\n"
   ]
  },
  {
   "cell_type": "code",
   "execution_count": 12,
   "metadata": {},
   "outputs": [],
   "source": [
    "###Sinif_cinsiyet Forecasting \n",
    "\n",
    "Anaokul_kiz=pd.Series((sinif_cinsiyet['ANASINIFI_Kadın'][:24]),index = idx)\n",
    "\n",
    "Anaokul_erkek=pd.Series((sinif_cinsiyet['ANASINIFI_Erkek'][:24]),index = idx)\n",
    "##############################\n",
    "ILKOKUL_Kadın=pd.Series((sinif_cinsiyet['ILKOKUL_Kadın'][:24]),index = idx)\n",
    "\n",
    "ILKOKUL_Erkek=pd.Series((sinif_cinsiyet['ILKOKUL_Erkek'][:24]),index = idx)\n",
    "###################\n",
    "HEP_Kadın=pd.Series((sinif_cinsiyet['HEP_Kadın'][:24]),index = idx)\n",
    "\n",
    "HEP_Kadın=pd.Series((sinif_cinsiyet['HEP_Erkek'][:24]),index = idx)\n",
    "\n",
    "######################################\n",
    "LISE_Kadın=pd.Series((sinif_cinsiyet['LISE_Kadın'][:24]),index = idx)\n",
    "\n",
    "LISE_Erkek=pd.Series((sinif_cinsiyet['LISE_Erkek'][:24]),index = idx)\n",
    "\n",
    "###########################################\n",
    "ORTAOKUL_Kadın=pd.Series((sinif_cinsiyet['ORTAOKUL_Kadın'][:24]),index = idx)\n",
    "\n",
    "ORTAOKUL_Erkek=pd.Series((sinif_cinsiyet['ORTAOKUL_Erkek'][:24]),index = idx)\n"
   ]
  },
  {
   "cell_type": "code",
   "execution_count": 13,
   "metadata": {},
   "outputs": [
    {
     "data": {
      "image/png": "[encoded data removed]",
      "text/plain": [
       "<Figure size 936x288 with 1 Axes>"
      ]
     },
     "metadata": {},
     "output_type": "display_data"
    }
   ],
   "source": [
    "plt.style.use('fivethirtyeight')\n",
    "ax = sinif_cinsiyet.plot(figsize=(13,4),fontsize=15, linewidth=3);\n",
    "plt.show()"
   ]
  },
  {
   "cell_type": "code",
   "execution_count": 14,
   "metadata": {
    "scrolled": false
   },
   "outputs": [
    {
     "data": {
      "application/vnd.plotly.v1+json": {
       "config": {
        "linkText": "Export to plotly.your-company.com",
        "plotlyServerURL": "https://plotly.your-company.com",
        "showLink": true
       },
       "data": [
        {
         "line": {
          "color": "rgba(255, 153, 51, 1.0)",
          "dash": "solid",
          "shape": "linear",
          "width": 1.3
         },
         "mode": "lines",
         "name": "ANASINIFI_Kadın",
         "text": "",
         "type": "scatter",
         "x": [
          0,
          1,
          2,
          3,
          4,
          5,
          6,
          7,
          8,
          9,
          10,
          11,
          12,
          13,
          14,
          15,
          16,
          17,
          18,
          19,
          20,
          21,
          22,
          23
         ],
         "y": [
          110,
          140,
          202,
          194,
          468,
          438,
          440,
          434,
          386,
          219,
          655,
          618,
          699,
          692,
          718,
          1053,
          2068,
          2057,
          2294,
          2329,
          2431,
          5508,
          6986,
          7164
         ]
        },
        {
         "line": {
          "color": "rgba(55, 128, 191, 1.0)",
          "dash": "solid",
          "shape": "linear",
          "width": 1.3
         },
         "mode": "lines",
         "name": "ANASINIFI_Erkek",
         "text": "",
         "type": "scatter",
         "x": [
          0,
          1,
          2,
          3,
          4,
          5,
          6,
          7,
          8,
          9,
          10,
          11,
          12,
          13,
          14,
          15,
          16,
          17,
          18,
          19,
          20,
          21,
          22,
          23
         ],
         "y": [
          97,
          127,
          180,
          181,
          531,
          505,
          522,
          504,
          456,
          244,
          734,
          691,
          763,
          721,
          732,
          986,
          2011,
          2033,
          2259,
          2280,
          2376,
          5573,
          7109,
          7324
         ]
        },
        {
         "line": {
          "color": "rgba(50, 171, 96, 1.0)",
          "dash": "solid",
          "shape": "linear",
          "width": 1.3
         },
         "mode": "lines",
         "name": "ILKOKUL_Kadın",
         "text": "",
         "type": "scatter",
         "x": [
          0,
          1,
          2,
          3,
          4,
          5,
          6,
          7,
          8,
          9,
          10,
          11,
          12,
          13,
          14,
          15,
          16,
          17,
          18,
          19,
          20,
          21,
          22,
          23
         ],
         "y": [
          5360,
          6987,
          13429,
          21233,
          47068,
          44894,
          46561,
          48432,
          52133,
          54802,
          83690,
          78493,
          81122,
          79512,
          86332,
          86874,
          108400,
          102969,
          105508,
          109188,
          110252,
          122349,
          126615,
          125141
         ]
        },
        {
         "line": {
          "color": "rgba(128, 0, 128, 1.0)",
          "dash": "solid",
          "shape": "linear",
          "width": 1.3
         },
         "mode": "lines",
         "name": "ILKOKUL_Erkek",
         "text": "",
         "type": "scatter",
         "x": [
          0,
          1,
          2,
          3,
          4,
          5,
          6,
          7,
          8,
          9,
          10,
          11,
          12,
          13,
          14,
          15,
          16,
          17,
          18,
          19,
          20,
          21,
          22,
          23
         ],
         "y": [
          6012,
          7755,
          14950,
          22908,
          50356,
          47409,
          49033,
          51031,
          55507,
          57366,
          88420,
          82025,
          84263,
          82397,
          90500,
          89690,
          113556,
          107056,
          109653,
          114144,
          115344,
          127937,
          132483,
          130735
         ]
        },
        {
         "line": {
          "color": "rgba(219, 64, 82, 1.0)",
          "dash": "solid",
          "shape": "linear",
          "width": 1.3
         },
         "mode": "lines",
         "name": "HEP_Kadın",
         "text": "",
         "type": "scatter",
         "x": [
          0,
          1,
          2,
          3,
          4,
          5,
          6,
          7,
          8,
          9,
          10,
          11,
          12,
          13,
          14,
          15,
          16,
          17,
          18,
          19,
          20,
          21,
          22,
          23
         ],
         "y": [
          0,
          0,
          6,
          10,
          28,
          22,
          17,
          30,
          130,
          146,
          409,
          365,
          666,
          587,
          690,
          223,
          604,
          517,
          729,
          690,
          768,
          877,
          966,
          869
         ]
        },
        {
         "line": {
          "color": "rgba(0, 128, 128, 1.0)",
          "dash": "solid",
          "shape": "linear",
          "width": 1.3
         },
         "mode": "lines",
         "name": "HEP_Erkek",
         "text": "",
         "type": "scatter",
         "x": [
          0,
          1,
          2,
          3,
          4,
          5,
          6,
          7,
          8,
          9,
          10,
          11,
          12,
          13,
          14,
          15,
          16,
          17,
          18,
          19,
          20,
          21,
          22,
          23
         ],
         "y": [
          0,
          2,
          9,
          10,
          26,
          18,
          10,
          21,
          176,
          193,
          485,
          407,
          770,
          687,
          828,
          275,
          742,
          684,
          884,
          837,
          914,
          1030,
          1103,
          1003
         ]
        },
        {
         "line": {
          "color": "rgba(255, 255, 51, 1.0)",
          "dash": "solid",
          "shape": "linear",
          "width": 1.3
         },
         "mode": "lines",
         "name": "LISE_Kadın",
         "text": "",
         "type": "scatter",
         "x": [
          0,
          1,
          2,
          3,
          4,
          5,
          6,
          7,
          8,
          9,
          10,
          11,
          12,
          13,
          14,
          15,
          16,
          17,
          18,
          19,
          20,
          21,
          22,
          23
         ],
         "y": [
          4501,
          5692,
          12092,
          14176,
          25667,
          23996,
          19581,
          25395,
          27991,
          23350,
          31258,
          27779,
          26564,
          26255,
          30303,
          21347,
          29316,
          26386,
          25696,
          27772,
          27685,
          25637,
          25715,
          24581
         ]
        },
        {
         "line": {
          "color": "rgba(128, 128, 0, 1.0)",
          "dash": "solid",
          "shape": "linear",
          "width": 1.3
         },
         "mode": "lines",
         "name": "LISE_Erkek",
         "text": "",
         "type": "scatter",
         "x": [
          0,
          1,
          2,
          3,
          4,
          5,
          6,
          7,
          8,
          9,
          10,
          11,
          12,
          13,
          14,
          15,
          16,
          17,
          18,
          19,
          20,
          21,
          22,
          23
         ],
         "y": [
          3677,
          4566,
          9434,
          10948,
          20136,
          18586,
          15405,
          19729,
          22268,
          18020,
          24842,
          21715,
          20252,
          19949,
          24173,
          16327,
          23235,
          20426,
          19686,
          22062,
          22025,
          20287,
          20207,
          19334
         ]
        },
        {
         "line": {
          "color": "rgba(251, 128, 114, 1.0)",
          "dash": "solid",
          "shape": "linear",
          "width": 1.3
         },
         "mode": "lines",
         "name": "ORTAOKUL_Kadın",
         "text": "",
         "type": "scatter",
         "x": [
          0,
          1,
          2,
          3,
          4,
          5,
          6,
          7,
          8,
          9,
          10,
          11,
          12,
          13,
          14,
          15,
          16,
          17,
          18,
          19,
          20,
          21,
          22,
          23
         ],
         "y": [
          17916,
          23109,
          41071,
          49100,
          81907,
          78775,
          70428,
          83615,
          90922,
          80302,
          103705,
          96046,
          92197,
          90742,
          104911,
          82763,
          108190,
          99822,
          98936,
          106644,
          106726,
          104893,
          105563,
          104489
         ]
        },
        {
         "line": {
          "color": "rgba(128, 177, 211, 1.0)",
          "dash": "solid",
          "shape": "linear",
          "width": 1.3
         },
         "mode": "lines",
         "name": "ORTAOKUL_Erkek",
         "text": "",
         "type": "scatter",
         "x": [
          0,
          1,
          2,
          3,
          4,
          5,
          6,
          7,
          8,
          9,
          10,
          11,
          12,
          13,
          14,
          15,
          16,
          17,
          18,
          19,
          20,
          21,
          22,
          23
         ],
         "y": [
          17612,
          22560,
          40738,
          48008,
          81903,
          78281,
          70034,
          83096,
          91513,
          80121,
          105017,
          96021,
          91728,
          89550,
          106570,
          82455,
          110429,
          100517,
          99586,
          108953,
          108939,
          106696,
          107485,
          106257
         ]
        }
       ],
       "layout": {
        "legend": {
         "bgcolor": "#F5F6F9",
         "font": {
          "color": "#4D5663"
         }
        },
        "paper_bgcolor": "#F5F6F9",
        "plot_bgcolor": "#F5F6F9",
        "template": {
         "data": {
          "bar": [
           {
            "error_x": {
             "color": "#2a3f5f"
            },
            "error_y": {
             "color": "#2a3f5f"
            },
            "marker": {
             "line": {
              "color": "#E5ECF6",
              "width": 0.5
             }
            },
            "type": "bar"
           }
          ],
          "barpolar": [
           {
            "marker": {
             "line": {
              "color": "#E5ECF6",
              "width": 0.5
             }
            },
            "type": "barpolar"
           }
          ],
          "carpet": [
           {
            "aaxis": {
             "endlinecolor": "#2a3f5f",
             "gridcolor": "white",
             "linecolor": "white",
             "minorgridcolor": "white",
             "startlinecolor": "#2a3f5f"
            },
            "baxis": {
             "endlinecolor": "#2a3f5f",
             "gridcolor": "white",
             "linecolor": "white",
             "minorgridcolor": "white",
             "startlinecolor": "#2a3f5f"
            },
            "type": "carpet"
           }
          ],
          "choropleth": [
           {
            "colorbar": {
             "outlinewidth": 0,
             "ticks": ""
            },
            "type": "choropleth"
           }
          ],
          "contour": [
           {
            "colorbar": {
             "outlinewidth": 0,
             "ticks": ""
            },
            "colorscale": [
             [
              0,
              "#0d0887"
             ],
             [
              0.1111111111111111,
              "#46039f"
             ],
             [
              0.2222222222222222,
              "#7201a8"
             ],
             [
              0.3333333333333333,
              "#9c179e"
             ],
             [
              0.4444444444444444,
              "#bd3786"
             ],
             [
              0.5555555555555556,
              "#d8576b"
             ],
             [
              0.6666666666666666,
              "#ed7953"
             ],
             [
              0.7777777777777778,
              "#fb9f3a"
             ],
             [
              0.8888888888888888,
              "#fdca26"
             ],
             [
              1,
              "#f0f921"
             ]
            ],
            "type": "contour"
           }
          ],
          "contourcarpet": [
           {
            "colorbar": {
             "outlinewidth": 0,
             "ticks": ""
            },
            "type": "contourcarpet"
           }
          ],
          "heatmap": [
           {
            "colorbar": {
             "outlinewidth": 0,
             "ticks": ""
            },
            "colorscale": [
             [
              0,
              "#0d0887"
             ],
             [
              0.1111111111111111,
              "#46039f"
             ],
             [
              0.2222222222222222,
              "#7201a8"
             ],
             [
              0.3333333333333333,
              "#9c179e"
             ],
             [
              0.4444444444444444,
              "#bd3786"
             ],
             [
              0.5555555555555556,
              "#d8576b"
             ],
             [
              0.6666666666666666,
              "#ed7953"
             ],
             [
              0.7777777777777778,
              "#fb9f3a"
             ],
             [
              0.8888888888888888,
              "#fdca26"
             ],
             [
              1,
              "#f0f921"
             ]
            ],
            "type": "heatmap"
           }
          ],
          "heatmapgl": [
           {
            "colorbar": {
             "outlinewidth": 0,
             "ticks": ""
            },
            "colorscale": [
             [
              0,
              "#0d0887"
             ],
             [
              0.1111111111111111,
              "#46039f"
             ],
             [
              0.2222222222222222,
              "#7201a8"
             ],
             [
              0.3333333333333333,
              "#9c179e"
             ],
             [
              0.4444444444444444,
              "#bd3786"
             ],
             [
              0.5555555555555556,
              "#d8576b"
             ],
             [
              0.6666666666666666,
              "#ed7953"
             ],
             [
              0.7777777777777778,
              "#fb9f3a"
             ],
             [
              0.8888888888888888,
              "#fdca26"
             ],
             [
              1,
              "#f0f921"
             ]
            ],
            "type": "heatmapgl"
           }
          ],
          "histogram": [
           {
            "marker": {
             "colorbar": {
              "outlinewidth": 0,
              "ticks": ""
             }
            },
            "type": "histogram"
           }
          ],
          "histogram2d": [
           {
            "colorbar": {
             "outlinewidth": 0,
             "ticks": ""
            },
            "colorscale": [
             [
              0,
              "#0d0887"
             ],
             [
              0.1111111111111111,
              "#46039f"
             ],
             [
              0.2222222222222222,
              "#7201a8"
             ],
             [
              0.3333333333333333,
              "#9c179e"
             ],
             [
              0.4444444444444444,
              "#bd3786"
             ],
             [
              0.5555555555555556,
              "#d8576b"
             ],
             [
              0.6666666666666666,
              "#ed7953"
             ],
             [
              0.7777777777777778,
              "#fb9f3a"
             ],
             [
              0.8888888888888888,
              "#fdca26"
             ],
             [
              1,
              "#f0f921"
             ]
            ],
            "type": "histogram2d"
           }
          ],
          "histogram2dcontour": [
           {
            "colorbar": {
             "outlinewidth": 0,
             "ticks": ""
            },
            "colorscale": [
             [
              0,
              "#0d0887"
             ],
             [
              0.1111111111111111,
              "#46039f"
             ],
             [
              0.2222222222222222,
              "#7201a8"
             ],
             [
              0.3333333333333333,
              "#9c179e"
             ],
             [
              0.4444444444444444,
              "#bd3786"
             ],
             [
              0.5555555555555556,
              "#d8576b"
             ],
             [
              0.6666666666666666,
              "#ed7953"
             ],
             [
              0.7777777777777778,
              "#fb9f3a"
             ],
             [
              0.8888888888888888,
              "#fdca26"
             ],
             [
              1,
              "#f0f921"
             ]
            ],
            "type": "histogram2dcontour"
           }
          ],
          "mesh3d": [
           {
            "colorbar": {
             "outlinewidth": 0,
             "ticks": ""
            },
            "type": "mesh3d"
           }
          ],
          "parcoords": [
           {
            "line": {
             "colorbar": {
              "outlinewidth": 0,
              "ticks": ""
             }
            },
            "type": "parcoords"
           }
          ],
          "pie": [
           {
            "automargin": true,
            "type": "pie"
           }
          ],
          "scatter": [
           {
            "marker": {
             "colorbar": {
              "outlinewidth": 0,
              "ticks": ""
             }
            },
            "type": "scatter"
           }
          ],
          "scatter3d": [
           {
            "line": {
             "colorbar": {
              "outlinewidth": 0,
              "ticks": ""
             }
            },
            "marker": {
             "colorbar": {
              "outlinewidth": 0,
              "ticks": ""
             }
            },
            "type": "scatter3d"
           }
          ],
          "scattercarpet": [
           {
            "marker": {
             "colorbar": {
              "outlinewidth": 0,
              "ticks": ""
             }
            },
            "type": "scattercarpet"
           }
          ],
          "scattergeo": [
           {
            "marker": {
             "colorbar": {
              "outlinewidth": 0,
              "ticks": ""
             }
            },
            "type": "scattergeo"
           }
          ],
          "scattergl": [
           {
            "marker": {
             "colorbar": {
              "outlinewidth": 0,
              "ticks": ""
             }
            },
            "type": "scattergl"
           }
          ],
          "scattermapbox": [
           {
            "marker": {
             "colorbar": {
              "outlinewidth": 0,
              "ticks": ""
             }
            },
            "type": "scattermapbox"
           }
          ],
          "scatterpolar": [
           {
            "marker": {
             "colorbar": {
              "outlinewidth": 0,
              "ticks": ""
             }
            },
            "type": "scatterpolar"
           }
          ],
          "scatterpolargl": [
           {
            "marker": {
             "colorbar": {
              "outlinewidth": 0,
              "ticks": ""
             }
            },
            "type": "scatterpolargl"
           }
          ],
          "scatterternary": [
           {
            "marker": {
             "colorbar": {
              "outlinewidth": 0,
              "ticks": ""
             }
            },
            "type": "scatterternary"
           }
          ],
          "surface": [
           {
            "colorbar": {
             "outlinewidth": 0,
             "ticks": ""
            },
            "colorscale": [
             [
              0,
              "#0d0887"
             ],
             [
              0.1111111111111111,
              "#46039f"
             ],
             [
              0.2222222222222222,
              "#7201a8"
             ],
             [
              0.3333333333333333,
              "#9c179e"
             ],
             [
              0.4444444444444444,
              "#bd3786"
             ],
             [
              0.5555555555555556,
              "#d8576b"
             ],
             [
              0.6666666666666666,
              "#ed7953"
             ],
             [
              0.7777777777777778,
              "#fb9f3a"
             ],
             [
              0.8888888888888888,
              "#fdca26"
             ],
             [
              1,
              "#f0f921"
             ]
            ],
            "type": "surface"
           }
          ],
          "table": [
           {
            "cells": {
             "fill": {
              "color": "#EBF0F8"
             },
             "line": {
              "color": "white"
             }
            },
            "header": {
             "fill": {
              "color": "#C8D4E3"
             },
             "line": {
              "color": "white"
             }
            },
            "type": "table"
           }
          ]
         },
         "layout": {
          "annotationdefaults": {
           "arrowcolor": "#2a3f5f",
           "arrowhead": 0,
           "arrowwidth": 1
          },
          "coloraxis": {
           "colorbar": {
            "outlinewidth": 0,
            "ticks": ""
           }
          },
          "colorscale": {
           "diverging": [
            [
             0,
             "#8e0152"
            ],
            [
             0.1,
             "#c51b7d"
            ],
            [
             0.2,
             "#de77ae"
            ],
            [
             0.3,
             "#f1b6da"
            ],
            [
             0.4,
             "#fde0ef"
            ],
            [
             0.5,
             "#f7f7f7"
            ],
            [
             0.6,
             "#e6f5d0"
            ],
            [
             0.7,
             "#b8e186"
            ],
            [
             0.8,
             "#7fbc41"
            ],
            [
             0.9,
             "#4d9221"
            ],
            [
             1,
             "#276419"
            ]
           ],
           "sequential": [
            [
             0,
             "#0d0887"
            ],
            [
             0.1111111111111111,
             "#46039f"
            ],
            [
             0.2222222222222222,
             "#7201a8"
            ],
            [
             0.3333333333333333,
             "#9c179e"
            ],
            [
             0.4444444444444444,
             "#bd3786"
            ],
            [
             0.5555555555555556,
             "#d8576b"
            ],
            [
             0.6666666666666666,
             "#ed7953"
            ],
            [
             0.7777777777777778,
             "#fb9f3a"
            ],
            [
             0.8888888888888888,
             "#fdca26"
            ],
            [
             1,
             "#f0f921"
            ]
           ],
           "sequentialminus": [
            [
             0,
             "#0d0887"
            ],
            [
             0.1111111111111111,
             "#46039f"
            ],
            [
             0.2222222222222222,
             "#7201a8"
            ],
            [
             0.3333333333333333,
             "#9c179e"
            ],
            [
             0.4444444444444444,
             "#bd3786"
            ],
            [
             0.5555555555555556,
             "#d8576b"
            ],
            [
             0.6666666666666666,
             "#ed7953"
            ],
            [
             0.7777777777777778,
             "#fb9f3a"
            ],
            [
             0.8888888888888888,
             "#fdca26"
            ],
            [
             1,
             "#f0f921"
            ]
           ]
          },
          "colorway": [
           "#636efa",
           "#EF553B",
           "#00cc96",
           "#ab63fa",
           "#FFA15A",
           "#19d3f3",
           "#FF6692",
           "#B6E880",
           "#FF97FF",
           "#FECB52"
          ],
          "font": {
           "color": "#2a3f5f"
          },
          "geo": {
           "bgcolor": "white",
           "lakecolor": "white",
           "landcolor": "#E5ECF6",
           "showlakes": true,
           "showland": true,
           "subunitcolor": "white"
          },
          "hoverlabel": {
           "align": "left"
          },
          "hovermode": "closest",
          "mapbox": {
           "style": "light"
          },
          "paper_bgcolor": "white",
          "plot_bgcolor": "#E5ECF6",
          "polar": {
           "angularaxis": {
            "gridcolor": "white",
            "linecolor": "white",
            "ticks": ""
           },
           "bgcolor": "#E5ECF6",
           "radialaxis": {
            "gridcolor": "white",
            "linecolor": "white",
            "ticks": ""
           }
          },
          "scene": {
           "xaxis": {
            "backgroundcolor": "#E5ECF6",
            "gridcolor": "white",
            "gridwidth": 2,
            "linecolor": "white",
            "showbackground": true,
            "ticks": "",
            "zerolinecolor": "white"
           },
           "yaxis": {
            "backgroundcolor": "#E5ECF6",
            "gridcolor": "white",
            "gridwidth": 2,
            "linecolor": "white",
            "showbackground": true,
            "ticks": "",
            "zerolinecolor": "white"
           },
           "zaxis": {
            "backgroundcolor": "#E5ECF6",
            "gridcolor": "white",
            "gridwidth": 2,
            "linecolor": "white",
            "showbackground": true,
            "ticks": "",
            "zerolinecolor": "white"
           }
          },
          "shapedefaults": {
           "line": {
            "color": "#2a3f5f"
           }
          },
          "ternary": {
           "aaxis": {
            "gridcolor": "white",
            "linecolor": "white",
            "ticks": ""
           },
           "baxis": {
            "gridcolor": "white",
            "linecolor": "white",
            "ticks": ""
           },
           "bgcolor": "#E5ECF6",
           "caxis": {
            "gridcolor": "white",
            "linecolor": "white",
            "ticks": ""
           }
          },
          "title": {
           "x": 0.05
          },
          "xaxis": {
           "automargin": true,
           "gridcolor": "white",
           "linecolor": "white",
           "ticks": "",
           "title": {
            "standoff": 15
           },
           "zerolinecolor": "white",
           "zerolinewidth": 2
          },
          "yaxis": {
           "automargin": true,
           "gridcolor": "white",
           "linecolor": "white",
           "ticks": "",
           "title": {
            "standoff": 15
           },
           "zerolinecolor": "white",
           "zerolinewidth": 2
          }
         }
        },
        "title": {
         "font": {
          "color": "#4D5663"
         }
        },
        "xaxis": {
         "gridcolor": "#E1E5ED",
         "showgrid": true,
         "tickfont": {
          "color": "#4D5663"
         },
         "title": {
          "font": {
           "color": "#4D5663"
          },
          "text": ""
         },
         "zerolinecolor": "#E1E5ED"
        },
        "yaxis": {
         "gridcolor": "#E1E5ED",
         "showgrid": true,
         "tickfont": {
          "color": "#4D5663"
         },
         "title": {
          "font": {
           "color": "#4D5663"
          },
          "text": ""
         },
         "zerolinecolor": "#E1E5ED"
        }
       }
      },
      "text/html": [
       "<div>\n",
       "        \n",
       "        \n",
       "            <div id=\"99590465-1778-488b-a139-deeb0742504a\" class=\"plotly-graph-div\" style=\"height:525px; width:100%;\"></div>\n",
       "            <script type=\"text/javascript\">\n",
       "                require([\"plotly\"], function(Plotly) {\n",
       "                    window.PLOTLYENV=window.PLOTLYENV || {};\n",
       "                    window.PLOTLYENV.BASE_URL='https://plotly.your-company.com';\n",
       "                    \n",
       "                if (document.getElementById(\"99590465-1778-488b-a139-deeb0742504a\")) {\n",
       "                    Plotly.newPlot(\n",
       "                        '99590465-1778-488b-a139-deeb0742504a',\n",
       "                        [{\"line\": {\"color\": \"rgba(255, 153, 51, 1.0)\", \"dash\": \"solid\", \"shape\": \"linear\", \"width\": 1.3}, \"mode\": \"lines\", \"name\": \"ANASINIFI_Kad\\u0131n\", \"text\": \"\", \"type\": \"scatter\", \"x\": [0, 1, 2, 3, 4, 5, 6, 7, 8, 9, 10, 11, 12, 13, 14, 15, 16, 17, 18, 19, 20, 21, 22, 23], \"y\": [110, 140, 202, 194, 468, 438, 440, 434, 386, 219, 655, 618, 699, 692, 718, 1053, 2068, 2057, 2294, 2329, 2431, 5508, 6986, 7164]}, {\"line\": {\"color\": \"rgba(55, 128, 191, 1.0)\", \"dash\": \"solid\", \"shape\": \"linear\", \"width\": 1.3}, \"mode\": \"lines\", \"name\": \"ANASINIFI_Erkek\", \"text\": \"\", \"type\": \"scatter\", \"x\": [0, 1, 2, 3, 4, 5, 6, 7, 8, 9, 10, 11, 12, 13, 14, 15, 16, 17, 18, 19, 20, 21, 22, 23], \"y\": [97, 127, 180, 181, 531, 505, 522, 504, 456, 244, 734, 691, 763, 721, 732, 986, 2011, 2033, 2259, 2280, 2376, 5573, 7109, 7324]}, {\"line\": {\"color\": \"rgba(50, 171, 96, 1.0)\", \"dash\": \"solid\", \"shape\": \"linear\", \"width\": 1.3}, \"mode\": \"lines\", \"name\": \"ILKOKUL_Kad\\u0131n\", \"text\": \"\", \"type\": \"scatter\", \"x\": [0, 1, 2, 3, 4, 5, 6, 7, 8, 9, 10, 11, 12, 13, 14, 15, 16, 17, 18, 19, 20, 21, 22, 23], \"y\": [5360, 6987, 13429, 21233, 47068, 44894, 46561, 48432, 52133, 54802, 83690, 78493, 81122, 79512, 86332, 86874, 108400, 102969, 105508, 109188, 110252, 122349, 126615, 125141]}, {\"line\": {\"color\": \"rgba(128, 0, 128, 1.0)\", \"dash\": \"solid\", \"shape\": \"linear\", \"width\": 1.3}, \"mode\": \"lines\", \"name\": \"ILKOKUL_Erkek\", \"text\": \"\", \"type\": \"scatter\", \"x\": [0, 1, 2, 3, 4, 5, 6, 7, 8, 9, 10, 11, 12, 13, 14, 15, 16, 17, 18, 19, 20, 21, 22, 23], \"y\": [6012, 7755, 14950, 22908, 50356, 47409, 49033, 51031, 55507, 57366, 88420, 82025, 84263, 82397, 90500, 89690, 113556, 107056, 109653, 114144, 115344, 127937, 132483, 130735]}, {\"line\": {\"color\": \"rgba(219, 64, 82, 1.0)\", \"dash\": \"solid\", \"shape\": \"linear\", \"width\": 1.3}, \"mode\": \"lines\", \"name\": \"HEP_Kad\\u0131n\", \"text\": \"\", \"type\": \"scatter\", \"x\": [0, 1, 2, 3, 4, 5, 6, 7, 8, 9, 10, 11, 12, 13, 14, 15, 16, 17, 18, 19, 20, 21, 22, 23], \"y\": [0, 0, 6, 10, 28, 22, 17, 30, 130, 146, 409, 365, 666, 587, 690, 223, 604, 517, 729, 690, 768, 877, 966, 869]}, {\"line\": {\"color\": \"rgba(0, 128, 128, 1.0)\", \"dash\": \"solid\", \"shape\": \"linear\", \"width\": 1.3}, \"mode\": \"lines\", \"name\": \"HEP_Erkek\", \"text\": \"\", \"type\": \"scatter\", \"x\": [0, 1, 2, 3, 4, 5, 6, 7, 8, 9, 10, 11, 12, 13, 14, 15, 16, 17, 18, 19, 20, 21, 22, 23], \"y\": [0, 2, 9, 10, 26, 18, 10, 21, 176, 193, 485, 407, 770, 687, 828, 275, 742, 684, 884, 837, 914, 1030, 1103, 1003]}, {\"line\": {\"color\": \"rgba(255, 255, 51, 1.0)\", \"dash\": \"solid\", \"shape\": \"linear\", \"width\": 1.3}, \"mode\": \"lines\", \"name\": \"LISE_Kad\\u0131n\", \"text\": \"\", \"type\": \"scatter\", \"x\": [0, 1, 2, 3, 4, 5, 6, 7, 8, 9, 10, 11, 12, 13, 14, 15, 16, 17, 18, 19, 20, 21, 22, 23], \"y\": [4501, 5692, 12092, 14176, 25667, 23996, 19581, 25395, 27991, 23350, 31258, 27779, 26564, 26255, 30303, 21347, 29316, 26386, 25696, 27772, 27685, 25637, 25715, 24581]}, {\"line\": {\"color\": \"rgba(128, 128, 0, 1.0)\", \"dash\": \"solid\", \"shape\": \"linear\", \"width\": 1.3}, \"mode\": \"lines\", \"name\": \"LISE_Erkek\", \"text\": \"\", \"type\": \"scatter\", \"x\": [0, 1, 2, 3, 4, 5, 6, 7, 8, 9, 10, 11, 12, 13, 14, 15, 16, 17, 18, 19, 20, 21, 22, 23], \"y\": [3677, 4566, 9434, 10948, 20136, 18586, 15405, 19729, 22268, 18020, 24842, 21715, 20252, 19949, 24173, 16327, 23235, 20426, 19686, 22062, 22025, 20287, 20207, 19334]}, {\"line\": {\"color\": \"rgba(251, 128, 114, 1.0)\", \"dash\": \"solid\", \"shape\": \"linear\", \"width\": 1.3}, \"mode\": \"lines\", \"name\": \"ORTAOKUL_Kad\\u0131n\", \"text\": \"\", \"type\": \"scatter\", \"x\": [0, 1, 2, 3, 4, 5, 6, 7, 8, 9, 10, 11, 12, 13, 14, 15, 16, 17, 18, 19, 20, 21, 22, 23], \"y\": [17916, 23109, 41071, 49100, 81907, 78775, 70428, 83615, 90922, 80302, 103705, 96046, 92197, 90742, 104911, 82763, 108190, 99822, 98936, 106644, 106726, 104893, 105563, 104489]}, {\"line\": {\"color\": \"rgba(128, 177, 211, 1.0)\", \"dash\": \"solid\", \"shape\": \"linear\", \"width\": 1.3}, \"mode\": \"lines\", \"name\": \"ORTAOKUL_Erkek\", \"text\": \"\", \"type\": \"scatter\", \"x\": [0, 1, 2, 3, 4, 5, 6, 7, 8, 9, 10, 11, 12, 13, 14, 15, 16, 17, 18, 19, 20, 21, 22, 23], \"y\": [17612, 22560, 40738, 48008, 81903, 78281, 70034, 83096, 91513, 80121, 105017, 96021, 91728, 89550, 106570, 82455, 110429, 100517, 99586, 108953, 108939, 106696, 107485, 106257]}],\n",
       "                        {\"legend\": {\"bgcolor\": \"#F5F6F9\", \"font\": {\"color\": \"#4D5663\"}}, \"paper_bgcolor\": \"#F5F6F9\", \"plot_bgcolor\": \"#F5F6F9\", \"template\": {\"data\": {\"bar\": [{\"error_x\": {\"color\": \"#2a3f5f\"}, \"error_y\": {\"color\": \"#2a3f5f\"}, \"marker\": {\"line\": {\"color\": \"#E5ECF6\", \"width\": 0.5}}, \"type\": \"bar\"}], \"barpolar\": [{\"marker\": {\"line\": {\"color\": \"#E5ECF6\", \"width\": 0.5}}, \"type\": \"barpolar\"}], \"carpet\": [{\"aaxis\": {\"endlinecolor\": \"#2a3f5f\", \"gridcolor\": \"white\", \"linecolor\": \"white\", \"minorgridcolor\": \"white\", \"startlinecolor\": \"#2a3f5f\"}, \"baxis\": {\"endlinecolor\": \"#2a3f5f\", \"gridcolor\": \"white\", \"linecolor\": \"white\", \"minorgridcolor\": \"white\", \"startlinecolor\": \"#2a3f5f\"}, \"type\": \"carpet\"}], \"choropleth\": [{\"colorbar\": {\"outlinewidth\": 0, \"ticks\": \"\"}, \"type\": \"choropleth\"}], \"contour\": [{\"colorbar\": {\"outlinewidth\": 0, \"ticks\": \"\"}, \"colorscale\": [[0.0, \"#0d0887\"], [0.1111111111111111, \"#46039f\"], [0.2222222222222222, \"#7201a8\"], [0.3333333333333333, \"#9c179e\"], [0.4444444444444444, \"#bd3786\"], [0.5555555555555556, \"#d8576b\"], [0.6666666666666666, \"#ed7953\"], [0.7777777777777778, \"#fb9f3a\"], [0.8888888888888888, \"#fdca26\"], [1.0, \"#f0f921\"]], \"type\": \"contour\"}], \"contourcarpet\": [{\"colorbar\": {\"outlinewidth\": 0, \"ticks\": \"\"}, \"type\": \"contourcarpet\"}], \"heatmap\": [{\"colorbar\": {\"outlinewidth\": 0, \"ticks\": \"\"}, \"colorscale\": [[0.0, \"#0d0887\"], [0.1111111111111111, \"#46039f\"], [0.2222222222222222, \"#7201a8\"], [0.3333333333333333, \"#9c179e\"], [0.4444444444444444, \"#bd3786\"], [0.5555555555555556, \"#d8576b\"], [0.6666666666666666, \"#ed7953\"], [0.7777777777777778, \"#fb9f3a\"], [0.8888888888888888, \"#fdca26\"], [1.0, \"#f0f921\"]], \"type\": \"heatmap\"}], \"heatmapgl\": [{\"colorbar\": {\"outlinewidth\": 0, \"ticks\": \"\"}, \"colorscale\": [[0.0, \"#0d0887\"], [0.1111111111111111, \"#46039f\"], [0.2222222222222222, \"#7201a8\"], [0.3333333333333333, \"#9c179e\"], [0.4444444444444444, \"#bd3786\"], [0.5555555555555556, \"#d8576b\"], [0.6666666666666666, \"#ed7953\"], [0.7777777777777778, \"#fb9f3a\"], [0.8888888888888888, \"#fdca26\"], [1.0, \"#f0f921\"]], \"type\": \"heatmapgl\"}], \"histogram\": [{\"marker\": {\"colorbar\": {\"outlinewidth\": 0, \"ticks\": \"\"}}, \"type\": \"histogram\"}], \"histogram2d\": [{\"colorbar\": {\"outlinewidth\": 0, \"ticks\": \"\"}, \"colorscale\": [[0.0, \"#0d0887\"], [0.1111111111111111, \"#46039f\"], [0.2222222222222222, \"#7201a8\"], [0.3333333333333333, \"#9c179e\"], [0.4444444444444444, \"#bd3786\"], [0.5555555555555556, \"#d8576b\"], [0.6666666666666666, \"#ed7953\"], [0.7777777777777778, \"#fb9f3a\"], [0.8888888888888888, \"#fdca26\"], [1.0, \"#f0f921\"]], \"type\": \"histogram2d\"}], \"histogram2dcontour\": [{\"colorbar\": {\"outlinewidth\": 0, \"ticks\": \"\"}, \"colorscale\": [[0.0, \"#0d0887\"], [0.1111111111111111, \"#46039f\"], [0.2222222222222222, \"#7201a8\"], [0.3333333333333333, \"#9c179e\"], [0.4444444444444444, \"#bd3786\"], [0.5555555555555556, \"#d8576b\"], [0.6666666666666666, \"#ed7953\"], [0.7777777777777778, \"#fb9f3a\"], [0.8888888888888888, \"#fdca26\"], [1.0, \"#f0f921\"]], \"type\": \"histogram2dcontour\"}], \"mesh3d\": [{\"colorbar\": {\"outlinewidth\": 0, \"ticks\": \"\"}, \"type\": \"mesh3d\"}], \"parcoords\": [{\"line\": {\"colorbar\": {\"outlinewidth\": 0, \"ticks\": \"\"}}, \"type\": \"parcoords\"}], \"pie\": [{\"automargin\": true, \"type\": \"pie\"}], \"scatter\": [{\"marker\": {\"colorbar\": {\"outlinewidth\": 0, \"ticks\": \"\"}}, \"type\": \"scatter\"}], \"scatter3d\": [{\"line\": {\"colorbar\": {\"outlinewidth\": 0, \"ticks\": \"\"}}, \"marker\": {\"colorbar\": {\"outlinewidth\": 0, \"ticks\": \"\"}}, \"type\": \"scatter3d\"}], \"scattercarpet\": [{\"marker\": {\"colorbar\": {\"outlinewidth\": 0, \"ticks\": \"\"}}, \"type\": \"scattercarpet\"}], \"scattergeo\": [{\"marker\": {\"colorbar\": {\"outlinewidth\": 0, \"ticks\": \"\"}}, \"type\": \"scattergeo\"}], \"scattergl\": [{\"marker\": {\"colorbar\": {\"outlinewidth\": 0, \"ticks\": \"\"}}, \"type\": \"scattergl\"}], \"scattermapbox\": [{\"marker\": {\"colorbar\": {\"outlinewidth\": 0, \"ticks\": \"\"}}, \"type\": \"scattermapbox\"}], \"scatterpolar\": [{\"marker\": {\"colorbar\": {\"outlinewidth\": 0, \"ticks\": \"\"}}, \"type\": \"scatterpolar\"}], \"scatterpolargl\": [{\"marker\": {\"colorbar\": {\"outlinewidth\": 0, \"ticks\": \"\"}}, \"type\": \"scatterpolargl\"}], \"scatterternary\": [{\"marker\": {\"colorbar\": {\"outlinewidth\": 0, \"ticks\": \"\"}}, \"type\": \"scatterternary\"}], \"surface\": [{\"colorbar\": {\"outlinewidth\": 0, \"ticks\": \"\"}, \"colorscale\": [[0.0, \"#0d0887\"], [0.1111111111111111, \"#46039f\"], [0.2222222222222222, \"#7201a8\"], [0.3333333333333333, \"#9c179e\"], [0.4444444444444444, \"#bd3786\"], [0.5555555555555556, \"#d8576b\"], [0.6666666666666666, \"#ed7953\"], [0.7777777777777778, \"#fb9f3a\"], [0.8888888888888888, \"#fdca26\"], [1.0, \"#f0f921\"]], \"type\": \"surface\"}], \"table\": [{\"cells\": {\"fill\": {\"color\": \"#EBF0F8\"}, \"line\": {\"color\": \"white\"}}, \"header\": {\"fill\": {\"color\": \"#C8D4E3\"}, \"line\": {\"color\": \"white\"}}, \"type\": \"table\"}]}, \"layout\": {\"annotationdefaults\": {\"arrowcolor\": \"#2a3f5f\", \"arrowhead\": 0, \"arrowwidth\": 1}, \"coloraxis\": {\"colorbar\": {\"outlinewidth\": 0, \"ticks\": \"\"}}, \"colorscale\": {\"diverging\": [[0, \"#8e0152\"], [0.1, \"#c51b7d\"], [0.2, \"#de77ae\"], [0.3, \"#f1b6da\"], [0.4, \"#fde0ef\"], [0.5, \"#f7f7f7\"], [0.6, \"#e6f5d0\"], [0.7, \"#b8e186\"], [0.8, \"#7fbc41\"], [0.9, \"#4d9221\"], [1, \"#276419\"]], \"sequential\": [[0.0, \"#0d0887\"], [0.1111111111111111, \"#46039f\"], [0.2222222222222222, \"#7201a8\"], [0.3333333333333333, \"#9c179e\"], [0.4444444444444444, \"#bd3786\"], [0.5555555555555556, \"#d8576b\"], [0.6666666666666666, \"#ed7953\"], [0.7777777777777778, \"#fb9f3a\"], [0.8888888888888888, \"#fdca26\"], [1.0, \"#f0f921\"]], \"sequentialminus\": [[0.0, \"#0d0887\"], [0.1111111111111111, \"#46039f\"], [0.2222222222222222, \"#7201a8\"], [0.3333333333333333, \"#9c179e\"], [0.4444444444444444, \"#bd3786\"], [0.5555555555555556, \"#d8576b\"], [0.6666666666666666, \"#ed7953\"], [0.7777777777777778, \"#fb9f3a\"], [0.8888888888888888, \"#fdca26\"], [1.0, \"#f0f921\"]]}, \"colorway\": [\"#636efa\", \"#EF553B\", \"#00cc96\", \"#ab63fa\", \"#FFA15A\", \"#19d3f3\", \"#FF6692\", \"#B6E880\", \"#FF97FF\", \"#FECB52\"], \"font\": {\"color\": \"#2a3f5f\"}, \"geo\": {\"bgcolor\": \"white\", \"lakecolor\": \"white\", \"landcolor\": \"#E5ECF6\", \"showlakes\": true, \"showland\": true, \"subunitcolor\": \"white\"}, \"hoverlabel\": {\"align\": \"left\"}, \"hovermode\": \"closest\", \"mapbox\": {\"style\": \"light\"}, \"paper_bgcolor\": \"white\", \"plot_bgcolor\": \"#E5ECF6\", \"polar\": {\"angularaxis\": {\"gridcolor\": \"white\", \"linecolor\": \"white\", \"ticks\": \"\"}, \"bgcolor\": \"#E5ECF6\", \"radialaxis\": {\"gridcolor\": \"white\", \"linecolor\": \"white\", \"ticks\": \"\"}}, \"scene\": {\"xaxis\": {\"backgroundcolor\": \"#E5ECF6\", \"gridcolor\": \"white\", \"gridwidth\": 2, \"linecolor\": \"white\", \"showbackground\": true, \"ticks\": \"\", \"zerolinecolor\": \"white\"}, \"yaxis\": {\"backgroundcolor\": \"#E5ECF6\", \"gridcolor\": \"white\", \"gridwidth\": 2, \"linecolor\": \"white\", \"showbackground\": true, \"ticks\": \"\", \"zerolinecolor\": \"white\"}, \"zaxis\": {\"backgroundcolor\": \"#E5ECF6\", \"gridcolor\": \"white\", \"gridwidth\": 2, \"linecolor\": \"white\", \"showbackground\": true, \"ticks\": \"\", \"zerolinecolor\": \"white\"}}, \"shapedefaults\": {\"line\": {\"color\": \"#2a3f5f\"}}, \"ternary\": {\"aaxis\": {\"gridcolor\": \"white\", \"linecolor\": \"white\", \"ticks\": \"\"}, \"baxis\": {\"gridcolor\": \"white\", \"linecolor\": \"white\", \"ticks\": \"\"}, \"bgcolor\": \"#E5ECF6\", \"caxis\": {\"gridcolor\": \"white\", \"linecolor\": \"white\", \"ticks\": \"\"}}, \"title\": {\"x\": 0.05}, \"xaxis\": {\"automargin\": true, \"gridcolor\": \"white\", \"linecolor\": \"white\", \"ticks\": \"\", \"title\": {\"standoff\": 15}, \"zerolinecolor\": \"white\", \"zerolinewidth\": 2}, \"yaxis\": {\"automargin\": true, \"gridcolor\": \"white\", \"linecolor\": \"white\", \"ticks\": \"\", \"title\": {\"standoff\": 15}, \"zerolinecolor\": \"white\", \"zerolinewidth\": 2}}}, \"title\": {\"font\": {\"color\": \"#4D5663\"}}, \"xaxis\": {\"gridcolor\": \"#E1E5ED\", \"showgrid\": true, \"tickfont\": {\"color\": \"#4D5663\"}, \"title\": {\"font\": {\"color\": \"#4D5663\"}, \"text\": \"\"}, \"zerolinecolor\": \"#E1E5ED\"}, \"yaxis\": {\"gridcolor\": \"#E1E5ED\", \"showgrid\": true, \"tickfont\": {\"color\": \"#4D5663\"}, \"title\": {\"font\": {\"color\": \"#4D5663\"}, \"text\": \"\"}, \"zerolinecolor\": \"#E1E5ED\"}},\n",
       "                        {\"showLink\": true, \"linkText\": \"Export to plotly.your-company.com\", \"plotlyServerURL\": \"https://plotly.your-company.com\", \"responsive\": true}\n",
       "                    ).then(function(){\n",
       "                            \n",
       "var gd = document.getElementById('99590465-1778-488b-a139-deeb0742504a');\n",
       "var x = new MutationObserver(function (mutations, observer) {{\n",
       "        var display = window.getComputedStyle(gd).display;\n",
       "        if (!display || display === 'none') {{\n",
       "            console.log([gd, 'removed!']);\n",
       "            Plotly.purge(gd);\n",
       "            observer.disconnect();\n",
       "        }}\n",
       "}});\n",
       "\n",
       "// Listen for the removal of the full notebook cells\n",
       "var notebookContainer = gd.closest('#notebook-container');\n",
       "if (notebookContainer) {{\n",
       "    x.observe(notebookContainer, {childList: true});\n",
       "}}\n",
       "\n",
       "// Listen for the clearing of the current output cell\n",
       "var outputEl = gd.closest('.output');\n",
       "if (outputEl) {{\n",
       "    x.observe(outputEl, {childList: true});\n",
       "}}\n",
       "\n",
       "                        })\n",
       "                };\n",
       "                });\n",
       "            </script>\n",
       "        </div>"
      ]
     },
     "metadata": {},
     "output_type": "display_data"
    }
   ],
   "source": [
    "pd.concat([sinif_cinsiyet['ANASINIFI_Kadın'],sinif_cinsiyet['ANASINIFI_Erkek'],sinif_cinsiyet['ILKOKUL_Kadın'],sinif_cinsiyet['ILKOKUL_Erkek']\n",
    ", sinif_cinsiyet['HEP_Kadın'], sinif_cinsiyet['HEP_Erkek'], sinif_cinsiyet['LISE_Kadın'],sinif_cinsiyet['LISE_Erkek'],\n",
    "          sinif_cinsiyet['ORTAOKUL_Kadın'],sinif_cinsiyet['ORTAOKUL_Erkek']],axis=1).iplot()\n",
    "\n",
    "\n"
   ]
  },
  {
   "cell_type": "markdown",
   "metadata": {},
   "source": [
    "# Arima models according to class "
   ]
  },
  {
   "cell_type": "code",
   "execution_count": 15,
   "metadata": {},
   "outputs": [
    {
     "name": "stdout",
     "output_type": "stream",
     "text": [
      "Fit ARIMA: order=(0, 1, 0) seasonal_order=(0, 1, 0, 12); AIC=185.196, BIC=185.992, Fit time=0.689 seconds\n",
      "Fit ARIMA: order=(1, 1, 0) seasonal_order=(1, 1, 0, 12); AIC=nan, BIC=nan, Fit time=nan seconds\n",
      "Fit ARIMA: order=(0, 1, 1) seasonal_order=(0, 1, 1, 12); AIC=nan, BIC=nan, Fit time=nan seconds\n",
      "Fit ARIMA: order=(0, 1, 0) seasonal_order=(1, 1, 0, 12); AIC=nan, BIC=nan, Fit time=nan seconds\n",
      "Fit ARIMA: order=(0, 1, 0) seasonal_order=(0, 1, 1, 12); AIC=nan, BIC=nan, Fit time=nan seconds\n",
      "Fit ARIMA: order=(0, 1, 0) seasonal_order=(1, 1, 1, 12); AIC=nan, BIC=nan, Fit time=nan seconds\n",
      "Fit ARIMA: order=(1, 1, 0) seasonal_order=(0, 1, 0, 12); AIC=187.029, BIC=188.223, Fit time=0.061 seconds\n",
      "Fit ARIMA: order=(0, 1, 1) seasonal_order=(0, 1, 0, 12); AIC=186.916, BIC=188.110, Fit time=0.076 seconds\n",
      "Fit ARIMA: order=(1, 1, 1) seasonal_order=(0, 1, 0, 12); AIC=188.148, BIC=189.739, Fit time=0.185 seconds\n",
      "Total fit time: 1.026 seconds\n",
      "185.19615814535493\n"
     ]
    }
   ],
   "source": [
    "##Arima \n",
    "\n",
    "reg = auto_arima(sinif_cinsiyet['ANASINIFI_Kadın'][0:24], start_p=0, start_q=0,\n",
    "                           max_p=15, max_q=15, m=12,\n",
    "                           start_P=0, seasonal=True,start_Q=0,\n",
    "                           d=1, D=1, trace=True,\n",
    "                           error_action='ignore',  \n",
    "                           suppress_warnings=True, \n",
    "                           stepwise=True,random_state=20,n_fits=50)\n",
    "print(reg.aic())"
   ]
  },
  {
   "cell_type": "code",
   "execution_count": 16,
   "metadata": {},
   "outputs": [
    {
     "data": {
      "text/plain": [
       "array([ 7786.54545455,  8321.09090909,  8888.63636364,  9765.18181818,\n",
       "       11321.72727273, 11852.27272727, 12630.81818182, 13207.36363636,\n",
       "       13850.90909091, 17469.45454545])"
      ]
     },
     "execution_count": 16,
     "metadata": {},
     "output_type": "execute_result"
    }
   ],
   "source": [
    "Ana_kiz_model= reg.predict(n_periods=10)\n",
    "Ana_kiz_model"
   ]
  },
  {
   "cell_type": "code",
   "execution_count": 17,
   "metadata": {},
   "outputs": [
    {
     "name": "stdout",
     "output_type": "stream",
     "text": [
      "Fit ARIMA: order=(0, 2, 0) seasonal_order=(0, 1, 0, 12); AIC=176.175, BIC=176.780, Fit time=0.008 seconds\n",
      "Fit ARIMA: order=(1, 2, 0) seasonal_order=(1, 1, 0, 12); AIC=nan, BIC=nan, Fit time=nan seconds\n",
      "Fit ARIMA: order=(0, 2, 1) seasonal_order=(0, 1, 1, 12); AIC=nan, BIC=nan, Fit time=nan seconds\n",
      "Fit ARIMA: order=(0, 2, 0) seasonal_order=(1, 1, 0, 12); AIC=nan, BIC=nan, Fit time=nan seconds\n",
      "Fit ARIMA: order=(0, 2, 0) seasonal_order=(0, 1, 1, 12); AIC=nan, BIC=nan, Fit time=nan seconds\n",
      "Fit ARIMA: order=(0, 2, 0) seasonal_order=(1, 1, 1, 12); AIC=nan, BIC=nan, Fit time=nan seconds\n",
      "Fit ARIMA: order=(1, 2, 0) seasonal_order=(0, 1, 0, 12); AIC=177.045, BIC=177.952, Fit time=0.015 seconds\n",
      "Fit ARIMA: order=(0, 2, 1) seasonal_order=(0, 1, 0, 12); AIC=172.433, BIC=173.341, Fit time=0.071 seconds\n",
      "Fit ARIMA: order=(1, 2, 2) seasonal_order=(0, 1, 0, 12); AIC=nan, BIC=nan, Fit time=nan seconds\n",
      "Fit ARIMA: order=(0, 2, 1) seasonal_order=(1, 1, 0, 12); AIC=nan, BIC=nan, Fit time=nan seconds\n",
      "Fit ARIMA: order=(0, 2, 1) seasonal_order=(1, 1, 1, 12); AIC=nan, BIC=nan, Fit time=nan seconds\n",
      "Fit ARIMA: order=(1, 2, 1) seasonal_order=(0, 1, 0, 12); AIC=nan, BIC=nan, Fit time=nan seconds\n",
      "Fit ARIMA: order=(0, 2, 2) seasonal_order=(0, 1, 0, 12); AIC=nan, BIC=nan, Fit time=nan seconds\n",
      "Total fit time: 0.128 seconds\n",
      "172.43316250098786\n"
     ]
    }
   ],
   "source": [
    "\n",
    "reg = auto_arima(sinif_cinsiyet['ANASINIFI_Erkek'][0:24], start_p=0, start_q=0,\n",
    "                           max_p=10, max_q=10, m=12,\n",
    "                           start_P=0, seasonal=True,start_Q=0,\n",
    "                           d=2, D=1, trace=True,\n",
    "                           error_action='ignore',  \n",
    "                           suppress_warnings=True, \n",
    "                           stepwise=True,random_state=20,n_fits=50)\n",
    "print(reg.aic())"
   ]
  },
  {
   "cell_type": "code",
   "execution_count": 18,
   "metadata": {},
   "outputs": [
    {
     "data": {
      "text/plain": [
       "array([ 8647.21456613,  9969.87926948, 11458.99411006, 13304.55908787,\n",
       "       16034.57420291, 17875.03945517, 20032.95484466, 22099.32037138,\n",
       "       24354.13603532, 29823.4018365 ])"
      ]
     },
     "execution_count": 18,
     "metadata": {},
     "output_type": "execute_result"
    }
   ],
   "source": [
    "Ana_erkek_model= reg.predict(n_periods=10)\n",
    "Ana_erkek_model"
   ]
  },
  {
   "cell_type": "markdown",
   "metadata": {},
   "source": [
    "# ILK OKUL"
   ]
  },
  {
   "cell_type": "code",
   "execution_count": 19,
   "metadata": {},
   "outputs": [
    {
     "name": "stdout",
     "output_type": "stream",
     "text": [
      "Fit ARIMA: order=(0, 2, 0) seasonal_order=(1, 1, 0, 12); AIC=nan, BIC=nan, Fit time=nan seconds\n",
      "Fit ARIMA: order=(0, 2, 0) seasonal_order=(0, 1, 0, 12); AIC=224.572, BIC=225.177, Fit time=0.000 seconds\n",
      "Fit ARIMA: order=(1, 2, 0) seasonal_order=(1, 1, 0, 12); AIC=nan, BIC=nan, Fit time=nan seconds\n",
      "Fit ARIMA: order=(0, 2, 1) seasonal_order=(0, 1, 1, 12); AIC=nan, BIC=nan, Fit time=nan seconds\n",
      "Fit ARIMA: order=(0, 2, 0) seasonal_order=(0, 1, 1, 12); AIC=nan, BIC=nan, Fit time=nan seconds\n",
      "Fit ARIMA: order=(0, 2, 0) seasonal_order=(1, 1, 1, 12); AIC=nan, BIC=nan, Fit time=nan seconds\n",
      "Fit ARIMA: order=(1, 2, 0) seasonal_order=(0, 1, 0, 12); AIC=nan, BIC=nan, Fit time=nan seconds\n",
      "Fit ARIMA: order=(0, 2, 1) seasonal_order=(0, 1, 0, 12); AIC=nan, BIC=nan, Fit time=nan seconds\n",
      "Fit ARIMA: order=(1, 2, 1) seasonal_order=(0, 1, 0, 12); AIC=nan, BIC=nan, Fit time=nan seconds\n",
      "Total fit time: 0.020 seconds\n",
      "224.57199431911084\n"
     ]
    }
   ],
   "source": [
    "\n",
    "reg = auto_arima(sinif_cinsiyet['ILKOKUL_Kadın'][0:24], start_p=0, start_q=0,\n",
    "                           max_p=10, max_q=10, m=12,\n",
    "                           start_P=1, seasonal=True,start_Q=0,\n",
    "                           d=2, D=1, trace=True,\n",
    "                           error_action='ignore',  \n",
    "                           suppress_warnings=True, \n",
    "                           stepwise=True,random_state=20,n_fits=50)\n",
    "print(reg.aic())"
   ]
  },
  {
   "cell_type": "code",
   "execution_count": 20,
   "metadata": {},
   "outputs": [
    {
     "data": {
      "text/plain": [
       "array([132189., 135694., 148325., 155374., 184103., 186571., 197705.,\n",
       "       210676., 221727., 244507.])"
      ]
     },
     "execution_count": 20,
     "metadata": {},
     "output_type": "execute_result"
    }
   ],
   "source": [
    "ILK_Kadın_model= reg.predict(n_periods=10)\n",
    "ILK_Kadın_model"
   ]
  },
  {
   "cell_type": "code",
   "execution_count": 21,
   "metadata": {},
   "outputs": [
    {
     "name": "stdout",
     "output_type": "stream",
     "text": [
      "Fit ARIMA: order=(0, 2, 0) seasonal_order=(0, 1, 0, 12); AIC=226.680, BIC=227.285, Fit time=0.008 seconds\n",
      "Fit ARIMA: order=(1, 2, 0) seasonal_order=(1, 1, 0, 12); AIC=nan, BIC=nan, Fit time=nan seconds\n",
      "Fit ARIMA: order=(0, 2, 1) seasonal_order=(0, 1, 1, 12); AIC=nan, BIC=nan, Fit time=nan seconds\n",
      "Fit ARIMA: order=(0, 2, 0) seasonal_order=(1, 1, 0, 12); AIC=nan, BIC=nan, Fit time=nan seconds\n",
      "Fit ARIMA: order=(0, 2, 0) seasonal_order=(0, 1, 1, 12); AIC=nan, BIC=nan, Fit time=nan seconds\n",
      "Fit ARIMA: order=(0, 2, 0) seasonal_order=(1, 1, 1, 12); AIC=nan, BIC=nan, Fit time=nan seconds\n",
      "Fit ARIMA: order=(1, 2, 0) seasonal_order=(0, 1, 0, 12); AIC=nan, BIC=nan, Fit time=nan seconds\n",
      "Fit ARIMA: order=(0, 2, 1) seasonal_order=(0, 1, 0, 12); AIC=nan, BIC=nan, Fit time=nan seconds\n",
      "Fit ARIMA: order=(1, 2, 1) seasonal_order=(0, 1, 0, 12); AIC=nan, BIC=nan, Fit time=nan seconds\n",
      "Total fit time: 0.018 seconds\n",
      "226.67998089335353\n"
     ]
    }
   ],
   "source": [
    "\n",
    "reg = auto_arima(sinif_cinsiyet['ILKOKUL_Erkek'][0:24], start_p=0, start_q=0,\n",
    "                           max_p=10, max_q=10, m=12,\n",
    "                           start_P=0, seasonal=True,start_Q=0,\n",
    "                           d=2, D=1, trace=True,\n",
    "                           error_action='ignore',  \n",
    "                           suppress_warnings=True, \n",
    "                           stepwise=True,random_state=20,n_fits=50)\n",
    "print(reg.aic())"
   ]
  },
  {
   "cell_type": "code",
   "execution_count": 336,
   "metadata": {},
   "outputs": [
    {
     "data": {
      "text/plain": [
       "array([138445.6, 142877.8, 158104.6, 165244. , 197885. , 200985.6,\n",
       "       214008.8, 229751.6, 243029. , 268525. ])"
      ]
     },
     "execution_count": 336,
     "metadata": {},
     "output_type": "execute_result"
    }
   ],
   "source": [
    "ILK_erkek_model= reg.predict(n_periods=10)\n",
    "ILK_erkek_model"
   ]
  },
  {
   "cell_type": "markdown",
   "metadata": {},
   "source": [
    "# ORTA OKUL"
   ]
  },
  {
   "cell_type": "code",
   "execution_count": 284,
   "metadata": {},
   "outputs": [
    {
     "name": "stdout",
     "output_type": "stream",
     "text": [
      "Fit ARIMA: order=(0, 2, 0) seasonal_order=(0, 0, 0, 12); AIC=461.979, BIC=463.971, Fit time=0.043 seconds\n",
      "Fit ARIMA: order=(1, 2, 0) seasonal_order=(1, 0, 0, 12); AIC=nan, BIC=nan, Fit time=nan seconds\n",
      "Fit ARIMA: order=(0, 2, 1) seasonal_order=(0, 0, 1, 12); AIC=nan, BIC=nan, Fit time=nan seconds\n",
      "Fit ARIMA: order=(0, 2, 0) seasonal_order=(1, 0, 0, 12); AIC=nan, BIC=nan, Fit time=nan seconds\n",
      "Fit ARIMA: order=(0, 2, 0) seasonal_order=(0, 0, 1, 12); AIC=nan, BIC=nan, Fit time=nan seconds\n",
      "Fit ARIMA: order=(0, 2, 0) seasonal_order=(1, 0, 1, 12); AIC=nan, BIC=nan, Fit time=nan seconds\n",
      "Fit ARIMA: order=(1, 2, 0) seasonal_order=(0, 0, 0, 12); AIC=450.600, BIC=453.588, Fit time=0.015 seconds\n",
      "Fit ARIMA: order=(1, 2, 1) seasonal_order=(0, 0, 0, 12); AIC=nan, BIC=nan, Fit time=nan seconds\n",
      "Fit ARIMA: order=(2, 2, 1) seasonal_order=(0, 0, 0, 12); AIC=445.499, BIC=450.477, Fit time=0.059 seconds\n",
      "Fit ARIMA: order=(2, 2, 1) seasonal_order=(1, 0, 0, 12); AIC=nan, BIC=nan, Fit time=nan seconds\n",
      "Fit ARIMA: order=(2, 2, 1) seasonal_order=(0, 0, 1, 12); AIC=nan, BIC=nan, Fit time=nan seconds\n",
      "Fit ARIMA: order=(2, 2, 1) seasonal_order=(1, 0, 1, 12); AIC=nan, BIC=nan, Fit time=nan seconds\n",
      "Fit ARIMA: order=(3, 2, 1) seasonal_order=(0, 0, 0, 12); AIC=439.906, BIC=445.880, Fit time=0.557 seconds\n",
      "Fit ARIMA: order=(3, 2, 0) seasonal_order=(0, 0, 0, 12); AIC=440.957, BIC=445.936, Fit time=0.117 seconds\n",
      "Fit ARIMA: order=(3, 2, 2) seasonal_order=(0, 0, 0, 12); AIC=nan, BIC=nan, Fit time=nan seconds\n",
      "Fit ARIMA: order=(2, 2, 0) seasonal_order=(0, 0, 0, 12); AIC=444.515, BIC=448.498, Fit time=0.106 seconds\n",
      "Fit ARIMA: order=(4, 2, 2) seasonal_order=(0, 0, 0, 12); AIC=nan, BIC=nan, Fit time=nan seconds\n",
      "Fit ARIMA: order=(3, 2, 1) seasonal_order=(1, 0, 0, 12); AIC=nan, BIC=nan, Fit time=nan seconds\n",
      "Fit ARIMA: order=(3, 2, 1) seasonal_order=(0, 0, 1, 12); AIC=nan, BIC=nan, Fit time=nan seconds\n",
      "Fit ARIMA: order=(3, 2, 1) seasonal_order=(1, 0, 1, 12); AIC=nan, BIC=nan, Fit time=nan seconds\n",
      "Fit ARIMA: order=(4, 2, 1) seasonal_order=(0, 0, 0, 12); AIC=442.345, BIC=449.315, Fit time=0.341 seconds\n",
      "Total fit time: 1.325 seconds\n",
      "439.90566742132364\n"
     ]
    }
   ],
   "source": [
    "reg = auto_arima(sinif_cinsiyet['ORTAOKUL_Kadın'][0:24], start_p=0, start_q=0,\n",
    "                           max_p=10, max_q=10, m=12,\n",
    "                           start_P=0, seasonal=True,start_Q=0,\n",
    "                           d=2, D=0, trace=True,\n",
    "                           error_action='ignore',  \n",
    "                           suppress_warnings=True, \n",
    "                           stepwise=True,random_state=20,n_fits=50)\n",
    "print(reg.aic())"
   ]
  },
  {
   "cell_type": "code",
   "execution_count": 285,
   "metadata": {},
   "outputs": [
    {
     "data": {
      "text/plain": [
       "array([120170.85951086, 107783.20162404, 118104.41799692, 115031.18614673,\n",
       "       116886.00219421, 111348.70657111, 118567.72935769, 106413.25646809,\n",
       "       112418.21558332, 103038.01984098])"
      ]
     },
     "execution_count": 285,
     "metadata": {},
     "output_type": "execute_result"
    }
   ],
   "source": [
    "Orta_kiz_model= reg.predict(n_periods=10)\n",
    "Orta_kiz_model"
   ]
  },
  {
   "cell_type": "code",
   "execution_count": 286,
   "metadata": {},
   "outputs": [
    {
     "name": "stdout",
     "output_type": "stream",
     "text": [
      "Fit ARIMA: order=(0, 2, 0) seasonal_order=(0, 0, 0, 12); AIC=465.465, BIC=467.456, Fit time=0.046 seconds\n",
      "Fit ARIMA: order=(1, 2, 0) seasonal_order=(1, 0, 0, 12); AIC=nan, BIC=nan, Fit time=nan seconds\n",
      "Fit ARIMA: order=(0, 2, 1) seasonal_order=(0, 0, 1, 12); AIC=nan, BIC=nan, Fit time=nan seconds\n",
      "Fit ARIMA: order=(0, 2, 0) seasonal_order=(1, 0, 0, 12); AIC=nan, BIC=nan, Fit time=nan seconds\n",
      "Fit ARIMA: order=(0, 2, 0) seasonal_order=(0, 0, 1, 12); AIC=nan, BIC=nan, Fit time=nan seconds\n",
      "Fit ARIMA: order=(0, 2, 0) seasonal_order=(1, 0, 1, 12); AIC=nan, BIC=nan, Fit time=nan seconds\n",
      "Fit ARIMA: order=(1, 2, 0) seasonal_order=(0, 0, 0, 12); AIC=453.192, BIC=456.179, Fit time=0.034 seconds\n",
      "Fit ARIMA: order=(1, 2, 1) seasonal_order=(0, 0, 0, 12); AIC=nan, BIC=nan, Fit time=nan seconds\n",
      "Fit ARIMA: order=(2, 2, 1) seasonal_order=(0, 0, 0, 12); AIC=442.096, BIC=447.075, Fit time=0.239 seconds\n",
      "Fit ARIMA: order=(2, 2, 1) seasonal_order=(1, 0, 0, 12); AIC=nan, BIC=nan, Fit time=nan seconds\n",
      "Fit ARIMA: order=(2, 2, 1) seasonal_order=(0, 0, 1, 12); AIC=nan, BIC=nan, Fit time=nan seconds\n",
      "Fit ARIMA: order=(2, 2, 1) seasonal_order=(1, 0, 1, 12); AIC=nan, BIC=nan, Fit time=nan seconds\n",
      "Fit ARIMA: order=(3, 2, 1) seasonal_order=(0, 0, 0, 12); AIC=442.564, BIC=448.539, Fit time=0.330 seconds\n",
      "Fit ARIMA: order=(2, 2, 0) seasonal_order=(0, 0, 0, 12); AIC=447.089, BIC=451.071, Fit time=0.025 seconds\n",
      "Fit ARIMA: order=(2, 2, 2) seasonal_order=(0, 0, 0, 12); AIC=444.141, BIC=450.115, Fit time=0.111 seconds\n",
      "Fit ARIMA: order=(3, 2, 2) seasonal_order=(0, 0, 0, 12); AIC=nan, BIC=nan, Fit time=nan seconds\n",
      "Total fit time: 0.824 seconds\n",
      "442.0961883798277\n"
     ]
    }
   ],
   "source": [
    "reg = auto_arima(sinif_cinsiyet['ORTAOKUL_Erkek'][0:24], start_p=0, start_q=0,\n",
    "                           max_p=10, max_q=10, m=12,\n",
    "                           start_P=0, seasonal=True,start_Q=0,\n",
    "                           d=2, D=0, trace=True,\n",
    "                           error_action='ignore',  \n",
    "                           suppress_warnings=True, \n",
    "                           stepwise=True,random_state=20,n_fits=50)\n",
    "print(reg.aic())"
   ]
  },
  {
   "cell_type": "code",
   "execution_count": 287,
   "metadata": {},
   "outputs": [
    {
     "data": {
      "text/plain": [
       "array([104623.05443017, 101863.94720077,  98341.13475176,  94366.9667262 ,\n",
       "        89732.42679596,  84499.89419919,  78685.20335588,  72258.03036297,\n",
       "        65236.19601072,  57615.48049546])"
      ]
     },
     "execution_count": 287,
     "metadata": {},
     "output_type": "execute_result"
    }
   ],
   "source": [
    "Orta_erk_model= reg.predict(n_periods=10)\n",
    "Orta_erk_model"
   ]
  },
  {
   "cell_type": "markdown",
   "metadata": {},
   "source": [
    "# Lise"
   ]
  },
  {
   "cell_type": "code",
   "execution_count": 288,
   "metadata": {},
   "outputs": [
    {
     "name": "stdout",
     "output_type": "stream",
     "text": [
      "Fit ARIMA: order=(0, 0, 0) seasonal_order=(0, 1, 0, 12); AIC=212.212, BIC=212.817, Fit time=0.091 seconds\n",
      "Fit ARIMA: order=(1, 0, 0) seasonal_order=(1, 1, 0, 12); AIC=nan, BIC=nan, Fit time=nan seconds\n",
      "Fit ARIMA: order=(0, 0, 1) seasonal_order=(0, 1, 1, 12); AIC=nan, BIC=nan, Fit time=nan seconds\n",
      "Fit ARIMA: order=(0, 0, 0) seasonal_order=(1, 1, 0, 12); AIC=nan, BIC=nan, Fit time=nan seconds\n",
      "Fit ARIMA: order=(0, 0, 0) seasonal_order=(0, 1, 1, 12); AIC=nan, BIC=nan, Fit time=nan seconds\n",
      "Fit ARIMA: order=(0, 0, 0) seasonal_order=(1, 1, 1, 12); AIC=nan, BIC=nan, Fit time=nan seconds\n",
      "Fit ARIMA: order=(1, 0, 0) seasonal_order=(0, 1, 0, 12); AIC=196.099, BIC=197.006, Fit time=0.093 seconds\n",
      "Fit ARIMA: order=(1, 0, 1) seasonal_order=(0, 1, 0, 12); AIC=198.673, BIC=199.884, Fit time=0.111 seconds\n",
      "Fit ARIMA: order=(2, 0, 1) seasonal_order=(0, 1, 0, 12); AIC=nan, BIC=nan, Fit time=nan seconds\n",
      "Fit ARIMA: order=(1, 0, 0) seasonal_order=(0, 1, 1, 12); AIC=nan, BIC=nan, Fit time=nan seconds\n",
      "Fit ARIMA: order=(1, 0, 0) seasonal_order=(1, 1, 1, 12); AIC=nan, BIC=nan, Fit time=nan seconds\n",
      "Fit ARIMA: order=(2, 0, 0) seasonal_order=(0, 1, 0, 12); AIC=198.459, BIC=199.670, Fit time=0.037 seconds\n",
      "Total fit time: 0.340 seconds\n",
      "196.0985926228555\n"
     ]
    }
   ],
   "source": [
    "reg = auto_arima(sinif_cinsiyet['LISE_Kadın'][0:24], start_p=0, start_q=0,\n",
    "                           max_p=10, max_q=10, m=12,\n",
    "                           start_P=0, seasonal=True,start_Q=0,\n",
    "                           d=0, D=1, trace=True,\n",
    "                           error_action='ignore',  \n",
    "                           suppress_warnings=True, \n",
    "                           stepwise=True,random_state=20,n_fits=50)\n",
    "print(reg.aic())"
   ]
  },
  {
   "cell_type": "code",
   "execution_count": 289,
   "metadata": {},
   "outputs": [
    {
     "data": {
      "text/plain": [
       "array([33125.34998619, 29324.99063208, 27863.90024468, 27366.44928472,\n",
       "       31270.13741345, 22203.62634896, 30087.99924747, 27093.19355278,\n",
       "       26353.56668395, 28391.56344795])"
      ]
     },
     "execution_count": 289,
     "metadata": {},
     "output_type": "execute_result"
    }
   ],
   "source": [
    "lise_kiz_model= reg.predict(n_periods=10)\n",
    "lise_kiz_model"
   ]
  },
  {
   "cell_type": "code",
   "execution_count": 377,
   "metadata": {},
   "outputs": [
    {
     "name": "stdout",
     "output_type": "stream",
     "text": [
      "Fit ARIMA: order=(0, 1, 0) seasonal_order=(0, 1, 0, 12); AIC=175.201, BIC=175.595, Fit time=0.114 seconds\n",
      "Fit ARIMA: order=(1, 1, 0) seasonal_order=(1, 1, 0, 12); AIC=nan, BIC=nan, Fit time=nan seconds\n",
      "Fit ARIMA: order=(0, 1, 1) seasonal_order=(0, 1, 1, 12); AIC=nan, BIC=nan, Fit time=nan seconds\n",
      "Fit ARIMA: order=(0, 1, 0) seasonal_order=(1, 1, 0, 12); AIC=nan, BIC=nan, Fit time=nan seconds\n",
      "Fit ARIMA: order=(0, 1, 0) seasonal_order=(0, 1, 1, 12); AIC=nan, BIC=nan, Fit time=nan seconds\n",
      "Fit ARIMA: order=(0, 1, 0) seasonal_order=(1, 1, 1, 12); AIC=nan, BIC=nan, Fit time=nan seconds\n",
      "Fit ARIMA: order=(1, 1, 0) seasonal_order=(0, 1, 0, 12); AIC=177.208, BIC=177.800, Fit time=0.089 seconds\n",
      "Fit ARIMA: order=(0, 1, 1) seasonal_order=(0, 1, 0, 12); AIC=177.878, BIC=178.470, Fit time=0.057 seconds\n",
      "Fit ARIMA: order=(1, 1, 1) seasonal_order=(0, 1, 0, 12); AIC=176.797, BIC=177.586, Fit time=0.122 seconds\n",
      "Total fit time: 0.388 seconds\n",
      "175.2006369978626\n"
     ]
    }
   ],
   "source": [
    "reg = auto_arima(sinif_cinsiyet['LISE_Erkek'][0:24], start_p=0, start_q=0,\n",
    "                           max_p=10, max_q=10, m=12,\n",
    "                           start_P=0, seasonal=True,start_Q=0,\n",
    "                           d=1, D=1, trace=True,\n",
    "                           error_action='ignore',  \n",
    "                           suppress_warnings=True, \n",
    "                           stepwise=True,random_state=20,n_fits=50)\n",
    "print(reg.aic())"
   ]
  },
  {
   "cell_type": "code",
   "execution_count": 378,
   "metadata": {},
   "outputs": [
    {
     "data": {
      "text/plain": [
       "array([25519.22222222, 20802.44444444, 17749.66666667, 15856.88888889,\n",
       "       18491.11111111,  9055.33333333, 14373.55555556,  9974.77777778,\n",
       "        7645.        ,  8431.22222222])"
      ]
     },
     "execution_count": 378,
     "metadata": {},
     "output_type": "execute_result"
    }
   ],
   "source": [
    "lise_erk_model= reg.predict(n_periods=10)\n",
    "lise_erk_model"
   ]
  },
  {
   "cell_type": "markdown",
   "metadata": {},
   "source": [
    "# HEP"
   ]
  },
  {
   "cell_type": "code",
   "execution_count": 379,
   "metadata": {},
   "outputs": [
    {
     "name": "stdout",
     "output_type": "stream",
     "text": [
      "Fit ARIMA: order=(0, 1, 0) seasonal_order=(0, 1, 0, 12); AIC=126.599, BIC=126.993, Fit time=0.302 seconds\n",
      "Fit ARIMA: order=(1, 1, 0) seasonal_order=(1, 1, 0, 12); AIC=nan, BIC=nan, Fit time=nan seconds\n",
      "Fit ARIMA: order=(0, 1, 1) seasonal_order=(0, 1, 1, 12); AIC=nan, BIC=nan, Fit time=nan seconds\n",
      "Fit ARIMA: order=(0, 1, 0) seasonal_order=(1, 1, 0, 12); AIC=nan, BIC=nan, Fit time=nan seconds\n",
      "Fit ARIMA: order=(0, 1, 0) seasonal_order=(0, 1, 1, 12); AIC=nan, BIC=nan, Fit time=nan seconds\n",
      "Fit ARIMA: order=(0, 1, 0) seasonal_order=(1, 1, 1, 12); AIC=nan, BIC=nan, Fit time=nan seconds\n",
      "Fit ARIMA: order=(1, 1, 0) seasonal_order=(0, 1, 0, 12); AIC=123.780, BIC=124.372, Fit time=0.058 seconds\n",
      "Fit ARIMA: order=(1, 1, 1) seasonal_order=(0, 1, 0, 12); AIC=125.780, BIC=126.569, Fit time=0.095 seconds\n",
      "Fit ARIMA: order=(2, 1, 1) seasonal_order=(0, 1, 0, 12); AIC=nan, BIC=nan, Fit time=nan seconds\n",
      "Fit ARIMA: order=(1, 1, 0) seasonal_order=(0, 1, 1, 12); AIC=nan, BIC=nan, Fit time=nan seconds\n",
      "Fit ARIMA: order=(1, 1, 0) seasonal_order=(1, 1, 1, 12); AIC=nan, BIC=nan, Fit time=nan seconds\n",
      "Fit ARIMA: order=(2, 1, 0) seasonal_order=(0, 1, 0, 12); AIC=125.780, BIC=126.569, Fit time=0.167 seconds\n",
      "Total fit time: 0.629 seconds\n",
      "123.7803639404197\n"
     ]
    }
   ],
   "source": [
    "reg = auto_arima(sinif_cinsiyet['HEP_Kadın'][0:24], start_p=0, start_q=0,\n",
    "                           max_p=10, max_q=10, m=12,\n",
    "                           start_P=0, seasonal=True,start_Q=0,\n",
    "                           d=1, D=1, trace=True,\n",
    "                           error_action='ignore',  \n",
    "                           suppress_warnings=True, \n",
    "                           stepwise=True,random_state=20,n_fits=50)\n",
    "print(reg.aic())"
   ]
  },
  {
   "cell_type": "code",
   "execution_count": 380,
   "metadata": {},
   "outputs": [
    {
     "data": {
      "text/plain": [
       "array([1094.38158484, 1090.94181611, 1378.92504541, 1320.21693363,\n",
       "       1422.80093007,  968.25895975, 1353.71324218, 1276.1434299 ,\n",
       "       1494.48011245, 1463.74001774])"
      ]
     },
     "execution_count": 380,
     "metadata": {},
     "output_type": "execute_result"
    }
   ],
   "source": [
    "hep_kiz_model= reg.predict(n_periods=10)\n",
    "hep_kiz_model"
   ]
  },
  {
   "cell_type": "code",
   "execution_count": 381,
   "metadata": {},
   "outputs": [
    {
     "name": "stdout",
     "output_type": "stream",
     "text": [
      "Fit ARIMA: order=(0, 1, 0) seasonal_order=(0, 1, 0, 12); AIC=129.508, BIC=129.903, Fit time=0.008 seconds\n",
      "Fit ARIMA: order=(1, 1, 0) seasonal_order=(1, 1, 0, 12); AIC=nan, BIC=nan, Fit time=nan seconds\n",
      "Fit ARIMA: order=(0, 1, 1) seasonal_order=(0, 1, 1, 12); AIC=nan, BIC=nan, Fit time=nan seconds\n",
      "Fit ARIMA: order=(0, 1, 0) seasonal_order=(1, 1, 0, 12); AIC=nan, BIC=nan, Fit time=nan seconds\n",
      "Fit ARIMA: order=(0, 1, 0) seasonal_order=(0, 1, 1, 12); AIC=nan, BIC=nan, Fit time=nan seconds\n",
      "Fit ARIMA: order=(0, 1, 0) seasonal_order=(1, 1, 1, 12); AIC=nan, BIC=nan, Fit time=nan seconds\n",
      "Fit ARIMA: order=(1, 1, 0) seasonal_order=(0, 1, 0, 12); AIC=126.962, BIC=127.553, Fit time=0.187 seconds\n",
      "Fit ARIMA: order=(1, 1, 1) seasonal_order=(0, 1, 0, 12); AIC=127.422, BIC=128.211, Fit time=0.243 seconds\n",
      "Fit ARIMA: order=(2, 1, 1) seasonal_order=(0, 1, 0, 12); AIC=nan, BIC=nan, Fit time=nan seconds\n",
      "Fit ARIMA: order=(1, 1, 0) seasonal_order=(0, 1, 1, 12); AIC=nan, BIC=nan, Fit time=nan seconds\n",
      "Fit ARIMA: order=(1, 1, 0) seasonal_order=(1, 1, 1, 12); AIC=nan, BIC=nan, Fit time=nan seconds\n",
      "Fit ARIMA: order=(2, 1, 0) seasonal_order=(0, 1, 0, 12); AIC=128.917, BIC=129.706, Fit time=0.134 seconds\n",
      "Total fit time: 0.610 seconds\n",
      "126.96169266588987\n"
     ]
    }
   ],
   "source": [
    "reg = auto_arima(sinif_cinsiyet['HEP_Erkek'][0:24], start_p=0, start_q=0,\n",
    "                           max_p=10, max_q=10, m=12,\n",
    "                           start_P=0, seasonal=True,start_Q=0,\n",
    "                           d=1, D=1, trace=True,\n",
    "                           error_action='ignore',  \n",
    "                           suppress_warnings=True, \n",
    "                           stepwise=True,random_state=20,n_fits=50)\n",
    "print(reg.aic())"
   ]
  },
  {
   "cell_type": "code",
   "execution_count": 382,
   "metadata": {},
   "outputs": [
    {
     "data": {
      "text/plain": [
       "array([1274.8541108 , 1238.44044992, 1589.15316738, 1526.57516269,\n",
       "       1668.13777553, 1127.7579787 , 1600.05743639, 1551.80167225,\n",
       "       1758.8472686 , 1720.53133935])"
      ]
     },
     "execution_count": 382,
     "metadata": {},
     "output_type": "execute_result"
    }
   ],
   "source": [
    "hep_erk_model= reg.predict(n_periods=10)\n",
    "hep_erk_model"
   ]
  },
  {
   "cell_type": "markdown",
   "metadata": {},
   "source": [
    "# Addition of all classes"
   ]
  },
  {
   "cell_type": "code",
   "execution_count": 383,
   "metadata": {},
   "outputs": [
    {
     "data": {
      "text/plain": [
       "array([27888.45791786, 23131.82671047, 20717.74487946, 18703.68098522,\n",
       "       21582.04981672, 11151.35027179, 17327.32623413, 12802.72287993,\n",
       "       10898.32738105, 11615.49357931])"
      ]
     },
     "execution_count": 383,
     "metadata": {},
     "output_type": "execute_result"
    }
   ],
   "source": [
    "y_pred = Ana_kiz_model + Ana_erkek_model + ILK_Kadın_model + ILK_erkek_model + Orta_kiz_model + Orta_erk_model + lise_kiz_model \n",
    "+ lise_erk_model + hep_kiz_model+ hep_erk_model"
   ]
  },
  {
   "cell_type": "code",
   "execution_count": 384,
   "metadata": {},
   "outputs": [],
   "source": [
    "Ana_ilk_kiz = Ana_kiz_model + ILK_Kadın_model\n",
    "Ana_ilk_erkek = Ana_erkek_model + ILK_erkek_model"
   ]
  },
  {
   "cell_type": "code",
   "execution_count": 385,
   "metadata": {},
   "outputs": [
    {
     "data": {
      "text/plain": [
       "array([544987.62394789, 535834.90963546, 571086.68346706, 580452.34306371,\n",
       "       647232.86787926, 635336.1393017 , 671718.50498752, 681498.76439159,\n",
       "       706969.02340423, 749369.92016634])"
      ]
     },
     "execution_count": 385,
     "metadata": {},
     "output_type": "execute_result"
    }
   ],
   "source": [
    "y_pred"
   ]
  },
  {
   "cell_type": "code",
   "execution_count": 340,
   "metadata": {},
   "outputs": [
    {
     "data": {
      "image/png": "[encoded data removed]",
      "text/plain": [
       "<Figure size 720x360 with 1 Axes>"
      ]
     },
     "metadata": {},
     "output_type": "display_data"
    }
   ],
   "source": [
    "hfont = {'fontname':'Trebuchet MS'}\n",
    "\n",
    "fig = plt.figure(figsize=(10,5))\n",
    "plt.scatter(np.arange(len(sinif_cinsiyet.Toplam))+1, sinif_cinsiyet.Toplam,color='gray',linewidth=0.7, s = 10)\n",
    "plt.scatter(np.arange(len(y_pred))+len(sinif_cinsiyet.Toplam)+1,y_pred,color='red',linewidth=0.7, s = 10)\n",
    "plt.ylim(0, 600000)\n",
    "plt.xlabel('ŞEY ÖDEME DÖNEM AY', **hfont)\n",
    "plt.ylabel('FAYDA SAHIBI SAYISI', **hfont)\n",
    "plt.show()"
   ]
  },
  {
   "cell_type": "code",
   "execution_count": 386,
   "metadata": {},
   "outputs": [
    {
     "data": {
      "text/plain": [
       "Index(['May 2021', 'Jul 2021', 'Sep 2021', 'Nov 2021', 'Jan 2022', 'Mar 2022',\n",
       "       'May 2022', 'Jul 2022', 'Sep 2022', 'Nov 2022'],\n",
       "      dtype='object')"
      ]
     },
     "execution_count": 386,
     "metadata": {},
     "output_type": "execute_result"
    }
   ],
   "source": [
    "months_to_pred = pd.date_range(start='05/2021', periods = 10, freq='2m', closed = None)\n",
    "months_to_pred = pd.to_datetime(months_to_pred, format = '%m/%d/%Y').strftime('%b %Y')\n",
    "months_to_pred"
   ]
  },
  {
   "cell_type": "code",
   "execution_count": 387,
   "metadata": {},
   "outputs": [],
   "source": [
    "d = {'Months of Payment':months_to_pred,'# of Beneficiaries- Post Verification' : np.zeros(len(y_pred)),'Anasinifi_İLK OKUL_Kiz': Ana_ilk_kiz,\n",
    "'Anasinifi_İLK OKUL_Erkek': Ana_ilk_erkek    }\n",
    "predictions = pd.DataFrame(data = d)\n",
    "predictions.index += sinif_cinsiyet.index[-1]\n",
    "predictions['# of Beneficiaries- Post Verification'] = [np.ceil(i) for i in y_pred]"
   ]
  },
  {
   "cell_type": "code",
   "execution_count": 388,
   "metadata": {},
   "outputs": [],
   "source": [
    "predictions['ORTA_OKUL_Kız']= Orta_kiz_model\n",
    "predictions['ORTA_OKUL_Erkek']= Orta_erk_model\n",
    "predictions['Lise_OKUL_Kız']= lise_kiz_model\n",
    "predictions['Lise_OKUL_Erkek']= lise_erk_model\n",
    "predictions['HEP_OKUL_Kız']= hep_kiz_model\n",
    "predictions['HEP_OKUL_Erkek']= hep_erk_model"
   ]
  },
  {
   "cell_type": "code",
   "execution_count": 389,
   "metadata": {},
   "outputs": [
    {
     "data": {
      "text/plain": [
       "array([27888.45791786, 23131.82671047, 20717.74487946, 18703.68098522,\n",
       "       21582.04981672, 11151.35027179, 17327.32623413, 12802.72287993,\n",
       "       10898.32738105, 11615.49357931])"
      ]
     },
     "execution_count": 389,
     "metadata": {},
     "output_type": "execute_result"
    }
   ],
   "source": [
    "y_pred = Ana_kiz_model + Ana_erkek_model + ILK_Kadın_model + ILK_erkek_model + Orta_kiz_model + Orta_erk_model + lise_kiz_model \n",
    "+ lise_erk_model + hep_kiz_model+ hep_erk_model"
   ]
  },
  {
   "cell_type": "code",
   "execution_count": 390,
   "metadata": {},
   "outputs": [
    {
     "data": {
      "text/html": [
       "<div>\n",
       "<style scoped>\n",
       "    .dataframe tbody tr th:only-of-type {\n",
       "        vertical-align: middle;\n",
       "    }\n",
       "\n",
       "    .dataframe tbody tr th {\n",
       "        vertical-align: top;\n",
       "    }\n",
       "\n",
       "    .dataframe thead th {\n",
       "        text-align: right;\n",
       "    }\n",
       "</style>\n",
       "<table border=\"1\" class=\"dataframe\">\n",
       "  <thead>\n",
       "    <tr style=\"text-align: right;\">\n",
       "      <th></th>\n",
       "      <th>Months of Payment</th>\n",
       "      <th># of Beneficiaries- Post Verification</th>\n",
       "      <th>Anasinifi_İLK OKUL_Kiz</th>\n",
       "      <th>Anasinifi_İLK OKUL_Erkek</th>\n",
       "      <th>ORTA_OKUL_Kız</th>\n",
       "      <th>ORTA_OKUL_Erkek</th>\n",
       "      <th>Lise_OKUL_Kız</th>\n",
       "      <th>Lise_OKUL_Erkek</th>\n",
       "      <th>HEP_OKUL_Kız</th>\n",
       "      <th>HEP_OKUL_Erkek</th>\n",
       "    </tr>\n",
       "  </thead>\n",
       "  <tbody>\n",
       "    <tr>\n",
       "      <th>23</th>\n",
       "      <td>May 2021</td>\n",
       "      <td>544988.0</td>\n",
       "      <td>139975.545455</td>\n",
       "      <td>147092.814566</td>\n",
       "      <td>120170.859511</td>\n",
       "      <td>104623.054430</td>\n",
       "      <td>33125.349986</td>\n",
       "      <td>25519.222222</td>\n",
       "      <td>1094.381585</td>\n",
       "      <td>1274.854111</td>\n",
       "    </tr>\n",
       "    <tr>\n",
       "      <th>24</th>\n",
       "      <td>Jul 2021</td>\n",
       "      <td>535835.0</td>\n",
       "      <td>144015.090909</td>\n",
       "      <td>152847.679269</td>\n",
       "      <td>107783.201624</td>\n",
       "      <td>101863.947201</td>\n",
       "      <td>29324.990632</td>\n",
       "      <td>20802.444444</td>\n",
       "      <td>1090.941816</td>\n",
       "      <td>1238.440450</td>\n",
       "    </tr>\n",
       "    <tr>\n",
       "      <th>25</th>\n",
       "      <td>Sep 2021</td>\n",
       "      <td>571087.0</td>\n",
       "      <td>157213.636364</td>\n",
       "      <td>169563.594110</td>\n",
       "      <td>118104.417997</td>\n",
       "      <td>98341.134752</td>\n",
       "      <td>27863.900245</td>\n",
       "      <td>17749.666667</td>\n",
       "      <td>1378.925045</td>\n",
       "      <td>1589.153167</td>\n",
       "    </tr>\n",
       "    <tr>\n",
       "      <th>26</th>\n",
       "      <td>Nov 2021</td>\n",
       "      <td>580453.0</td>\n",
       "      <td>165139.181818</td>\n",
       "      <td>178548.559088</td>\n",
       "      <td>115031.186147</td>\n",
       "      <td>94366.966726</td>\n",
       "      <td>27366.449285</td>\n",
       "      <td>15856.888889</td>\n",
       "      <td>1320.216934</td>\n",
       "      <td>1526.575163</td>\n",
       "    </tr>\n",
       "    <tr>\n",
       "      <th>27</th>\n",
       "      <td>Jan 2022</td>\n",
       "      <td>647233.0</td>\n",
       "      <td>195424.727273</td>\n",
       "      <td>213919.574203</td>\n",
       "      <td>116886.002194</td>\n",
       "      <td>89732.426796</td>\n",
       "      <td>31270.137413</td>\n",
       "      <td>18491.111111</td>\n",
       "      <td>1422.800930</td>\n",
       "      <td>1668.137776</td>\n",
       "    </tr>\n",
       "    <tr>\n",
       "      <th>28</th>\n",
       "      <td>Mar 2022</td>\n",
       "      <td>635337.0</td>\n",
       "      <td>198423.272727</td>\n",
       "      <td>218860.639455</td>\n",
       "      <td>111348.706571</td>\n",
       "      <td>84499.894199</td>\n",
       "      <td>22203.626349</td>\n",
       "      <td>9055.333333</td>\n",
       "      <td>968.258960</td>\n",
       "      <td>1127.757979</td>\n",
       "    </tr>\n",
       "    <tr>\n",
       "      <th>29</th>\n",
       "      <td>May 2022</td>\n",
       "      <td>671719.0</td>\n",
       "      <td>210335.818182</td>\n",
       "      <td>234041.754845</td>\n",
       "      <td>118567.729358</td>\n",
       "      <td>78685.203356</td>\n",
       "      <td>30087.999247</td>\n",
       "      <td>14373.555556</td>\n",
       "      <td>1353.713242</td>\n",
       "      <td>1600.057436</td>\n",
       "    </tr>\n",
       "    <tr>\n",
       "      <th>30</th>\n",
       "      <td>Jul 2022</td>\n",
       "      <td>681499.0</td>\n",
       "      <td>223883.363636</td>\n",
       "      <td>251850.920371</td>\n",
       "      <td>106413.256468</td>\n",
       "      <td>72258.030363</td>\n",
       "      <td>27093.193553</td>\n",
       "      <td>9974.777778</td>\n",
       "      <td>1276.143430</td>\n",
       "      <td>1551.801672</td>\n",
       "    </tr>\n",
       "    <tr>\n",
       "      <th>31</th>\n",
       "      <td>Sep 2022</td>\n",
       "      <td>706970.0</td>\n",
       "      <td>235577.909091</td>\n",
       "      <td>267383.136035</td>\n",
       "      <td>112418.215583</td>\n",
       "      <td>65236.196011</td>\n",
       "      <td>26353.566684</td>\n",
       "      <td>7645.000000</td>\n",
       "      <td>1494.480112</td>\n",
       "      <td>1758.847269</td>\n",
       "    </tr>\n",
       "    <tr>\n",
       "      <th>32</th>\n",
       "      <td>Nov 2022</td>\n",
       "      <td>749370.0</td>\n",
       "      <td>261976.454545</td>\n",
       "      <td>298348.401836</td>\n",
       "      <td>103038.019841</td>\n",
       "      <td>57615.480495</td>\n",
       "      <td>28391.563448</td>\n",
       "      <td>8431.222222</td>\n",
       "      <td>1463.740018</td>\n",
       "      <td>1720.531339</td>\n",
       "    </tr>\n",
       "  </tbody>\n",
       "</table>\n",
       "</div>"
      ],
      "text/plain": [
       "   Months of Payment  # of Beneficiaries- Post Verification  \\\n",
       "23          May 2021                               544988.0   \n",
       "24          Jul 2021                               535835.0   \n",
       "25          Sep 2021                               571087.0   \n",
       "26          Nov 2021                               580453.0   \n",
       "27          Jan 2022                               647233.0   \n",
       "28          Mar 2022                               635337.0   \n",
       "29          May 2022                               671719.0   \n",
       "30          Jul 2022                               681499.0   \n",
       "31          Sep 2022                               706970.0   \n",
       "32          Nov 2022                               749370.0   \n",
       "\n",
       "    Anasinifi_İLK OKUL_Kiz  Anasinifi_İLK OKUL_Erkek  ORTA_OKUL_Kız  \\\n",
       "23           139975.545455             147092.814566  120170.859511   \n",
       "24           144015.090909             152847.679269  107783.201624   \n",
       "25           157213.636364             169563.594110  118104.417997   \n",
       "26           165139.181818             178548.559088  115031.186147   \n",
       "27           195424.727273             213919.574203  116886.002194   \n",
       "28           198423.272727             218860.639455  111348.706571   \n",
       "29           210335.818182             234041.754845  118567.729358   \n",
       "30           223883.363636             251850.920371  106413.256468   \n",
       "31           235577.909091             267383.136035  112418.215583   \n",
       "32           261976.454545             298348.401836  103038.019841   \n",
       "\n",
       "    ORTA_OKUL_Erkek  Lise_OKUL_Kız  Lise_OKUL_Erkek  HEP_OKUL_Kız  \\\n",
       "23    104623.054430   33125.349986     25519.222222   1094.381585   \n",
       "24    101863.947201   29324.990632     20802.444444   1090.941816   \n",
       "25     98341.134752   27863.900245     17749.666667   1378.925045   \n",
       "26     94366.966726   27366.449285     15856.888889   1320.216934   \n",
       "27     89732.426796   31270.137413     18491.111111   1422.800930   \n",
       "28     84499.894199   22203.626349      9055.333333    968.258960   \n",
       "29     78685.203356   30087.999247     14373.555556   1353.713242   \n",
       "30     72258.030363   27093.193553      9974.777778   1276.143430   \n",
       "31     65236.196011   26353.566684      7645.000000   1494.480112   \n",
       "32     57615.480495   28391.563448      8431.222222   1463.740018   \n",
       "\n",
       "    HEP_OKUL_Erkek  \n",
       "23     1274.854111  \n",
       "24     1238.440450  \n",
       "25     1589.153167  \n",
       "26     1526.575163  \n",
       "27     1668.137776  \n",
       "28     1127.757979  \n",
       "29     1600.057436  \n",
       "30     1551.801672  \n",
       "31     1758.847269  \n",
       "32     1720.531339  "
      ]
     },
     "execution_count": 390,
     "metadata": {},
     "output_type": "execute_result"
    }
   ],
   "source": [
    "predictions"
   ]
  },
  {
   "cell_type": "code",
   "execution_count": 391,
   "metadata": {
    "scrolled": true
   },
   "outputs": [
    {
     "data": {
      "text/plain": [
       "23    4.065651e+06\n",
       "24    3.518212e+06\n",
       "25    3.288630e+06\n",
       "26    3.138122e+06\n",
       "27    3.594092e+06\n",
       "28    2.320517e+06\n",
       "29    3.268678e+06\n",
       "30    2.792698e+06\n",
       "31    2.640992e+06\n",
       "32    2.831905e+06\n",
       "dtype: float64"
      ]
     },
     "execution_count": 391,
     "metadata": {},
     "output_type": "execute_result"
    }
   ],
   "source": [
    "predictions['Payment Amount for Beneficiaries (TL)'] = Anasinif_Ilkokul_kiz*predictions['Anasinifi_İLK OKUL_Kiz'] + Anasinif_Ilkokul_erkek*predictions['Anasinifi_İLK OKUL_Erkek'] + predictions['ORTA_OKUL_Kız']*Anasinif_Ilkokul_kiz + predictions['ORTA_OKUL_Erkek']*Anasinif_Ilkokul_erkek\n",
    "+ predictions['Lise_OKUL_Kız']*lise_kiz + predictions['Lise_OKUL_Erkek']*lise_erkek + predictions['HEP_OKUL_Kız']*Hep_kiz + predictions['HEP_OKUL_Erkek']*Hep_erkek"
   ]
  },
  {
   "cell_type": "code",
   "execution_count": 392,
   "metadata": {},
   "outputs": [
    {
     "data": {
      "text/plain": [
       "23     5\n",
       "24     7\n",
       "25     9\n",
       "26    11\n",
       "27     1\n",
       "28     3\n",
       "29     5\n",
       "30     7\n",
       "31     9\n",
       "32    11\n",
       "Name: Months of Payment, dtype: int64"
      ]
     },
     "execution_count": 392,
     "metadata": {},
     "output_type": "execute_result"
    }
   ],
   "source": [
    "month_to_quart = predictions['Months of Payment']\n",
    "month_to_quart = pd.to_datetime(month_to_quart, format = '%b %Y').dt.month\n",
    "month_to_quart"
   ]
  },
  {
   "cell_type": "code",
   "execution_count": 393,
   "metadata": {},
   "outputs": [],
   "source": [
    "nn=[3,5,7]\n",
    "predictions['Payment Amount for Beneficiaries (TL)']= np.array([predictions['Payment Amount for Beneficiaries (TL)']*2 if i in nn else predictions['Payment Amount for Beneficiaries (TL)'] for i in month_to_quart])\n"
   ]
  },
  {
   "cell_type": "code",
   "execution_count": 229,
   "metadata": {
    "scrolled": false
   },
   "outputs": [
    {
     "data": {
      "text/plain": [
       "23    May 2021\n",
       "24    Jul 2021\n",
       "25    Sep 2021\n",
       "26    Nov 2021\n",
       "27    Jan 2022\n",
       "28    Mar 2022\n",
       "29    May 2022\n",
       "30    Jul 2022\n",
       "31    Sep 2022\n",
       "32    Nov 2022\n",
       "Name: Months of Payment, dtype: object"
      ]
     },
     "execution_count": 229,
     "metadata": {},
     "output_type": "execute_result"
    }
   ],
   "source": [
    "month_to_quart = predictions['Months of Payment']\n",
    "month_to_quart"
   ]
  },
  {
   "cell_type": "code",
   "execution_count": 22,
   "metadata": {},
   "outputs": [],
   "source": [
    "#month_to_quart = pd.to_datetime(month_to_quart, format = '%b %Y').dt.month\n"
   ]
  },
  {
   "cell_type": "code",
   "execution_count": 363,
   "metadata": {},
   "outputs": [
    {
     "data": {
      "text/plain": [
       "23     5\n",
       "24     7\n",
       "25     9\n",
       "26    11\n",
       "27     1\n",
       "28     3\n",
       "29     5\n",
       "30     7\n",
       "31     9\n",
       "32    11\n",
       "Name: Months of Payment, dtype: int64"
      ]
     },
     "execution_count": 363,
     "metadata": {},
     "output_type": "execute_result"
    }
   ],
   "source": [
    "month_to_quart"
   ]
  },
  {
   "cell_type": "code",
   "execution_count": 394,
   "metadata": {},
   "outputs": [
    {
     "data": {
      "text/plain": [
       "[0, 0, 1, 0, 1, 0, 0, 0, 1, 0]"
      ]
     },
     "execution_count": 394,
     "metadata": {},
     "output_type": "execute_result"
    }
   ],
   "source": [
    "\n",
    "month_to_quart1 = (month_to_quart+3)%3\n",
    "l=[1,9]\n",
    "quarter1= [1 if i in l else 0 for i in month_to_quart]\n",
    "quarter1"
   ]
  },
  {
   "cell_type": "code",
   "execution_count": 395,
   "metadata": {},
   "outputs": [
    {
     "data": {
      "text/plain": [
       "[1, 0, 0, 0, 0, 0, 1, 0, 0, 0]"
      ]
     },
     "execution_count": 395,
     "metadata": {},
     "output_type": "execute_result"
    }
   ],
   "source": [
    "month_to_quart2 = (month_to_quart)%5\n",
    "quarter2= [1 if i==0 else 0 for i in month_to_quart2]\n",
    "quarter2"
   ]
  },
  {
   "cell_type": "raw",
   "metadata": {},
   "source": [
    "quarter1=[1,0,0,0,1,0,1,0,0,0]\n",
    "quarter2=[0,0,1,0,0,0,0,0,1,0]\n",
    "quarter3=[1,0,1,0,1,0,1,0,1,0]"
   ]
  },
  {
   "cell_type": "code",
   "execution_count": 366,
   "metadata": {},
   "outputs": [],
   "source": [
    "predictions.columns\n",
    "\n",
    "Ek_odeme_orani=0.96\n",
    "Hep_ek_orani=0.99\n",
    "top_up_lise=150\n",
    "top_up_orta=100"
   ]
  },
  {
   "cell_type": "code",
   "execution_count": 396,
   "metadata": {},
   "outputs": [],
   "source": [
    "ek_odeme = quarter1*((predictions['Anasinifi_İLK OKUL_Kiz'] + predictions['Anasinifi_İLK OKUL_Erkek'] + predictions['ORTA_OKUL_Kız'] + predictions['ORTA_OKUL_Erkek']\n",
    "+ predictions['Lise_OKUL_Kız'] + predictions['Lise_OKUL_Erkek'])*100*Ek_odeme_orani + (predictions['HEP_OKUL_Kız'] + predictions['HEP_OKUL_Erkek'])*100*Hep_ek_orani)"
   ]
  },
  {
   "cell_type": "code",
   "execution_count": 397,
   "metadata": {},
   "outputs": [
    {
     "data": {
      "text/plain": [
       "23    0.000000e+00\n",
       "24    0.000000e+00\n",
       "25    5.682213e+07\n",
       "26    0.000000e+00\n",
       "27    6.421550e+07\n",
       "28    0.000000e+00\n",
       "29    0.000000e+00\n",
       "30    0.000000e+00\n",
       "31    6.892503e+07\n",
       "32    0.000000e+00\n",
       "dtype: float64"
      ]
     },
     "execution_count": 397,
     "metadata": {},
     "output_type": "execute_result"
    }
   ],
   "source": [
    "ek_odeme"
   ]
  },
  {
   "cell_type": "code",
   "execution_count": 398,
   "metadata": {},
   "outputs": [],
   "source": [
    "ek_odeme2 = (quarter2*(predictions['HEP_OKUL_Kız'] + predictions['HEP_OKUL_Erkek'])*100*Hep_ek_orani)"
   ]
  },
  {
   "cell_type": "code",
   "execution_count": 399,
   "metadata": {},
   "outputs": [
    {
     "data": {
      "text/plain": [
       "23    234554.333868\n",
       "24         0.000000\n",
       "25         0.000000\n",
       "26         0.000000\n",
       "27         0.000000\n",
       "28         0.000000\n",
       "29    292423.297178\n",
       "30         0.000000\n",
       "31         0.000000\n",
       "32         0.000000\n",
       "dtype: float64"
      ]
     },
     "execution_count": 399,
     "metadata": {},
     "output_type": "execute_result"
    }
   ],
   "source": [
    "ek_odeme2"
   ]
  },
  {
   "cell_type": "code",
   "execution_count": 400,
   "metadata": {},
   "outputs": [],
   "source": [
    "predictions['Ek Ödeme Tutar (TL)'] = ek_odeme + ek_odeme2 "
   ]
  },
  {
   "cell_type": "code",
   "execution_count": 401,
   "metadata": {},
   "outputs": [],
   "source": [
    "Topup1 = quarter1*((predictions['ORTA_OKUL_Kız'] + predictions['ORTA_OKUL_Erkek'])*top_up_orta*Ek_odeme_orani + (predictions['Lise_OKUL_Kız'] + predictions['Lise_OKUL_Erkek'])*top_up_lise*Ek_odeme_orani + (predictions['HEP_OKUL_Kız'] + predictions['HEP_OKUL_Erkek'])*top_up_lise*Hep_ek_orani)\n",
    "Topup2 = quarter2*((predictions['HEP_OKUL_Kız'] + predictions['HEP_OKUL_Erkek'])*top_up_lise*Hep_ek_orani)"
   ]
  },
  {
   "cell_type": "code",
   "execution_count": 402,
   "metadata": {},
   "outputs": [],
   "source": [
    "predictions['Top-Up Ödemesi (TL)']=Topup1 + Topup2"
   ]
  },
  {
   "cell_type": "code",
   "execution_count": 403,
   "metadata": {},
   "outputs": [],
   "source": [
    "predictions[\"Toplam Tutar\"]=predictions['Ek Ödeme Tutar (TL)']+predictions['Top-Up Ödemesi (TL)']+predictions['Payment Amount for Beneficiaries (TL)']"
   ]
  },
  {
   "cell_type": "code",
   "execution_count": 404,
   "metadata": {},
   "outputs": [
    {
     "data": {
      "text/plain": [
       "49255454.540878534"
      ]
     },
     "execution_count": 404,
     "metadata": {},
     "output_type": "execute_result"
    }
   ],
   "source": [
    "predictions[\"Toplam Tutar\"][predictions.index[0]]"
   ]
  },
  {
   "cell_type": "code",
   "execution_count": 405,
   "metadata": {},
   "outputs": [],
   "source": [
    "predictions.to_excel('C:/Users/fedaa.elderdesawe/desktop/Forecast CCTE(model8).xlsx') "
   ]
  },
  {
   "cell_type": "code",
   "execution_count": 125,
   "metadata": {},
   "outputs": [
    {
     "data": {
      "text/plain": [
       "23    5.987596e+06\n",
       "24    5.909439e+06\n",
       "25    6.081058e+06\n",
       "26    5.971619e+06\n",
       "27    6.900143e+06\n",
       "28    6.505938e+06\n",
       "29    6.494692e+06\n",
       "30    6.584617e+06\n",
       "31    6.516823e+06\n",
       "32    6.967524e+06\n",
       "Name: Anasinifi_İLK OKUL_Erkek, dtype: float64"
      ]
     },
     "execution_count": 125,
     "metadata": {},
     "output_type": "execute_result"
    }
   ],
   "source": [
    "Anasinif_Ilkokul_erkek*predictions['Anasinifi_İLK OKUL_Erkek']"
   ]
  },
  {
   "cell_type": "code",
   "execution_count": 369,
   "metadata": {},
   "outputs": [],
   "source": [
    "Eligibile_Individuals=historic['TRC Ödeme alan faydalanıcı sayısı']"
   ]
  },
  {
   "cell_type": "code",
   "execution_count": 370,
   "metadata": {},
   "outputs": [
    {
     "data": {
      "text/plain": [
       "Mart-Nisan         56240.0\n",
       "Mayıs-Haziran      72027.0\n",
       "Temmuz-Ağustos    136523.0\n",
       "Eylül-Ekim        167442.0\n",
       "Kasım-Aralık      311926.0\n",
       "Name: TRC Ödeme alan faydalanıcı sayısı, dtype: float64"
      ]
     },
     "execution_count": 370,
     "metadata": {},
     "output_type": "execute_result"
    }
   ],
   "source": [
    "Eligibile_Individuals.head()"
   ]
  },
  {
   "cell_type": "code",
   "execution_count": 114,
   "metadata": {},
   "outputs": [],
   "source": []
  },
  {
   "cell_type": "code",
   "execution_count": 115,
   "metadata": {},
   "outputs": [
    {
     "data": {
      "text/plain": [
       "Index(['May 2017', 'Jul 2017', 'Sep 2017', 'Nov 2017', 'Jan 2018', 'Mar 2018',\n",
       "       'May 2018', 'Jul 2018', 'Sep 2018', 'Nov 2018', 'Jan 2019', 'Mar 2019',\n",
       "       'May 2019', 'Jul 2019', 'Sep 2019', 'Nov 2019', 'Jan 2020', 'Mar 2020',\n",
       "       'May 2020', 'Jul 2020', 'Sep 2020', 'Nov 2020'],\n",
       "      dtype='object')"
      ]
     },
     "execution_count": 115,
     "metadata": {},
     "output_type": "execute_result"
    }
   ],
   "source": [
    "idx"
   ]
  },
  {
   "cell_type": "code",
   "execution_count": 55,
   "metadata": {},
   "outputs": [],
   "source": [
    "index = pd.DatetimeIndex(['01/2018', '03/2018', '05/2018', '07/2018', '09/2018', '11/2018', '01/2019', '03/2019','05/2019', '07/2019',\n",
    "           '09/2019', '11/2019','01/2020', '03/2020','05/2020', '07/2020',\n",
    "           '09/2020', '11/2020' ],freq='2MS')"
   ]
  },
  {
   "cell_type": "code",
   "execution_count": 43,
   "metadata": {
    "scrolled": true
   },
   "outputs": [
    {
     "data": {
      "text/plain": [
       "DatetimeIndex(['2018-01-01', '2018-03-01', '2018-05-01', '2018-07-01',\n",
       "               '2018-09-01', '2018-11-01', '2019-01-01', '2019-03-01',\n",
       "               '2019-05-01', '2019-07-01', '2019-09-01', '2019-11-01',\n",
       "               '2020-01-01', '2020-03-01', '2020-05-01', '2020-07-01',\n",
       "               '2020-09-01', '2020-11-01'],\n",
       "              dtype='datetime64[ns]', freq='2MS')"
      ]
     },
     "execution_count": 43,
     "metadata": {},
     "output_type": "execute_result"
    }
   ],
   "source": [
    "index"
   ]
  },
  {
   "cell_type": "code",
   "execution_count": 177,
   "metadata": {},
   "outputs": [
    {
     "data": {
      "text/plain": [
       "0     311926.0\n",
       "1     292924.0\n",
       "2     272031.0\n",
       "3     312287.0\n",
       "4     341482.0\n",
       "5     314763.0\n",
       "6     439215.0\n",
       "7     404160.0\n",
       "8     399024.0\n",
       "9     391092.0\n",
       "10    445757.0\n",
       "11    381993.0\n",
       "12    498551.0\n",
       "13    462467.0\n",
       "14    465231.0\n",
       "15    494899.0\n",
       "16    497460.0\n",
       "17    520787.0\n",
       "18    534233.0\n",
       "19    526897.0\n",
       "Name: TRC Ödeme alan faydalanıcı sayısı, dtype: float64"
      ]
     },
     "execution_count": 177,
     "metadata": {},
     "output_type": "execute_result"
    }
   ],
   "source": [
    "historic['TRC Ödeme alan faydalanıcı sayısı'][0:20]"
   ]
  },
  {
   "cell_type": "code",
   "execution_count": 245,
   "metadata": {},
   "outputs": [],
   "source": [
    "idxn = pd.date_range(start='01/2018', end='05/2021', freq='2m')\n",
    "idxn = pd.to_datetime(idxn, format = '%m/%d/%Y').strftime('%b %Y')\n",
    "all_hist = pd.Series(list(historic['TRC Ödeme alan faydalanıcı sayısı'][0:20]),index = idxn)"
   ]
  },
  {
   "cell_type": "code",
   "execution_count": 246,
   "metadata": {},
   "outputs": [
    {
     "data": {
      "text/plain": [
       "Index(['Jan 2018', 'Mar 2018', 'May 2018', 'Jul 2018', 'Sep 2018', 'Nov 2018',\n",
       "       'Jan 2019', 'Mar 2019', 'May 2019', 'Jul 2019', 'Sep 2019', 'Nov 2019',\n",
       "       'Jan 2020', 'Mar 2020', 'May 2020', 'Jul 2020', 'Sep 2020', 'Nov 2020',\n",
       "       'Jan 2021', 'Mar 2021'],\n",
       "      dtype='object')"
      ]
     },
     "execution_count": 246,
     "metadata": {},
     "output_type": "execute_result"
    }
   ],
   "source": [
    "idxn"
   ]
  },
  {
   "cell_type": "code",
   "execution_count": 247,
   "metadata": {},
   "outputs": [
    {
     "data": {
      "image/png": "[encoded data removed]",
      "text/plain": [
       "<Figure size 1080x504 with 1 Axes>"
      ]
     },
     "metadata": {},
     "output_type": "display_data"
    }
   ],
   "source": [
    "hfont = {'fontname':'Trebuchet MS','size'   : 12}\n",
    "\n",
    "plt.figure(figsize=(15,7))\n",
    "all_hist.plot.bar( color=\"#f9af2b\",edgecolor=\"#f05131\", rot = 0)\n",
    "plt.xlabel('months', **hfont)\n",
    "plt.axhline(y=100000, color='dimgray', linestyle='dashed')\n",
    "plt.axhline(y=300000, color='dimgray', linestyle='dashed')\n",
    "plt.axhline(y=500000, color='dimgray', linestyle='dashed')\n",
    "plt.xticks([1,3,5,7,9,11,13,15,17,19,21], [idx[1],idx[3],idx[5],idx[7],idx[9],idx[11],idx[13],idx[15],idx[17],idx[19],idx[21]], rotation= 0)\n",
    "plt.ylabel('number of eligible individuals', **hfont)\n",
    "plt.savefig('all_historic_individuals.png')"
   ]
  },
  {
   "cell_type": "code",
   "execution_count": 248,
   "metadata": {},
   "outputs": [],
   "source": [
    "Eligibile_Individuals = pd.to_datetime(all_hist)"
   ]
  },
  {
   "cell_type": "code",
   "execution_count": 249,
   "metadata": {
    "scrolled": false
   },
   "outputs": [
    {
     "data": {
      "application/vnd.plotly.v1+json": {
       "config": {
        "linkText": "Export to plotly.your-company.com",
        "plotlyServerURL": "https://plotly.your-company.com",
        "showLink": true
       },
       "data": [
        {
         "line": {
          "color": "rgba(255, 153, 51, 1.0)",
          "dash": "solid",
          "shape": "linear",
          "width": 1.3
         },
         "mode": "lines",
         "name": "None",
         "text": "",
         "type": "scatter",
         "x": [
          "Jan 2018",
          "Mar 2018",
          "May 2018",
          "Jul 2018",
          "Sep 2018",
          "Nov 2018",
          "Jan 2019",
          "Mar 2019",
          "May 2019",
          "Jul 2019",
          "Sep 2019",
          "Nov 2019",
          "Jan 2020",
          "Mar 2020",
          "May 2020",
          "Jul 2020",
          "Sep 2020",
          "Nov 2020",
          "Jan 2021",
          "Mar 2021"
         ],
         "y": [
          311926,
          292924,
          272031,
          312287,
          341482,
          314763,
          439215,
          404160,
          399024,
          391092,
          445757,
          381993,
          498551,
          462467,
          465231,
          494899,
          497460,
          520787,
          534233,
          526897
         ]
        }
       ],
       "layout": {
        "legend": {
         "bgcolor": "#F5F6F9",
         "font": {
          "color": "#4D5663"
         }
        },
        "paper_bgcolor": "#F5F6F9",
        "plot_bgcolor": "#F5F6F9",
        "template": {
         "data": {
          "bar": [
           {
            "error_x": {
             "color": "#2a3f5f"
            },
            "error_y": {
             "color": "#2a3f5f"
            },
            "marker": {
             "line": {
              "color": "#E5ECF6",
              "width": 0.5
             }
            },
            "type": "bar"
           }
          ],
          "barpolar": [
           {
            "marker": {
             "line": {
              "color": "#E5ECF6",
              "width": 0.5
             }
            },
            "type": "barpolar"
           }
          ],
          "carpet": [
           {
            "aaxis": {
             "endlinecolor": "#2a3f5f",
             "gridcolor": "white",
             "linecolor": "white",
             "minorgridcolor": "white",
             "startlinecolor": "#2a3f5f"
            },
            "baxis": {
             "endlinecolor": "#2a3f5f",
             "gridcolor": "white",
             "linecolor": "white",
             "minorgridcolor": "white",
             "startlinecolor": "#2a3f5f"
            },
            "type": "carpet"
           }
          ],
          "choropleth": [
           {
            "colorbar": {
             "outlinewidth": 0,
             "ticks": ""
            },
            "type": "choropleth"
           }
          ],
          "contour": [
           {
            "colorbar": {
             "outlinewidth": 0,
             "ticks": ""
            },
            "colorscale": [
             [
              0,
              "#0d0887"
             ],
             [
              0.1111111111111111,
              "#46039f"
             ],
             [
              0.2222222222222222,
              "#7201a8"
             ],
             [
              0.3333333333333333,
              "#9c179e"
             ],
             [
              0.4444444444444444,
              "#bd3786"
             ],
             [
              0.5555555555555556,
              "#d8576b"
             ],
             [
              0.6666666666666666,
              "#ed7953"
             ],
             [
              0.7777777777777778,
              "#fb9f3a"
             ],
             [
              0.8888888888888888,
              "#fdca26"
             ],
             [
              1,
              "#f0f921"
             ]
            ],
            "type": "contour"
           }
          ],
          "contourcarpet": [
           {
            "colorbar": {
             "outlinewidth": 0,
             "ticks": ""
            },
            "type": "contourcarpet"
           }
          ],
          "heatmap": [
           {
            "colorbar": {
             "outlinewidth": 0,
             "ticks": ""
            },
            "colorscale": [
             [
              0,
              "#0d0887"
             ],
             [
              0.1111111111111111,
              "#46039f"
             ],
             [
              0.2222222222222222,
              "#7201a8"
             ],
             [
              0.3333333333333333,
              "#9c179e"
             ],
             [
              0.4444444444444444,
              "#bd3786"
             ],
             [
              0.5555555555555556,
              "#d8576b"
             ],
             [
              0.6666666666666666,
              "#ed7953"
             ],
             [
              0.7777777777777778,
              "#fb9f3a"
             ],
             [
              0.8888888888888888,
              "#fdca26"
             ],
             [
              1,
              "#f0f921"
             ]
            ],
            "type": "heatmap"
           }
          ],
          "heatmapgl": [
           {
            "colorbar": {
             "outlinewidth": 0,
             "ticks": ""
            },
            "colorscale": [
             [
              0,
              "#0d0887"
             ],
             [
              0.1111111111111111,
              "#46039f"
             ],
             [
              0.2222222222222222,
              "#7201a8"
             ],
             [
              0.3333333333333333,
              "#9c179e"
             ],
             [
              0.4444444444444444,
              "#bd3786"
             ],
             [
              0.5555555555555556,
              "#d8576b"
             ],
             [
              0.6666666666666666,
              "#ed7953"
             ],
             [
              0.7777777777777778,
              "#fb9f3a"
             ],
             [
              0.8888888888888888,
              "#fdca26"
             ],
             [
              1,
              "#f0f921"
             ]
            ],
            "type": "heatmapgl"
           }
          ],
          "histogram": [
           {
            "marker": {
             "colorbar": {
              "outlinewidth": 0,
              "ticks": ""
             }
            },
            "type": "histogram"
           }
          ],
          "histogram2d": [
           {
            "colorbar": {
             "outlinewidth": 0,
             "ticks": ""
            },
            "colorscale": [
             [
              0,
              "#0d0887"
             ],
             [
              0.1111111111111111,
              "#46039f"
             ],
             [
              0.2222222222222222,
              "#7201a8"
             ],
             [
              0.3333333333333333,
              "#9c179e"
             ],
             [
              0.4444444444444444,
              "#bd3786"
             ],
             [
              0.5555555555555556,
              "#d8576b"
             ],
             [
              0.6666666666666666,
              "#ed7953"
             ],
             [
              0.7777777777777778,
              "#fb9f3a"
             ],
             [
              0.8888888888888888,
              "#fdca26"
             ],
             [
              1,
              "#f0f921"
             ]
            ],
            "type": "histogram2d"
           }
          ],
          "histogram2dcontour": [
           {
            "colorbar": {
             "outlinewidth": 0,
             "ticks": ""
            },
            "colorscale": [
             [
              0,
              "#0d0887"
             ],
             [
              0.1111111111111111,
              "#46039f"
             ],
             [
              0.2222222222222222,
              "#7201a8"
             ],
             [
              0.3333333333333333,
              "#9c179e"
             ],
             [
              0.4444444444444444,
              "#bd3786"
             ],
             [
              0.5555555555555556,
              "#d8576b"
             ],
             [
              0.6666666666666666,
              "#ed7953"
             ],
             [
              0.7777777777777778,
              "#fb9f3a"
             ],
             [
              0.8888888888888888,
              "#fdca26"
             ],
             [
              1,
              "#f0f921"
             ]
            ],
            "type": "histogram2dcontour"
           }
          ],
          "mesh3d": [
           {
            "colorbar": {
             "outlinewidth": 0,
             "ticks": ""
            },
            "type": "mesh3d"
           }
          ],
          "parcoords": [
           {
            "line": {
             "colorbar": {
              "outlinewidth": 0,
              "ticks": ""
             }
            },
            "type": "parcoords"
           }
          ],
          "pie": [
           {
            "automargin": true,
            "type": "pie"
           }
          ],
          "scatter": [
           {
            "marker": {
             "colorbar": {
              "outlinewidth": 0,
              "ticks": ""
             }
            },
            "type": "scatter"
           }
          ],
          "scatter3d": [
           {
            "line": {
             "colorbar": {
              "outlinewidth": 0,
              "ticks": ""
             }
            },
            "marker": {
             "colorbar": {
              "outlinewidth": 0,
              "ticks": ""
             }
            },
            "type": "scatter3d"
           }
          ],
          "scattercarpet": [
           {
            "marker": {
             "colorbar": {
              "outlinewidth": 0,
              "ticks": ""
             }
            },
            "type": "scattercarpet"
           }
          ],
          "scattergeo": [
           {
            "marker": {
             "colorbar": {
              "outlinewidth": 0,
              "ticks": ""
             }
            },
            "type": "scattergeo"
           }
          ],
          "scattergl": [
           {
            "marker": {
             "colorbar": {
              "outlinewidth": 0,
              "ticks": ""
             }
            },
            "type": "scattergl"
           }
          ],
          "scattermapbox": [
           {
            "marker": {
             "colorbar": {
              "outlinewidth": 0,
              "ticks": ""
             }
            },
            "type": "scattermapbox"
           }
          ],
          "scatterpolar": [
           {
            "marker": {
             "colorbar": {
              "outlinewidth": 0,
              "ticks": ""
             }
            },
            "type": "scatterpolar"
           }
          ],
          "scatterpolargl": [
           {
            "marker": {
             "colorbar": {
              "outlinewidth": 0,
              "ticks": ""
             }
            },
            "type": "scatterpolargl"
           }
          ],
          "scatterternary": [
           {
            "marker": {
             "colorbar": {
              "outlinewidth": 0,
              "ticks": ""
             }
            },
            "type": "scatterternary"
           }
          ],
          "surface": [
           {
            "colorbar": {
             "outlinewidth": 0,
             "ticks": ""
            },
            "colorscale": [
             [
              0,
              "#0d0887"
             ],
             [
              0.1111111111111111,
              "#46039f"
             ],
             [
              0.2222222222222222,
              "#7201a8"
             ],
             [
              0.3333333333333333,
              "#9c179e"
             ],
             [
              0.4444444444444444,
              "#bd3786"
             ],
             [
              0.5555555555555556,
              "#d8576b"
             ],
             [
              0.6666666666666666,
              "#ed7953"
             ],
             [
              0.7777777777777778,
              "#fb9f3a"
             ],
             [
              0.8888888888888888,
              "#fdca26"
             ],
             [
              1,
              "#f0f921"
             ]
            ],
            "type": "surface"
           }
          ],
          "table": [
           {
            "cells": {
             "fill": {
              "color": "#EBF0F8"
             },
             "line": {
              "color": "white"
             }
            },
            "header": {
             "fill": {
              "color": "#C8D4E3"
             },
             "line": {
              "color": "white"
             }
            },
            "type": "table"
           }
          ]
         },
         "layout": {
          "annotationdefaults": {
           "arrowcolor": "#2a3f5f",
           "arrowhead": 0,
           "arrowwidth": 1
          },
          "coloraxis": {
           "colorbar": {
            "outlinewidth": 0,
            "ticks": ""
           }
          },
          "colorscale": {
           "diverging": [
            [
             0,
             "#8e0152"
            ],
            [
             0.1,
             "#c51b7d"
            ],
            [
             0.2,
             "#de77ae"
            ],
            [
             0.3,
             "#f1b6da"
            ],
            [
             0.4,
             "#fde0ef"
            ],
            [
             0.5,
             "#f7f7f7"
            ],
            [
             0.6,
             "#e6f5d0"
            ],
            [
             0.7,
             "#b8e186"
            ],
            [
             0.8,
             "#7fbc41"
            ],
            [
             0.9,
             "#4d9221"
            ],
            [
             1,
             "#276419"
            ]
           ],
           "sequential": [
            [
             0,
             "#0d0887"
            ],
            [
             0.1111111111111111,
             "#46039f"
            ],
            [
             0.2222222222222222,
             "#7201a8"
            ],
            [
             0.3333333333333333,
             "#9c179e"
            ],
            [
             0.4444444444444444,
             "#bd3786"
            ],
            [
             0.5555555555555556,
             "#d8576b"
            ],
            [
             0.6666666666666666,
             "#ed7953"
            ],
            [
             0.7777777777777778,
             "#fb9f3a"
            ],
            [
             0.8888888888888888,
             "#fdca26"
            ],
            [
             1,
             "#f0f921"
            ]
           ],
           "sequentialminus": [
            [
             0,
             "#0d0887"
            ],
            [
             0.1111111111111111,
             "#46039f"
            ],
            [
             0.2222222222222222,
             "#7201a8"
            ],
            [
             0.3333333333333333,
             "#9c179e"
            ],
            [
             0.4444444444444444,
             "#bd3786"
            ],
            [
             0.5555555555555556,
             "#d8576b"
            ],
            [
             0.6666666666666666,
             "#ed7953"
            ],
            [
             0.7777777777777778,
             "#fb9f3a"
            ],
            [
             0.8888888888888888,
             "#fdca26"
            ],
            [
             1,
             "#f0f921"
            ]
           ]
          },
          "colorway": [
           "#636efa",
           "#EF553B",
           "#00cc96",
           "#ab63fa",
           "#FFA15A",
           "#19d3f3",
           "#FF6692",
           "#B6E880",
           "#FF97FF",
           "#FECB52"
          ],
          "font": {
           "color": "#2a3f5f"
          },
          "geo": {
           "bgcolor": "white",
           "lakecolor": "white",
           "landcolor": "#E5ECF6",
           "showlakes": true,
           "showland": true,
           "subunitcolor": "white"
          },
          "hoverlabel": {
           "align": "left"
          },
          "hovermode": "closest",
          "mapbox": {
           "style": "light"
          },
          "paper_bgcolor": "white",
          "plot_bgcolor": "#E5ECF6",
          "polar": {
           "angularaxis": {
            "gridcolor": "white",
            "linecolor": "white",
            "ticks": ""
           },
           "bgcolor": "#E5ECF6",
           "radialaxis": {
            "gridcolor": "white",
            "linecolor": "white",
            "ticks": ""
           }
          },
          "scene": {
           "xaxis": {
            "backgroundcolor": "#E5ECF6",
            "gridcolor": "white",
            "gridwidth": 2,
            "linecolor": "white",
            "showbackground": true,
            "ticks": "",
            "zerolinecolor": "white"
           },
           "yaxis": {
            "backgroundcolor": "#E5ECF6",
            "gridcolor": "white",
            "gridwidth": 2,
            "linecolor": "white",
            "showbackground": true,
            "ticks": "",
            "zerolinecolor": "white"
           },
           "zaxis": {
            "backgroundcolor": "#E5ECF6",
            "gridcolor": "white",
            "gridwidth": 2,
            "linecolor": "white",
            "showbackground": true,
            "ticks": "",
            "zerolinecolor": "white"
           }
          },
          "shapedefaults": {
           "line": {
            "color": "#2a3f5f"
           }
          },
          "ternary": {
           "aaxis": {
            "gridcolor": "white",
            "linecolor": "white",
            "ticks": ""
           },
           "baxis": {
            "gridcolor": "white",
            "linecolor": "white",
            "ticks": ""
           },
           "bgcolor": "#E5ECF6",
           "caxis": {
            "gridcolor": "white",
            "linecolor": "white",
            "ticks": ""
           }
          },
          "title": {
           "x": 0.05
          },
          "xaxis": {
           "automargin": true,
           "gridcolor": "white",
           "linecolor": "white",
           "ticks": "",
           "title": {
            "standoff": 15
           },
           "zerolinecolor": "white",
           "zerolinewidth": 2
          },
          "yaxis": {
           "automargin": true,
           "gridcolor": "white",
           "linecolor": "white",
           "ticks": "",
           "title": {
            "standoff": 15
           },
           "zerolinecolor": "white",
           "zerolinewidth": 2
          }
         }
        },
        "title": {
         "font": {
          "color": "#4D5663"
         },
         "text": "# of Eligibile Individuals - Post Verification"
        },
        "xaxis": {
         "gridcolor": "#E1E5ED",
         "showgrid": true,
         "tickfont": {
          "color": "#4D5663"
         },
         "title": {
          "font": {
           "color": "#4D5663"
          },
          "text": ""
         },
         "zerolinecolor": "#E1E5ED"
        },
        "yaxis": {
         "gridcolor": "#E1E5ED",
         "showgrid": true,
         "tickfont": {
          "color": "#4D5663"
         },
         "title": {
          "font": {
           "color": "#4D5663"
          },
          "text": ""
         },
         "zerolinecolor": "#E1E5ED"
        }
       }
      },
      "text/html": [
       "<div>\n",
       "        \n",
       "        \n",
       "            <div id=\"03013e2c-dde9-4c83-b5f1-1c9ee3d84602\" class=\"plotly-graph-div\" style=\"height:525px; width:100%;\"></div>\n",
       "            <script type=\"text/javascript\">\n",
       "                require([\"plotly\"], function(Plotly) {\n",
       "                    window.PLOTLYENV=window.PLOTLYENV || {};\n",
       "                    window.PLOTLYENV.BASE_URL='https://plotly.your-company.com';\n",
       "                    \n",
       "                if (document.getElementById(\"03013e2c-dde9-4c83-b5f1-1c9ee3d84602\")) {\n",
       "                    Plotly.newPlot(\n",
       "                        '03013e2c-dde9-4c83-b5f1-1c9ee3d84602',\n",
       "                        [{\"line\": {\"color\": \"rgba(255, 153, 51, 1.0)\", \"dash\": \"solid\", \"shape\": \"linear\", \"width\": 1.3}, \"mode\": \"lines\", \"name\": \"None\", \"text\": \"\", \"type\": \"scatter\", \"x\": [\"Jan 2018\", \"Mar 2018\", \"May 2018\", \"Jul 2018\", \"Sep 2018\", \"Nov 2018\", \"Jan 2019\", \"Mar 2019\", \"May 2019\", \"Jul 2019\", \"Sep 2019\", \"Nov 2019\", \"Jan 2020\", \"Mar 2020\", \"May 2020\", \"Jul 2020\", \"Sep 2020\", \"Nov 2020\", \"Jan 2021\", \"Mar 2021\"], \"y\": [311926, 292924, 272031, 312287, 341482, 314763, 439215, 404160, 399024, 391092, 445757, 381993, 498551, 462467, 465231, 494899, 497460, 520787, 534233, 526897]}],\n",
       "                        {\"legend\": {\"bgcolor\": \"#F5F6F9\", \"font\": {\"color\": \"#4D5663\"}}, \"paper_bgcolor\": \"#F5F6F9\", \"plot_bgcolor\": \"#F5F6F9\", \"template\": {\"data\": {\"bar\": [{\"error_x\": {\"color\": \"#2a3f5f\"}, \"error_y\": {\"color\": \"#2a3f5f\"}, \"marker\": {\"line\": {\"color\": \"#E5ECF6\", \"width\": 0.5}}, \"type\": \"bar\"}], \"barpolar\": [{\"marker\": {\"line\": {\"color\": \"#E5ECF6\", \"width\": 0.5}}, \"type\": \"barpolar\"}], \"carpet\": [{\"aaxis\": {\"endlinecolor\": \"#2a3f5f\", \"gridcolor\": \"white\", \"linecolor\": \"white\", \"minorgridcolor\": \"white\", \"startlinecolor\": \"#2a3f5f\"}, \"baxis\": {\"endlinecolor\": \"#2a3f5f\", \"gridcolor\": \"white\", \"linecolor\": \"white\", \"minorgridcolor\": \"white\", \"startlinecolor\": \"#2a3f5f\"}, \"type\": \"carpet\"}], \"choropleth\": [{\"colorbar\": {\"outlinewidth\": 0, \"ticks\": \"\"}, \"type\": \"choropleth\"}], \"contour\": [{\"colorbar\": {\"outlinewidth\": 0, \"ticks\": \"\"}, \"colorscale\": [[0.0, \"#0d0887\"], [0.1111111111111111, \"#46039f\"], [0.2222222222222222, \"#7201a8\"], [0.3333333333333333, \"#9c179e\"], [0.4444444444444444, \"#bd3786\"], [0.5555555555555556, \"#d8576b\"], [0.6666666666666666, \"#ed7953\"], [0.7777777777777778, \"#fb9f3a\"], [0.8888888888888888, \"#fdca26\"], [1.0, \"#f0f921\"]], \"type\": \"contour\"}], \"contourcarpet\": [{\"colorbar\": {\"outlinewidth\": 0, \"ticks\": \"\"}, \"type\": \"contourcarpet\"}], \"heatmap\": [{\"colorbar\": {\"outlinewidth\": 0, \"ticks\": \"\"}, \"colorscale\": [[0.0, \"#0d0887\"], [0.1111111111111111, \"#46039f\"], [0.2222222222222222, \"#7201a8\"], [0.3333333333333333, \"#9c179e\"], [0.4444444444444444, \"#bd3786\"], [0.5555555555555556, \"#d8576b\"], [0.6666666666666666, \"#ed7953\"], [0.7777777777777778, \"#fb9f3a\"], [0.8888888888888888, \"#fdca26\"], [1.0, \"#f0f921\"]], \"type\": \"heatmap\"}], \"heatmapgl\": [{\"colorbar\": {\"outlinewidth\": 0, \"ticks\": \"\"}, \"colorscale\": [[0.0, \"#0d0887\"], [0.1111111111111111, \"#46039f\"], [0.2222222222222222, \"#7201a8\"], [0.3333333333333333, \"#9c179e\"], [0.4444444444444444, \"#bd3786\"], [0.5555555555555556, \"#d8576b\"], [0.6666666666666666, \"#ed7953\"], [0.7777777777777778, \"#fb9f3a\"], [0.8888888888888888, \"#fdca26\"], [1.0, \"#f0f921\"]], \"type\": \"heatmapgl\"}], \"histogram\": [{\"marker\": {\"colorbar\": {\"outlinewidth\": 0, \"ticks\": \"\"}}, \"type\": \"histogram\"}], \"histogram2d\": [{\"colorbar\": {\"outlinewidth\": 0, \"ticks\": \"\"}, \"colorscale\": [[0.0, \"#0d0887\"], [0.1111111111111111, \"#46039f\"], [0.2222222222222222, \"#7201a8\"], [0.3333333333333333, \"#9c179e\"], [0.4444444444444444, \"#bd3786\"], [0.5555555555555556, \"#d8576b\"], [0.6666666666666666, \"#ed7953\"], [0.7777777777777778, \"#fb9f3a\"], [0.8888888888888888, \"#fdca26\"], [1.0, \"#f0f921\"]], \"type\": \"histogram2d\"}], \"histogram2dcontour\": [{\"colorbar\": {\"outlinewidth\": 0, \"ticks\": \"\"}, \"colorscale\": [[0.0, \"#0d0887\"], [0.1111111111111111, \"#46039f\"], [0.2222222222222222, \"#7201a8\"], [0.3333333333333333, \"#9c179e\"], [0.4444444444444444, \"#bd3786\"], [0.5555555555555556, \"#d8576b\"], [0.6666666666666666, \"#ed7953\"], [0.7777777777777778, \"#fb9f3a\"], [0.8888888888888888, \"#fdca26\"], [1.0, \"#f0f921\"]], \"type\": \"histogram2dcontour\"}], \"mesh3d\": [{\"colorbar\": {\"outlinewidth\": 0, \"ticks\": \"\"}, \"type\": \"mesh3d\"}], \"parcoords\": [{\"line\": {\"colorbar\": {\"outlinewidth\": 0, \"ticks\": \"\"}}, \"type\": \"parcoords\"}], \"pie\": [{\"automargin\": true, \"type\": \"pie\"}], \"scatter\": [{\"marker\": {\"colorbar\": {\"outlinewidth\": 0, \"ticks\": \"\"}}, \"type\": \"scatter\"}], \"scatter3d\": [{\"line\": {\"colorbar\": {\"outlinewidth\": 0, \"ticks\": \"\"}}, \"marker\": {\"colorbar\": {\"outlinewidth\": 0, \"ticks\": \"\"}}, \"type\": \"scatter3d\"}], \"scattercarpet\": [{\"marker\": {\"colorbar\": {\"outlinewidth\": 0, \"ticks\": \"\"}}, \"type\": \"scattercarpet\"}], \"scattergeo\": [{\"marker\": {\"colorbar\": {\"outlinewidth\": 0, \"ticks\": \"\"}}, \"type\": \"scattergeo\"}], \"scattergl\": [{\"marker\": {\"colorbar\": {\"outlinewidth\": 0, \"ticks\": \"\"}}, \"type\": \"scattergl\"}], \"scattermapbox\": [{\"marker\": {\"colorbar\": {\"outlinewidth\": 0, \"ticks\": \"\"}}, \"type\": \"scattermapbox\"}], \"scatterpolar\": [{\"marker\": {\"colorbar\": {\"outlinewidth\": 0, \"ticks\": \"\"}}, \"type\": \"scatterpolar\"}], \"scatterpolargl\": [{\"marker\": {\"colorbar\": {\"outlinewidth\": 0, \"ticks\": \"\"}}, \"type\": \"scatterpolargl\"}], \"scatterternary\": [{\"marker\": {\"colorbar\": {\"outlinewidth\": 0, \"ticks\": \"\"}}, \"type\": \"scatterternary\"}], \"surface\": [{\"colorbar\": {\"outlinewidth\": 0, \"ticks\": \"\"}, \"colorscale\": [[0.0, \"#0d0887\"], [0.1111111111111111, \"#46039f\"], [0.2222222222222222, \"#7201a8\"], [0.3333333333333333, \"#9c179e\"], [0.4444444444444444, \"#bd3786\"], [0.5555555555555556, \"#d8576b\"], [0.6666666666666666, \"#ed7953\"], [0.7777777777777778, \"#fb9f3a\"], [0.8888888888888888, \"#fdca26\"], [1.0, \"#f0f921\"]], \"type\": \"surface\"}], \"table\": [{\"cells\": {\"fill\": {\"color\": \"#EBF0F8\"}, \"line\": {\"color\": \"white\"}}, \"header\": {\"fill\": {\"color\": \"#C8D4E3\"}, \"line\": {\"color\": \"white\"}}, \"type\": \"table\"}]}, \"layout\": {\"annotationdefaults\": {\"arrowcolor\": \"#2a3f5f\", \"arrowhead\": 0, \"arrowwidth\": 1}, \"coloraxis\": {\"colorbar\": {\"outlinewidth\": 0, \"ticks\": \"\"}}, \"colorscale\": {\"diverging\": [[0, \"#8e0152\"], [0.1, \"#c51b7d\"], [0.2, \"#de77ae\"], [0.3, \"#f1b6da\"], [0.4, \"#fde0ef\"], [0.5, \"#f7f7f7\"], [0.6, \"#e6f5d0\"], [0.7, \"#b8e186\"], [0.8, \"#7fbc41\"], [0.9, \"#4d9221\"], [1, \"#276419\"]], \"sequential\": [[0.0, \"#0d0887\"], [0.1111111111111111, \"#46039f\"], [0.2222222222222222, \"#7201a8\"], [0.3333333333333333, \"#9c179e\"], [0.4444444444444444, \"#bd3786\"], [0.5555555555555556, \"#d8576b\"], [0.6666666666666666, \"#ed7953\"], [0.7777777777777778, \"#fb9f3a\"], [0.8888888888888888, \"#fdca26\"], [1.0, \"#f0f921\"]], \"sequentialminus\": [[0.0, \"#0d0887\"], [0.1111111111111111, \"#46039f\"], [0.2222222222222222, \"#7201a8\"], [0.3333333333333333, \"#9c179e\"], [0.4444444444444444, \"#bd3786\"], [0.5555555555555556, \"#d8576b\"], [0.6666666666666666, \"#ed7953\"], [0.7777777777777778, \"#fb9f3a\"], [0.8888888888888888, \"#fdca26\"], [1.0, \"#f0f921\"]]}, \"colorway\": [\"#636efa\", \"#EF553B\", \"#00cc96\", \"#ab63fa\", \"#FFA15A\", \"#19d3f3\", \"#FF6692\", \"#B6E880\", \"#FF97FF\", \"#FECB52\"], \"font\": {\"color\": \"#2a3f5f\"}, \"geo\": {\"bgcolor\": \"white\", \"lakecolor\": \"white\", \"landcolor\": \"#E5ECF6\", \"showlakes\": true, \"showland\": true, \"subunitcolor\": \"white\"}, \"hoverlabel\": {\"align\": \"left\"}, \"hovermode\": \"closest\", \"mapbox\": {\"style\": \"light\"}, \"paper_bgcolor\": \"white\", \"plot_bgcolor\": \"#E5ECF6\", \"polar\": {\"angularaxis\": {\"gridcolor\": \"white\", \"linecolor\": \"white\", \"ticks\": \"\"}, \"bgcolor\": \"#E5ECF6\", \"radialaxis\": {\"gridcolor\": \"white\", \"linecolor\": \"white\", \"ticks\": \"\"}}, \"scene\": {\"xaxis\": {\"backgroundcolor\": \"#E5ECF6\", \"gridcolor\": \"white\", \"gridwidth\": 2, \"linecolor\": \"white\", \"showbackground\": true, \"ticks\": \"\", \"zerolinecolor\": \"white\"}, \"yaxis\": {\"backgroundcolor\": \"#E5ECF6\", \"gridcolor\": \"white\", \"gridwidth\": 2, \"linecolor\": \"white\", \"showbackground\": true, \"ticks\": \"\", \"zerolinecolor\": \"white\"}, \"zaxis\": {\"backgroundcolor\": \"#E5ECF6\", \"gridcolor\": \"white\", \"gridwidth\": 2, \"linecolor\": \"white\", \"showbackground\": true, \"ticks\": \"\", \"zerolinecolor\": \"white\"}}, \"shapedefaults\": {\"line\": {\"color\": \"#2a3f5f\"}}, \"ternary\": {\"aaxis\": {\"gridcolor\": \"white\", \"linecolor\": \"white\", \"ticks\": \"\"}, \"baxis\": {\"gridcolor\": \"white\", \"linecolor\": \"white\", \"ticks\": \"\"}, \"bgcolor\": \"#E5ECF6\", \"caxis\": {\"gridcolor\": \"white\", \"linecolor\": \"white\", \"ticks\": \"\"}}, \"title\": {\"x\": 0.05}, \"xaxis\": {\"automargin\": true, \"gridcolor\": \"white\", \"linecolor\": \"white\", \"ticks\": \"\", \"title\": {\"standoff\": 15}, \"zerolinecolor\": \"white\", \"zerolinewidth\": 2}, \"yaxis\": {\"automargin\": true, \"gridcolor\": \"white\", \"linecolor\": \"white\", \"ticks\": \"\", \"title\": {\"standoff\": 15}, \"zerolinecolor\": \"white\", \"zerolinewidth\": 2}}}, \"title\": {\"font\": {\"color\": \"#4D5663\"}, \"text\": \"# of Eligibile Individuals - Post Verification\"}, \"xaxis\": {\"gridcolor\": \"#E1E5ED\", \"showgrid\": true, \"tickfont\": {\"color\": \"#4D5663\"}, \"title\": {\"font\": {\"color\": \"#4D5663\"}, \"text\": \"\"}, \"zerolinecolor\": \"#E1E5ED\"}, \"yaxis\": {\"gridcolor\": \"#E1E5ED\", \"showgrid\": true, \"tickfont\": {\"color\": \"#4D5663\"}, \"title\": {\"font\": {\"color\": \"#4D5663\"}, \"text\": \"\"}, \"zerolinecolor\": \"#E1E5ED\"}},\n",
       "                        {\"showLink\": true, \"linkText\": \"Export to plotly.your-company.com\", \"plotlyServerURL\": \"https://plotly.your-company.com\", \"responsive\": true}\n",
       "                    ).then(function(){\n",
       "                            \n",
       "var gd = document.getElementById('03013e2c-dde9-4c83-b5f1-1c9ee3d84602');\n",
       "var x = new MutationObserver(function (mutations, observer) {{\n",
       "        var display = window.getComputedStyle(gd).display;\n",
       "        if (!display || display === 'none') {{\n",
       "            console.log([gd, 'removed!']);\n",
       "            Plotly.purge(gd);\n",
       "            observer.disconnect();\n",
       "        }}\n",
       "}});\n",
       "\n",
       "// Listen for the removal of the full notebook cells\n",
       "var notebookContainer = gd.closest('#notebook-container');\n",
       "if (notebookContainer) {{\n",
       "    x.observe(notebookContainer, {childList: true});\n",
       "}}\n",
       "\n",
       "// Listen for the clearing of the current output cell\n",
       "var outputEl = gd.closest('.output');\n",
       "if (outputEl) {{\n",
       "    x.observe(outputEl, {childList: true});\n",
       "}}\n",
       "\n",
       "                        })\n",
       "                };\n",
       "                });\n",
       "            </script>\n",
       "        </div>"
      ]
     },
     "metadata": {},
     "output_type": "display_data"
    }
   ],
   "source": [
    "Eligibile_Individuals.iplot(title=\"# of Eligibile Individuals - Post Verification\")"
   ]
  },
  {
   "cell_type": "code",
   "execution_count": 250,
   "metadata": {},
   "outputs": [
    {
     "data": {
      "text/html": [
       "<div>\n",
       "<style scoped>\n",
       "    .dataframe tbody tr th:only-of-type {\n",
       "        vertical-align: middle;\n",
       "    }\n",
       "\n",
       "    .dataframe tbody tr th {\n",
       "        vertical-align: top;\n",
       "    }\n",
       "\n",
       "    .dataframe thead th {\n",
       "        text-align: right;\n",
       "    }\n",
       "</style>\n",
       "<table border=\"1\" class=\"dataframe\">\n",
       "  <thead>\n",
       "    <tr style=\"text-align: right;\">\n",
       "      <th></th>\n",
       "      <th>Months of Payment</th>\n",
       "      <th># of Beneficiaries- Post Verification</th>\n",
       "      <th>Anasinifi_İLK OKUL_Kiz</th>\n",
       "      <th>Anasinifi_İLK OKUL_Erkek</th>\n",
       "      <th>ORTA_OKUL_Kız</th>\n",
       "      <th>ORTA_OKUL_Erkek</th>\n",
       "      <th>Lise_OKUL_Kız</th>\n",
       "      <th>Lise_OKUL_Erkek</th>\n",
       "      <th>HEP_OKUL_Kız</th>\n",
       "      <th>HEP_OKUL_Erkek</th>\n",
       "      <th>Payment Amount for Beneficiaries (TL)</th>\n",
       "      <th>Ek Ödeme Tutar (TL)</th>\n",
       "      <th>Top-Up Ödemesi (TL)</th>\n",
       "    </tr>\n",
       "  </thead>\n",
       "  <tbody>\n",
       "    <tr>\n",
       "      <th>23</th>\n",
       "      <td>May 2021</td>\n",
       "      <td>553842.0</td>\n",
       "      <td>139975.545455</td>\n",
       "      <td>133433.901210</td>\n",
       "      <td>122774.888889</td>\n",
       "      <td>126309.666667</td>\n",
       "      <td>31347.666667</td>\n",
       "      <td>25519.222222</td>\n",
       "      <td>1094.381585</td>\n",
       "      <td>1274.854111</td>\n",
       "      <td>2.482598e+07</td>\n",
       "      <td>2.345543e+05</td>\n",
       "      <td>3.518315e+05</td>\n",
       "    </tr>\n",
       "    <tr>\n",
       "      <th>24</th>\n",
       "      <td>Jul 2021</td>\n",
       "      <td>523223.0</td>\n",
       "      <td>144015.090909</td>\n",
       "      <td>131910.070442</td>\n",
       "      <td>109594.777778</td>\n",
       "      <td>112031.333333</td>\n",
       "      <td>25671.333333</td>\n",
       "      <td>20802.444444</td>\n",
       "      <td>1090.941816</td>\n",
       "      <td>1238.440450</td>\n",
       "      <td>2.365786e+07</td>\n",
       "      <td>0.000000e+00</td>\n",
       "      <td>0.000000e+00</td>\n",
       "    </tr>\n",
       "    <tr>\n",
       "      <th>25</th>\n",
       "      <td>Sep 2021</td>\n",
       "      <td>518144.0</td>\n",
       "      <td>157213.636364</td>\n",
       "      <td>135989.793658</td>\n",
       "      <td>100224.666667</td>\n",
       "      <td>102456.000000</td>\n",
       "      <td>22259.000000</td>\n",
       "      <td>17749.666667</td>\n",
       "      <td>1378.925045</td>\n",
       "      <td>1589.153167</td>\n",
       "      <td>2.360198e+07</td>\n",
       "      <td>5.173955e+07</td>\n",
       "      <td>2.565935e+07</td>\n",
       "    </tr>\n",
       "    <tr>\n",
       "      <th>26</th>\n",
       "      <td>Nov 2021</td>\n",
       "      <td>507203.0</td>\n",
       "      <td>165139.181818</td>\n",
       "      <td>134066.814360</td>\n",
       "      <td>93248.555556</td>\n",
       "      <td>94995.666667</td>\n",
       "      <td>19752.666667</td>\n",
       "      <td>15856.888889</td>\n",
       "      <td>1320.216934</td>\n",
       "      <td>1526.575163</td>\n",
       "      <td>2.322720e+07</td>\n",
       "      <td>0.000000e+00</td>\n",
       "      <td>0.000000e+00</td>\n",
       "    </tr>\n",
       "    <tr>\n",
       "      <th>27</th>\n",
       "      <td>Jan 2022</td>\n",
       "      <td>581639.0</td>\n",
       "      <td>195424.727273</td>\n",
       "      <td>155980.659029</td>\n",
       "      <td>101896.444444</td>\n",
       "      <td>106733.333333</td>\n",
       "      <td>21603.333333</td>\n",
       "      <td>18491.111111</td>\n",
       "      <td>1422.800930</td>\n",
       "      <td>1668.137776</td>\n",
       "      <td>2.668819e+07</td>\n",
       "      <td>5.791845e+07</td>\n",
       "      <td>2.626106e+07</td>\n",
       "    </tr>\n",
       "  </tbody>\n",
       "</table>\n",
       "</div>"
      ],
      "text/plain": [
       "   Months of Payment  # of Beneficiaries- Post Verification  \\\n",
       "23          May 2021                               553842.0   \n",
       "24          Jul 2021                               523223.0   \n",
       "25          Sep 2021                               518144.0   \n",
       "26          Nov 2021                               507203.0   \n",
       "27          Jan 2022                               581639.0   \n",
       "\n",
       "    Anasinifi_İLK OKUL_Kiz  Anasinifi_İLK OKUL_Erkek  ORTA_OKUL_Kız  \\\n",
       "23           139975.545455             133433.901210  122774.888889   \n",
       "24           144015.090909             131910.070442  109594.777778   \n",
       "25           157213.636364             135989.793658  100224.666667   \n",
       "26           165139.181818             134066.814360   93248.555556   \n",
       "27           195424.727273             155980.659029  101896.444444   \n",
       "\n",
       "    ORTA_OKUL_Erkek  Lise_OKUL_Kız  Lise_OKUL_Erkek  HEP_OKUL_Kız  \\\n",
       "23    126309.666667   31347.666667     25519.222222   1094.381585   \n",
       "24    112031.333333   25671.333333     20802.444444   1090.941816   \n",
       "25    102456.000000   22259.000000     17749.666667   1378.925045   \n",
       "26     94995.666667   19752.666667     15856.888889   1320.216934   \n",
       "27    106733.333333   21603.333333     18491.111111   1422.800930   \n",
       "\n",
       "    HEP_OKUL_Erkek  Payment Amount for Beneficiaries (TL)  \\\n",
       "23     1274.854111                           2.482598e+07   \n",
       "24     1238.440450                           2.365786e+07   \n",
       "25     1589.153167                           2.360198e+07   \n",
       "26     1526.575163                           2.322720e+07   \n",
       "27     1668.137776                           2.668819e+07   \n",
       "\n",
       "    Ek Ödeme Tutar (TL)  Top-Up Ödemesi (TL)  \n",
       "23         2.345543e+05         3.518315e+05  \n",
       "24         0.000000e+00         0.000000e+00  \n",
       "25         5.173955e+07         2.565935e+07  \n",
       "26         0.000000e+00         0.000000e+00  \n",
       "27         5.791845e+07         2.626106e+07  "
      ]
     },
     "execution_count": 250,
     "metadata": {},
     "output_type": "execute_result"
    }
   ],
   "source": [
    "predictions.head()"
   ]
  },
  {
   "cell_type": "code",
   "execution_count": null,
   "metadata": {},
   "outputs": [],
   "source": [
    "##ACCUTARCY\n",
    "\n",
    "\n",
    "from sklearn.metrics import accuracy_score\n",
    " y_pred = predictions[\"# of Beneficiaries- Post Verification\"]\n",
    "actual_y = historic['TRC Ödeme alan faydalanıcı sayısı'][0:20]\n",
    " accuracy_score(y_true, y_pred)\n",
    "\n",
    " accuracy_score(y_true, y_pred, normalize=False)"
   ]
  },
  {
   "cell_type": "markdown",
   "metadata": {},
   "source": [
    "# New eligibles  by Registration"
   ]
  },
  {
   "cell_type": "code",
   "execution_count": 121,
   "metadata": {},
   "outputs": [
    {
     "data": {
      "text/html": [
       "<div>\n",
       "<style scoped>\n",
       "    .dataframe tbody tr th:only-of-type {\n",
       "        vertical-align: middle;\n",
       "    }\n",
       "\n",
       "    .dataframe tbody tr th {\n",
       "        vertical-align: top;\n",
       "    }\n",
       "\n",
       "    .dataframe thead th {\n",
       "        text-align: right;\n",
       "    }\n",
       "</style>\n",
       "<table border=\"1\" class=\"dataframe\">\n",
       "  <thead>\n",
       "    <tr style=\"text-align: right;\">\n",
       "      <th></th>\n",
       "      <th>Aylık Başvuru Sayısı</th>\n",
       "      <th>Toplam Başvuru Sayısı</th>\n",
       "      <th>Başvuru Sayısı Değişim Yüzdesi</th>\n",
       "      <th>Ödeme Dönemi - Tarih</th>\n",
       "      <th>Başvuru Kabul Edildi Sayısı</th>\n",
       "      <th>Unnamed: 5</th>\n",
       "      <th>Yüzde</th>\n",
       "      <th>Bakanlıktan İletilen</th>\n",
       "      <th>Yüzde.1</th>\n",
       "      <th>Unnamed: 9</th>\n",
       "      <th>ORAN_b</th>\n",
       "      <th>Bakanlıktan Gelen</th>\n",
       "      <th>TRC Ödeme alan faydalanıcı sayısı</th>\n",
       "      <th>Unnamed: 13</th>\n",
       "      <th>Unnamed: 14</th>\n",
       "      <th>odeme_oran</th>\n",
       "      <th>Unnamed: 16</th>\n",
       "      <th>Unnamed: 17</th>\n",
       "    </tr>\n",
       "  </thead>\n",
       "  <tbody>\n",
       "    <tr>\n",
       "      <th>Mart-Nisan</th>\n",
       "      <td>56831.0</td>\n",
       "      <td>56831.0</td>\n",
       "      <td>NaN</td>\n",
       "      <td>Mayıs</td>\n",
       "      <td>56831.0</td>\n",
       "      <td>0.967173</td>\n",
       "      <td>1.000000</td>\n",
       "      <td>56831.0</td>\n",
       "      <td>NaN</td>\n",
       "      <td>NaN</td>\n",
       "      <td>1.000000</td>\n",
       "      <td>56831.0</td>\n",
       "      <td>56240.0</td>\n",
       "      <td>NaN</td>\n",
       "      <td>NaN</td>\n",
       "      <td>0.989601</td>\n",
       "      <td>NaN</td>\n",
       "      <td>NaN</td>\n",
       "    </tr>\n",
       "    <tr>\n",
       "      <th>Mayıs-Haziran</th>\n",
       "      <td>72504.0</td>\n",
       "      <td>129335.0</td>\n",
       "      <td>NaN</td>\n",
       "      <td>Temmuz</td>\n",
       "      <td>129335.0</td>\n",
       "      <td>0.967173</td>\n",
       "      <td>1.000000</td>\n",
       "      <td>72504.0</td>\n",
       "      <td>0.216167</td>\n",
       "      <td>NaN</td>\n",
       "      <td>0.560591</td>\n",
       "      <td>72504.0</td>\n",
       "      <td>72027.0</td>\n",
       "      <td>NaN</td>\n",
       "      <td>NaN</td>\n",
       "      <td>0.993421</td>\n",
       "      <td>NaN</td>\n",
       "      <td>NaN</td>\n",
       "    </tr>\n",
       "    <tr>\n",
       "      <th>Temmuz-Ağustos</th>\n",
       "      <td>88303.0</td>\n",
       "      <td>217638.0</td>\n",
       "      <td>NaN</td>\n",
       "      <td>Eylül</td>\n",
       "      <td>168769.0</td>\n",
       "      <td>0.808934</td>\n",
       "      <td>0.775457</td>\n",
       "      <td>137868.0</td>\n",
       "      <td>0.474106</td>\n",
       "      <td>0.633474</td>\n",
       "      <td>0.816904</td>\n",
       "      <td>137868.0</td>\n",
       "      <td>136523.0</td>\n",
       "      <td>NaN</td>\n",
       "      <td>NaN</td>\n",
       "      <td>0.990244</td>\n",
       "      <td>NaN</td>\n",
       "      <td>NaN</td>\n",
       "    </tr>\n",
       "    <tr>\n",
       "      <th>Eylül-Ekim</th>\n",
       "      <td>96455.0</td>\n",
       "      <td>314093.0</td>\n",
       "      <td>0.307091</td>\n",
       "      <td>Kasım</td>\n",
       "      <td>281706.0</td>\n",
       "      <td>0.594386</td>\n",
       "      <td>0.896887</td>\n",
       "      <td>171144.0</td>\n",
       "      <td>0.194433</td>\n",
       "      <td>0.544883</td>\n",
       "      <td>0.607527</td>\n",
       "      <td>171144.0</td>\n",
       "      <td>167442.0</td>\n",
       "      <td>NaN</td>\n",
       "      <td>NaN</td>\n",
       "      <td>0.978369</td>\n",
       "      <td>NaN</td>\n",
       "      <td>NaN</td>\n",
       "    </tr>\n",
       "    <tr>\n",
       "      <th>Kasım-Aralık</th>\n",
       "      <td>41348.0</td>\n",
       "      <td>346577.0</td>\n",
       "      <td>0.093728</td>\n",
       "      <td>Ocak</td>\n",
       "      <td>322513.0</td>\n",
       "      <td>0.967173</td>\n",
       "      <td>0.930567</td>\n",
       "      <td>320559.0</td>\n",
       "      <td>0.466108</td>\n",
       "      <td>0.924929</td>\n",
       "      <td>0.993941</td>\n",
       "      <td>320559.0</td>\n",
       "      <td>311926.0</td>\n",
       "      <td>NaN</td>\n",
       "      <td>NaN</td>\n",
       "      <td>0.973069</td>\n",
       "      <td>0.973069</td>\n",
       "      <td>NaN</td>\n",
       "    </tr>\n",
       "    <tr>\n",
       "      <th>Ocak-Şubat</th>\n",
       "      <td>25795.0</td>\n",
       "      <td>372372.0</td>\n",
       "      <td>0.069272</td>\n",
       "      <td>Mart</td>\n",
       "      <td>344946.0</td>\n",
       "      <td>0.849188</td>\n",
       "      <td>0.926348</td>\n",
       "      <td>298499.0</td>\n",
       "      <td>-0.073903</td>\n",
       "      <td>0.801615</td>\n",
       "      <td>0.865350</td>\n",
       "      <td>298499.0</td>\n",
       "      <td>292924.0</td>\n",
       "      <td>NaN</td>\n",
       "      <td>NaN</td>\n",
       "      <td>0.981323</td>\n",
       "      <td>NaN</td>\n",
       "      <td>NaN</td>\n",
       "    </tr>\n",
       "    <tr>\n",
       "      <th>Mart-Nisan</th>\n",
       "      <td>13252.0</td>\n",
       "      <td>385624.0</td>\n",
       "      <td>0.034365</td>\n",
       "      <td>Mayıs</td>\n",
       "      <td>356333.0</td>\n",
       "      <td>0.763418</td>\n",
       "      <td>0.924043</td>\n",
       "      <td>277516.0</td>\n",
       "      <td>-0.075610</td>\n",
       "      <td>0.719654</td>\n",
       "      <td>0.778811</td>\n",
       "      <td>277516.0</td>\n",
       "      <td>272031.0</td>\n",
       "      <td>NaN</td>\n",
       "      <td>NaN</td>\n",
       "      <td>0.980235</td>\n",
       "      <td>NaN</td>\n",
       "      <td>NaN</td>\n",
       "    </tr>\n",
       "    <tr>\n",
       "      <th>Mayıs-Haziran</th>\n",
       "      <td>3480.0</td>\n",
       "      <td>389104.0</td>\n",
       "      <td>0.008944</td>\n",
       "      <td>Temmuz</td>\n",
       "      <td>357633.0</td>\n",
       "      <td>0.873205</td>\n",
       "      <td>0.919119</td>\n",
       "      <td>322139.0</td>\n",
       "      <td>0.138521</td>\n",
       "      <td>0.827899</td>\n",
       "      <td>0.900753</td>\n",
       "      <td>322139.0</td>\n",
       "      <td>312287.0</td>\n",
       "      <td>NaN</td>\n",
       "      <td>NaN</td>\n",
       "      <td>0.969417</td>\n",
       "      <td>NaN</td>\n",
       "      <td>NaN</td>\n",
       "    </tr>\n",
       "    <tr>\n",
       "      <th>Temmuz-Ağustos</th>\n",
       "      <td>21794.0</td>\n",
       "      <td>410898.0</td>\n",
       "      <td>0.053040</td>\n",
       "      <td>Eylül</td>\n",
       "      <td>366268.0</td>\n",
       "      <td>0.932328</td>\n",
       "      <td>0.891384</td>\n",
       "      <td>361078.0</td>\n",
       "      <td>0.107841</td>\n",
       "      <td>0.878753</td>\n",
       "      <td>0.985830</td>\n",
       "      <td>361078.0</td>\n",
       "      <td>341482.0</td>\n",
       "      <td>NaN</td>\n",
       "      <td>NaN</td>\n",
       "      <td>0.945729</td>\n",
       "      <td>NaN</td>\n",
       "      <td>NaN</td>\n",
       "    </tr>\n",
       "    <tr>\n",
       "      <th>Eylül-Ekim</th>\n",
       "      <td>78355.0</td>\n",
       "      <td>489253.0</td>\n",
       "      <td>0.160152</td>\n",
       "      <td>Kasım</td>\n",
       "      <td>444915.0</td>\n",
       "      <td>0.707468</td>\n",
       "      <td>0.909376</td>\n",
       "      <td>323418.0</td>\n",
       "      <td>-0.116444</td>\n",
       "      <td>0.661044</td>\n",
       "      <td>0.726921</td>\n",
       "      <td>323418.0</td>\n",
       "      <td>314763.0</td>\n",
       "      <td>NaN</td>\n",
       "      <td>NaN</td>\n",
       "      <td>0.973239</td>\n",
       "      <td>NaN</td>\n",
       "      <td>NaN</td>\n",
       "    </tr>\n",
       "    <tr>\n",
       "      <th>Kasım-Aralık</th>\n",
       "      <td>21260.0</td>\n",
       "      <td>510513.0</td>\n",
       "      <td>0.041644</td>\n",
       "      <td>Ocak</td>\n",
       "      <td>463333.0</td>\n",
       "      <td>0.947947</td>\n",
       "      <td>0.907583</td>\n",
       "      <td>462411.0</td>\n",
       "      <td>0.300583</td>\n",
       "      <td>0.905777</td>\n",
       "      <td>0.998010</td>\n",
       "      <td>462411.0</td>\n",
       "      <td>439215.0</td>\n",
       "      <td>NaN</td>\n",
       "      <td>NaN</td>\n",
       "      <td>0.949837</td>\n",
       "      <td>NaN</td>\n",
       "      <td>NaN</td>\n",
       "    </tr>\n",
       "    <tr>\n",
       "      <th>Ocak-Şubat</th>\n",
       "      <td>16238.0</td>\n",
       "      <td>526751.0</td>\n",
       "      <td>0.030827</td>\n",
       "      <td>Mart</td>\n",
       "      <td>471829.0</td>\n",
       "      <td>0.856582</td>\n",
       "      <td>0.895734</td>\n",
       "      <td>412832.0</td>\n",
       "      <td>-0.120095</td>\n",
       "      <td>0.783733</td>\n",
       "      <td>0.874961</td>\n",
       "      <td>412832.0</td>\n",
       "      <td>404160.0</td>\n",
       "      <td>NaN</td>\n",
       "      <td>NaN</td>\n",
       "      <td>0.978994</td>\n",
       "      <td>NaN</td>\n",
       "      <td>NaN</td>\n",
       "    </tr>\n",
       "    <tr>\n",
       "      <th>Mart-Nisan</th>\n",
       "      <td>8733.0</td>\n",
       "      <td>535484.0</td>\n",
       "      <td>0.016309</td>\n",
       "      <td>Mayıs</td>\n",
       "      <td>479104.0</td>\n",
       "      <td>0.832855</td>\n",
       "      <td>0.894712</td>\n",
       "      <td>407715.0</td>\n",
       "      <td>-0.012550</td>\n",
       "      <td>0.761395</td>\n",
       "      <td>0.850995</td>\n",
       "      <td>407715.0</td>\n",
       "      <td>399024.0</td>\n",
       "      <td>NaN</td>\n",
       "      <td>NaN</td>\n",
       "      <td>0.978684</td>\n",
       "      <td>NaN</td>\n",
       "      <td>NaN</td>\n",
       "    </tr>\n",
       "  </tbody>\n",
       "</table>\n",
       "</div>"
      ],
      "text/plain": [
       "                Aylık Başvuru Sayısı  Toplam Başvuru Sayısı  \\\n",
       "Mart-Nisan                   56831.0                56831.0   \n",
       "Mayıs-Haziran                72504.0               129335.0   \n",
       "Temmuz-Ağustos               88303.0               217638.0   \n",
       "Eylül-Ekim                   96455.0               314093.0   \n",
       "Kasım-Aralık                 41348.0               346577.0   \n",
       "Ocak-Şubat                   25795.0               372372.0   \n",
       "Mart-Nisan                   13252.0               385624.0   \n",
       "Mayıs-Haziran                 3480.0               389104.0   \n",
       "Temmuz-Ağustos               21794.0               410898.0   \n",
       "Eylül-Ekim                   78355.0               489253.0   \n",
       "Kasım-Aralık                 21260.0               510513.0   \n",
       "Ocak-Şubat                   16238.0               526751.0   \n",
       "Mart-Nisan                    8733.0               535484.0   \n",
       "\n",
       "                Başvuru Sayısı Değişim Yüzdesi Ödeme Dönemi - Tarih  \\\n",
       "Mart-Nisan                                 NaN                Mayıs   \n",
       "Mayıs-Haziran                              NaN               Temmuz   \n",
       "Temmuz-Ağustos                             NaN                Eylül   \n",
       "Eylül-Ekim                            0.307091                Kasım   \n",
       "Kasım-Aralık                          0.093728                 Ocak   \n",
       "Ocak-Şubat                            0.069272                 Mart   \n",
       "Mart-Nisan                            0.034365                Mayıs   \n",
       "Mayıs-Haziran                         0.008944               Temmuz   \n",
       "Temmuz-Ağustos                        0.053040                Eylül   \n",
       "Eylül-Ekim                            0.160152                Kasım   \n",
       "Kasım-Aralık                          0.041644                 Ocak   \n",
       "Ocak-Şubat                            0.030827                 Mart   \n",
       "Mart-Nisan                            0.016309                Mayıs   \n",
       "\n",
       "                Başvuru Kabul Edildi Sayısı  Unnamed: 5     Yüzde  \\\n",
       "Mart-Nisan                          56831.0    0.967173  1.000000   \n",
       "Mayıs-Haziran                      129335.0    0.967173  1.000000   \n",
       "Temmuz-Ağustos                     168769.0    0.808934  0.775457   \n",
       "Eylül-Ekim                         281706.0    0.594386  0.896887   \n",
       "Kasım-Aralık                       322513.0    0.967173  0.930567   \n",
       "Ocak-Şubat                         344946.0    0.849188  0.926348   \n",
       "Mart-Nisan                         356333.0    0.763418  0.924043   \n",
       "Mayıs-Haziran                      357633.0    0.873205  0.919119   \n",
       "Temmuz-Ağustos                     366268.0    0.932328  0.891384   \n",
       "Eylül-Ekim                         444915.0    0.707468  0.909376   \n",
       "Kasım-Aralık                       463333.0    0.947947  0.907583   \n",
       "Ocak-Şubat                         471829.0    0.856582  0.895734   \n",
       "Mart-Nisan                         479104.0    0.832855  0.894712   \n",
       "\n",
       "                Bakanlıktan İletilen    Yüzde.1  Unnamed: 9    ORAN_b  \\\n",
       "Mart-Nisan                    56831.0       NaN         NaN  1.000000   \n",
       "Mayıs-Haziran                 72504.0  0.216167         NaN  0.560591   \n",
       "Temmuz-Ağustos               137868.0  0.474106    0.633474  0.816904   \n",
       "Eylül-Ekim                   171144.0  0.194433    0.544883  0.607527   \n",
       "Kasım-Aralık                 320559.0  0.466108    0.924929  0.993941   \n",
       "Ocak-Şubat                   298499.0 -0.073903    0.801615  0.865350   \n",
       "Mart-Nisan                   277516.0 -0.075610    0.719654  0.778811   \n",
       "Mayıs-Haziran                322139.0  0.138521    0.827899  0.900753   \n",
       "Temmuz-Ağustos               361078.0  0.107841    0.878753  0.985830   \n",
       "Eylül-Ekim                   323418.0 -0.116444    0.661044  0.726921   \n",
       "Kasım-Aralık                 462411.0  0.300583    0.905777  0.998010   \n",
       "Ocak-Şubat                   412832.0 -0.120095    0.783733  0.874961   \n",
       "Mart-Nisan                   407715.0 -0.012550    0.761395  0.850995   \n",
       "\n",
       "                Bakanlıktan Gelen  TRC Ödeme alan faydalanıcı sayısı  \\\n",
       "Mart-Nisan                56831.0                            56240.0   \n",
       "Mayıs-Haziran             72504.0                            72027.0   \n",
       "Temmuz-Ağustos           137868.0                           136523.0   \n",
       "Eylül-Ekim               171144.0                           167442.0   \n",
       "Kasım-Aralık             320559.0                           311926.0   \n",
       "Ocak-Şubat               298499.0                           292924.0   \n",
       "Mart-Nisan               277516.0                           272031.0   \n",
       "Mayıs-Haziran            322139.0                           312287.0   \n",
       "Temmuz-Ağustos           361078.0                           341482.0   \n",
       "Eylül-Ekim               323418.0                           314763.0   \n",
       "Kasım-Aralık             462411.0                           439215.0   \n",
       "Ocak-Şubat               412832.0                           404160.0   \n",
       "Mart-Nisan               407715.0                           399024.0   \n",
       "\n",
       "                Unnamed: 13  Unnamed: 14  odeme_oran  Unnamed: 16  Unnamed: 17  \n",
       "Mart-Nisan              NaN          NaN    0.989601          NaN          NaN  \n",
       "Mayıs-Haziran           NaN          NaN    0.993421          NaN          NaN  \n",
       "Temmuz-Ağustos          NaN          NaN    0.990244          NaN          NaN  \n",
       "Eylül-Ekim              NaN          NaN    0.978369          NaN          NaN  \n",
       "Kasım-Aralık            NaN          NaN    0.973069     0.973069          NaN  \n",
       "Ocak-Şubat              NaN          NaN    0.981323          NaN          NaN  \n",
       "Mart-Nisan              NaN          NaN    0.980235          NaN          NaN  \n",
       "Mayıs-Haziran           NaN          NaN    0.969417          NaN          NaN  \n",
       "Temmuz-Ağustos          NaN          NaN    0.945729          NaN          NaN  \n",
       "Eylül-Ekim              NaN          NaN    0.973239          NaN          NaN  \n",
       "Kasım-Aralık            NaN          NaN    0.949837          NaN          NaN  \n",
       "Ocak-Şubat              NaN          NaN    0.978994          NaN          NaN  \n",
       "Mart-Nisan              NaN          NaN    0.978684          NaN          NaN  "
      ]
     },
     "execution_count": 121,
     "metadata": {},
     "output_type": "execute_result"
    }
   ],
   "source": [
    "historic.head(13)"
   ]
  },
  {
   "cell_type": "code",
   "execution_count": 67,
   "metadata": {
    "scrolled": false
   },
   "outputs": [
    {
     "data": {
      "text/plain": [
       "[<matplotlib.lines.Line2D at 0x19bdcbbb978>]"
      ]
     },
     "execution_count": 67,
     "metadata": {},
     "output_type": "execute_result"
    },
    {
     "data": {
      "image/png": "[encoded data removed]",
      "text/plain": [
       "<Figure size 432x288 with 1 Axes>"
      ]
     },
     "metadata": {
      "needs_background": "light"
     },
     "output_type": "display_data"
    }
   ],
   "source": [
    "train=historic['TRC Ödeme alan faydalanıcı sayısı'][0:10]\n",
    "test=historic['TRC Ödeme alan faydalanıcı sayısı'][11:18]\n",
    "\n",
    "plt.plot(train)\n",
    "plt.plot(test)"
   ]
  },
  {
   "cell_type": "code",
   "execution_count": 68,
   "metadata": {},
   "outputs": [
    {
     "data": {
      "text/plain": [
       "Ocak-Şubat        404160.0\n",
       "Mart-Nisan        399024.0\n",
       "Mayıs-Haziran     391092.0\n",
       "Temmuz-Ağustos    445757.0\n",
       "Eylül-Ekim        381993.0\n",
       "Kasım-Aralık      498551.0\n",
       "Ocak-Şubat        462467.0\n",
       "Name: TRC Ödeme alan faydalanıcı sayısı, dtype: float64"
      ]
     },
     "execution_count": 68,
     "metadata": {},
     "output_type": "execute_result"
    }
   ],
   "source": [
    "test"
   ]
  },
  {
   "cell_type": "code",
   "execution_count": 70,
   "metadata": {},
   "outputs": [
    {
     "name": "stdout",
     "output_type": "stream",
     "text": [
      "Fit ARIMA: order=(0, 1, 0) seasonal_order=(0, 0, 0, 12); AIC=224.416, BIC=224.810, Fit time=0.090 seconds\n",
      "Fit ARIMA: order=(1, 1, 0) seasonal_order=(1, 0, 0, 12); AIC=nan, BIC=nan, Fit time=nan seconds\n",
      "Fit ARIMA: order=(0, 1, 1) seasonal_order=(0, 0, 1, 12); AIC=nan, BIC=nan, Fit time=nan seconds\n",
      "Fit ARIMA: order=(0, 1, 0) seasonal_order=(1, 0, 0, 12); AIC=nan, BIC=nan, Fit time=nan seconds\n",
      "Fit ARIMA: order=(0, 1, 0) seasonal_order=(0, 0, 1, 12); AIC=nan, BIC=nan, Fit time=nan seconds\n",
      "Fit ARIMA: order=(0, 1, 0) seasonal_order=(1, 0, 1, 12); AIC=nan, BIC=nan, Fit time=nan seconds\n",
      "Fit ARIMA: order=(1, 1, 0) seasonal_order=(0, 0, 0, 12); AIC=226.106, BIC=226.698, Fit time=0.015 seconds\n",
      "Fit ARIMA: order=(0, 1, 1) seasonal_order=(0, 0, 0, 12); AIC=228.119, BIC=228.711, Fit time=0.016 seconds\n",
      "Fit ARIMA: order=(1, 1, 1) seasonal_order=(0, 0, 0, 12); AIC=nan, BIC=nan, Fit time=nan seconds\n",
      "Total fit time: 0.130 seconds\n",
      "224.4156954528449\n"
     ]
    }
   ],
   "source": [
    "train_model  = auto_arima(train, start_p=0, start_q=0,\n",
    "                           max_p=10, max_q=10, m=12,\n",
    "                           start_P=0, seasonal=True,start_Q=0,\n",
    "                           d=1, D=0, trace=True,\n",
    "                           error_action='ignore',  \n",
    "                           suppress_warnings=True, \n",
    "                           stepwise=True,random_state=20,n_fits=50)\n",
    "print(train_model.aic())"
   ]
  },
  {
   "cell_type": "code",
   "execution_count": 73,
   "metadata": {},
   "outputs": [],
   "source": [
    "prediction1 = pd.DataFrame(train_model.predict(n_periods=7),index=test.index)"
   ]
  },
  {
   "cell_type": "code",
   "execution_count": 74,
   "metadata": {},
   "outputs": [
    {
     "data": {
      "text/html": [
       "<div>\n",
       "<style scoped>\n",
       "    .dataframe tbody tr th:only-of-type {\n",
       "        vertical-align: middle;\n",
       "    }\n",
       "\n",
       "    .dataframe tbody tr th {\n",
       "        vertical-align: top;\n",
       "    }\n",
       "\n",
       "    .dataframe thead th {\n",
       "        text-align: right;\n",
       "    }\n",
       "</style>\n",
       "<table border=\"1\" class=\"dataframe\">\n",
       "  <thead>\n",
       "    <tr style=\"text-align: right;\">\n",
       "      <th></th>\n",
       "      <th>Predicted house holds</th>\n",
       "    </tr>\n",
       "  </thead>\n",
       "  <tbody>\n",
       "    <tr>\n",
       "      <th>Ocak-Şubat</th>\n",
       "      <td>343487.777778</td>\n",
       "    </tr>\n",
       "    <tr>\n",
       "      <th>Mart-Nisan</th>\n",
       "      <td>372212.555556</td>\n",
       "    </tr>\n",
       "    <tr>\n",
       "      <th>Mayıs-Haziran</th>\n",
       "      <td>400937.333333</td>\n",
       "    </tr>\n",
       "    <tr>\n",
       "      <th>Temmuz-Ağustos</th>\n",
       "      <td>429662.111111</td>\n",
       "    </tr>\n",
       "    <tr>\n",
       "      <th>Eylül-Ekim</th>\n",
       "      <td>458386.888889</td>\n",
       "    </tr>\n",
       "    <tr>\n",
       "      <th>Kasım-Aralık</th>\n",
       "      <td>487111.666667</td>\n",
       "    </tr>\n",
       "    <tr>\n",
       "      <th>Ocak-Şubat</th>\n",
       "      <td>515836.444444</td>\n",
       "    </tr>\n",
       "  </tbody>\n",
       "</table>\n",
       "</div>"
      ],
      "text/plain": [
       "                Predicted house holds\n",
       "Ocak-Şubat              343487.777778\n",
       "Mart-Nisan              372212.555556\n",
       "Mayıs-Haziran           400937.333333\n",
       "Temmuz-Ağustos          429662.111111\n",
       "Eylül-Ekim              458386.888889\n",
       "Kasım-Aralık            487111.666667\n",
       "Ocak-Şubat              515836.444444"
      ]
     },
     "execution_count": 74,
     "metadata": {},
     "output_type": "execute_result"
    }
   ],
   "source": [
    "prediction1.columns=['Predicted # of Applications']\n",
    "prediction1"
   ]
  },
  {
   "cell_type": "code",
   "execution_count": 75,
   "metadata": {
    "scrolled": false
   },
   "outputs": [
    {
     "name": "stderr",
     "output_type": "stream",
     "text": [
      "C:\\Users\\fedaa.elderdesawe\\Oracle\\feda\\lib\\site-packages\\ipykernel_launcher.py:5: MatplotlibDeprecationWarning:\n",
      "\n",
      "Unrecognized location 'upperleft'. Falling back on 'best'; valid locations are\n",
      "\tbest\n",
      "\tupper right\n",
      "\tupper left\n",
      "\tlower left\n",
      "\tlower right\n",
      "\tright\n",
      "\tcenter left\n",
      "\tcenter right\n",
      "\tlower center\n",
      "\tupper center\n",
      "\tcenter\n",
      "This will raise an exception in 3.3.\n",
      "\n"
     ]
    },
    {
     "data": {
      "image/png": "[encoded data removed]",
      "text/plain": [
       "<Figure size 576x360 with 1 Axes>"
      ]
     },
     "metadata": {
      "needs_background": "light"
     },
     "output_type": "display_data"
    }
   ],
   "source": [
    "plt.figure(figsize=(8,5))\n",
    "plt.plot(train,label=\"Training\")\n",
    "plt.plot(test,label=\"Test\")\n",
    "plt.plot(prediction1,label=\"Predicted\")\n",
    "plt.legend(loc='upperleft')\n",
    "plt.show()"
   ]
  },
  {
   "cell_type": "code",
   "execution_count": 76,
   "metadata": {
    "scrolled": true
   },
   "outputs": [
    {
     "data": {
      "application/vnd.plotly.v1+json": {
       "config": {
        "linkText": "Export to plotly.your-company.com",
        "plotlyServerURL": "https://plotly.your-company.com",
        "showLink": true
       },
       "data": [
        {
         "line": {
          "color": "rgba(255, 153, 51, 1.0)",
          "dash": "solid",
          "shape": "linear",
          "width": 1.3
         },
         "mode": "lines",
         "name": "TRC Ödeme alan faydalanıcı sayısı",
         "text": "",
         "type": "scatter",
         "x": [
          "Ocak-Şubat",
          "Mart-Nisan",
          "Mayıs-Haziran",
          "Temmuz-Ağustos",
          "Eylül-Ekim",
          "Kasım-Aralık",
          "Ocak-Şubat"
         ],
         "y": [
          404160,
          399024,
          391092,
          445757,
          381993,
          498551,
          462467
         ]
        },
        {
         "line": {
          "color": "rgba(55, 128, 191, 1.0)",
          "dash": "solid",
          "shape": "linear",
          "width": 1.3
         },
         "mode": "lines",
         "name": "Predicted house holds",
         "text": "",
         "type": "scatter",
         "x": [
          "Ocak-Şubat",
          "Mart-Nisan",
          "Mayıs-Haziran",
          "Temmuz-Ağustos",
          "Eylül-Ekim",
          "Kasım-Aralık",
          "Ocak-Şubat"
         ],
         "y": [
          343487.77777777775,
          372212.5555555555,
          400937.33333333326,
          429662.111111111,
          458386.88888888876,
          487111.6666666665,
          515836.44444444426
         ]
        }
       ],
       "layout": {
        "legend": {
         "bgcolor": "#F5F6F9",
         "font": {
          "color": "#4D5663"
         }
        },
        "paper_bgcolor": "#F5F6F9",
        "plot_bgcolor": "#F5F6F9",
        "template": {
         "data": {
          "bar": [
           {
            "error_x": {
             "color": "#2a3f5f"
            },
            "error_y": {
             "color": "#2a3f5f"
            },
            "marker": {
             "line": {
              "color": "#E5ECF6",
              "width": 0.5
             }
            },
            "type": "bar"
           }
          ],
          "barpolar": [
           {
            "marker": {
             "line": {
              "color": "#E5ECF6",
              "width": 0.5
             }
            },
            "type": "barpolar"
           }
          ],
          "carpet": [
           {
            "aaxis": {
             "endlinecolor": "#2a3f5f",
             "gridcolor": "white",
             "linecolor": "white",
             "minorgridcolor": "white",
             "startlinecolor": "#2a3f5f"
            },
            "baxis": {
             "endlinecolor": "#2a3f5f",
             "gridcolor": "white",
             "linecolor": "white",
             "minorgridcolor": "white",
             "startlinecolor": "#2a3f5f"
            },
            "type": "carpet"
           }
          ],
          "choropleth": [
           {
            "colorbar": {
             "outlinewidth": 0,
             "ticks": ""
            },
            "type": "choropleth"
           }
          ],
          "contour": [
           {
            "colorbar": {
             "outlinewidth": 0,
             "ticks": ""
            },
            "colorscale": [
             [
              0,
              "#0d0887"
             ],
             [
              0.1111111111111111,
              "#46039f"
             ],
             [
              0.2222222222222222,
              "#7201a8"
             ],
             [
              0.3333333333333333,
              "#9c179e"
             ],
             [
              0.4444444444444444,
              "#bd3786"
             ],
             [
              0.5555555555555556,
              "#d8576b"
             ],
             [
              0.6666666666666666,
              "#ed7953"
             ],
             [
              0.7777777777777778,
              "#fb9f3a"
             ],
             [
              0.8888888888888888,
              "#fdca26"
             ],
             [
              1,
              "#f0f921"
             ]
            ],
            "type": "contour"
           }
          ],
          "contourcarpet": [
           {
            "colorbar": {
             "outlinewidth": 0,
             "ticks": ""
            },
            "type": "contourcarpet"
           }
          ],
          "heatmap": [
           {
            "colorbar": {
             "outlinewidth": 0,
             "ticks": ""
            },
            "colorscale": [
             [
              0,
              "#0d0887"
             ],
             [
              0.1111111111111111,
              "#46039f"
             ],
             [
              0.2222222222222222,
              "#7201a8"
             ],
             [
              0.3333333333333333,
              "#9c179e"
             ],
             [
              0.4444444444444444,
              "#bd3786"
             ],
             [
              0.5555555555555556,
              "#d8576b"
             ],
             [
              0.6666666666666666,
              "#ed7953"
             ],
             [
              0.7777777777777778,
              "#fb9f3a"
             ],
             [
              0.8888888888888888,
              "#fdca26"
             ],
             [
              1,
              "#f0f921"
             ]
            ],
            "type": "heatmap"
           }
          ],
          "heatmapgl": [
           {
            "colorbar": {
             "outlinewidth": 0,
             "ticks": ""
            },
            "colorscale": [
             [
              0,
              "#0d0887"
             ],
             [
              0.1111111111111111,
              "#46039f"
             ],
             [
              0.2222222222222222,
              "#7201a8"
             ],
             [
              0.3333333333333333,
              "#9c179e"
             ],
             [
              0.4444444444444444,
              "#bd3786"
             ],
             [
              0.5555555555555556,
              "#d8576b"
             ],
             [
              0.6666666666666666,
              "#ed7953"
             ],
             [
              0.7777777777777778,
              "#fb9f3a"
             ],
             [
              0.8888888888888888,
              "#fdca26"
             ],
             [
              1,
              "#f0f921"
             ]
            ],
            "type": "heatmapgl"
           }
          ],
          "histogram": [
           {
            "marker": {
             "colorbar": {
              "outlinewidth": 0,
              "ticks": ""
             }
            },
            "type": "histogram"
           }
          ],
          "histogram2d": [
           {
            "colorbar": {
             "outlinewidth": 0,
             "ticks": ""
            },
            "colorscale": [
             [
              0,
              "#0d0887"
             ],
             [
              0.1111111111111111,
              "#46039f"
             ],
             [
              0.2222222222222222,
              "#7201a8"
             ],
             [
              0.3333333333333333,
              "#9c179e"
             ],
             [
              0.4444444444444444,
              "#bd3786"
             ],
             [
              0.5555555555555556,
              "#d8576b"
             ],
             [
              0.6666666666666666,
              "#ed7953"
             ],
             [
              0.7777777777777778,
              "#fb9f3a"
             ],
             [
              0.8888888888888888,
              "#fdca26"
             ],
             [
              1,
              "#f0f921"
             ]
            ],
            "type": "histogram2d"
           }
          ],
          "histogram2dcontour": [
           {
            "colorbar": {
             "outlinewidth": 0,
             "ticks": ""
            },
            "colorscale": [
             [
              0,
              "#0d0887"
             ],
             [
              0.1111111111111111,
              "#46039f"
             ],
             [
              0.2222222222222222,
              "#7201a8"
             ],
             [
              0.3333333333333333,
              "#9c179e"
             ],
             [
              0.4444444444444444,
              "#bd3786"
             ],
             [
              0.5555555555555556,
              "#d8576b"
             ],
             [
              0.6666666666666666,
              "#ed7953"
             ],
             [
              0.7777777777777778,
              "#fb9f3a"
             ],
             [
              0.8888888888888888,
              "#fdca26"
             ],
             [
              1,
              "#f0f921"
             ]
            ],
            "type": "histogram2dcontour"
           }
          ],
          "mesh3d": [
           {
            "colorbar": {
             "outlinewidth": 0,
             "ticks": ""
            },
            "type": "mesh3d"
           }
          ],
          "parcoords": [
           {
            "line": {
             "colorbar": {
              "outlinewidth": 0,
              "ticks": ""
             }
            },
            "type": "parcoords"
           }
          ],
          "pie": [
           {
            "automargin": true,
            "type": "pie"
           }
          ],
          "scatter": [
           {
            "marker": {
             "colorbar": {
              "outlinewidth": 0,
              "ticks": ""
             }
            },
            "type": "scatter"
           }
          ],
          "scatter3d": [
           {
            "line": {
             "colorbar": {
              "outlinewidth": 0,
              "ticks": ""
             }
            },
            "marker": {
             "colorbar": {
              "outlinewidth": 0,
              "ticks": ""
             }
            },
            "type": "scatter3d"
           }
          ],
          "scattercarpet": [
           {
            "marker": {
             "colorbar": {
              "outlinewidth": 0,
              "ticks": ""
             }
            },
            "type": "scattercarpet"
           }
          ],
          "scattergeo": [
           {
            "marker": {
             "colorbar": {
              "outlinewidth": 0,
              "ticks": ""
             }
            },
            "type": "scattergeo"
           }
          ],
          "scattergl": [
           {
            "marker": {
             "colorbar": {
              "outlinewidth": 0,
              "ticks": ""
             }
            },
            "type": "scattergl"
           }
          ],
          "scattermapbox": [
           {
            "marker": {
             "colorbar": {
              "outlinewidth": 0,
              "ticks": ""
             }
            },
            "type": "scattermapbox"
           }
          ],
          "scatterpolar": [
           {
            "marker": {
             "colorbar": {
              "outlinewidth": 0,
              "ticks": ""
             }
            },
            "type": "scatterpolar"
           }
          ],
          "scatterpolargl": [
           {
            "marker": {
             "colorbar": {
              "outlinewidth": 0,
              "ticks": ""
             }
            },
            "type": "scatterpolargl"
           }
          ],
          "scatterternary": [
           {
            "marker": {
             "colorbar": {
              "outlinewidth": 0,
              "ticks": ""
             }
            },
            "type": "scatterternary"
           }
          ],
          "surface": [
           {
            "colorbar": {
             "outlinewidth": 0,
             "ticks": ""
            },
            "colorscale": [
             [
              0,
              "#0d0887"
             ],
             [
              0.1111111111111111,
              "#46039f"
             ],
             [
              0.2222222222222222,
              "#7201a8"
             ],
             [
              0.3333333333333333,
              "#9c179e"
             ],
             [
              0.4444444444444444,
              "#bd3786"
             ],
             [
              0.5555555555555556,
              "#d8576b"
             ],
             [
              0.6666666666666666,
              "#ed7953"
             ],
             [
              0.7777777777777778,
              "#fb9f3a"
             ],
             [
              0.8888888888888888,
              "#fdca26"
             ],
             [
              1,
              "#f0f921"
             ]
            ],
            "type": "surface"
           }
          ],
          "table": [
           {
            "cells": {
             "fill": {
              "color": "#EBF0F8"
             },
             "line": {
              "color": "white"
             }
            },
            "header": {
             "fill": {
              "color": "#C8D4E3"
             },
             "line": {
              "color": "white"
             }
            },
            "type": "table"
           }
          ]
         },
         "layout": {
          "annotationdefaults": {
           "arrowcolor": "#2a3f5f",
           "arrowhead": 0,
           "arrowwidth": 1
          },
          "coloraxis": {
           "colorbar": {
            "outlinewidth": 0,
            "ticks": ""
           }
          },
          "colorscale": {
           "diverging": [
            [
             0,
             "#8e0152"
            ],
            [
             0.1,
             "#c51b7d"
            ],
            [
             0.2,
             "#de77ae"
            ],
            [
             0.3,
             "#f1b6da"
            ],
            [
             0.4,
             "#fde0ef"
            ],
            [
             0.5,
             "#f7f7f7"
            ],
            [
             0.6,
             "#e6f5d0"
            ],
            [
             0.7,
             "#b8e186"
            ],
            [
             0.8,
             "#7fbc41"
            ],
            [
             0.9,
             "#4d9221"
            ],
            [
             1,
             "#276419"
            ]
           ],
           "sequential": [
            [
             0,
             "#0d0887"
            ],
            [
             0.1111111111111111,
             "#46039f"
            ],
            [
             0.2222222222222222,
             "#7201a8"
            ],
            [
             0.3333333333333333,
             "#9c179e"
            ],
            [
             0.4444444444444444,
             "#bd3786"
            ],
            [
             0.5555555555555556,
             "#d8576b"
            ],
            [
             0.6666666666666666,
             "#ed7953"
            ],
            [
             0.7777777777777778,
             "#fb9f3a"
            ],
            [
             0.8888888888888888,
             "#fdca26"
            ],
            [
             1,
             "#f0f921"
            ]
           ],
           "sequentialminus": [
            [
             0,
             "#0d0887"
            ],
            [
             0.1111111111111111,
             "#46039f"
            ],
            [
             0.2222222222222222,
             "#7201a8"
            ],
            [
             0.3333333333333333,
             "#9c179e"
            ],
            [
             0.4444444444444444,
             "#bd3786"
            ],
            [
             0.5555555555555556,
             "#d8576b"
            ],
            [
             0.6666666666666666,
             "#ed7953"
            ],
            [
             0.7777777777777778,
             "#fb9f3a"
            ],
            [
             0.8888888888888888,
             "#fdca26"
            ],
            [
             1,
             "#f0f921"
            ]
           ]
          },
          "colorway": [
           "#636efa",
           "#EF553B",
           "#00cc96",
           "#ab63fa",
           "#FFA15A",
           "#19d3f3",
           "#FF6692",
           "#B6E880",
           "#FF97FF",
           "#FECB52"
          ],
          "font": {
           "color": "#2a3f5f"
          },
          "geo": {
           "bgcolor": "white",
           "lakecolor": "white",
           "landcolor": "#E5ECF6",
           "showlakes": true,
           "showland": true,
           "subunitcolor": "white"
          },
          "hoverlabel": {
           "align": "left"
          },
          "hovermode": "closest",
          "mapbox": {
           "style": "light"
          },
          "paper_bgcolor": "white",
          "plot_bgcolor": "#E5ECF6",
          "polar": {
           "angularaxis": {
            "gridcolor": "white",
            "linecolor": "white",
            "ticks": ""
           },
           "bgcolor": "#E5ECF6",
           "radialaxis": {
            "gridcolor": "white",
            "linecolor": "white",
            "ticks": ""
           }
          },
          "scene": {
           "xaxis": {
            "backgroundcolor": "#E5ECF6",
            "gridcolor": "white",
            "gridwidth": 2,
            "linecolor": "white",
            "showbackground": true,
            "ticks": "",
            "zerolinecolor": "white"
           },
           "yaxis": {
            "backgroundcolor": "#E5ECF6",
            "gridcolor": "white",
            "gridwidth": 2,
            "linecolor": "white",
            "showbackground": true,
            "ticks": "",
            "zerolinecolor": "white"
           },
           "zaxis": {
            "backgroundcolor": "#E5ECF6",
            "gridcolor": "white",
            "gridwidth": 2,
            "linecolor": "white",
            "showbackground": true,
            "ticks": "",
            "zerolinecolor": "white"
           }
          },
          "shapedefaults": {
           "line": {
            "color": "#2a3f5f"
           }
          },
          "ternary": {
           "aaxis": {
            "gridcolor": "white",
            "linecolor": "white",
            "ticks": ""
           },
           "baxis": {
            "gridcolor": "white",
            "linecolor": "white",
            "ticks": ""
           },
           "bgcolor": "#E5ECF6",
           "caxis": {
            "gridcolor": "white",
            "linecolor": "white",
            "ticks": ""
           }
          },
          "title": {
           "x": 0.05
          },
          "xaxis": {
           "automargin": true,
           "gridcolor": "white",
           "linecolor": "white",
           "ticks": "",
           "title": {
            "standoff": 15
           },
           "zerolinecolor": "white",
           "zerolinewidth": 2
          },
          "yaxis": {
           "automargin": true,
           "gridcolor": "white",
           "linecolor": "white",
           "ticks": "",
           "title": {
            "standoff": 15
           },
           "zerolinecolor": "white",
           "zerolinewidth": 2
          }
         }
        },
        "title": {
         "font": {
          "color": "#4D5663"
         }
        },
        "xaxis": {
         "gridcolor": "#E1E5ED",
         "showgrid": true,
         "tickfont": {
          "color": "#4D5663"
         },
         "title": {
          "font": {
           "color": "#4D5663"
          },
          "text": ""
         },
         "zerolinecolor": "#E1E5ED"
        },
        "yaxis": {
         "gridcolor": "#E1E5ED",
         "showgrid": true,
         "tickfont": {
          "color": "#4D5663"
         },
         "title": {
          "font": {
           "color": "#4D5663"
          },
          "text": ""
         },
         "zerolinecolor": "#E1E5ED"
        }
       }
      },
      "text/html": [
       "<div>\n",
       "        \n",
       "        \n",
       "            <div id=\"68bffb58-8375-4bf2-9937-dc7a3f605f6d\" class=\"plotly-graph-div\" style=\"height:525px; width:100%;\"></div>\n",
       "            <script type=\"text/javascript\">\n",
       "                require([\"plotly\"], function(Plotly) {\n",
       "                    window.PLOTLYENV=window.PLOTLYENV || {};\n",
       "                    window.PLOTLYENV.BASE_URL='https://plotly.your-company.com';\n",
       "                    \n",
       "                if (document.getElementById(\"68bffb58-8375-4bf2-9937-dc7a3f605f6d\")) {\n",
       "                    Plotly.newPlot(\n",
       "                        '68bffb58-8375-4bf2-9937-dc7a3f605f6d',\n",
       "                        [{\"line\": {\"color\": \"rgba(255, 153, 51, 1.0)\", \"dash\": \"solid\", \"shape\": \"linear\", \"width\": 1.3}, \"mode\": \"lines\", \"name\": \"TRC \\u00d6deme alan faydalan\\u0131c\\u0131 say\\u0131s\\u0131\", \"text\": \"\", \"type\": \"scatter\", \"x\": [\"Ocak-\\u015eubat\", \"Mart-Nisan\", \"May\\u0131s-Haziran\", \"Temmuz-A\\u011fustos\", \"Eyl\\u00fcl-Ekim\", \"Kas\\u0131m-Aral\\u0131k\", \"Ocak-\\u015eubat\"], \"y\": [404160.0, 399024.0, 391092.0, 445757.0, 381993.0, 498551.0, 462467.0]}, {\"line\": {\"color\": \"rgba(55, 128, 191, 1.0)\", \"dash\": \"solid\", \"shape\": \"linear\", \"width\": 1.3}, \"mode\": \"lines\", \"name\": \"Predicted house holds\", \"text\": \"\", \"type\": \"scatter\", \"x\": [\"Ocak-\\u015eubat\", \"Mart-Nisan\", \"May\\u0131s-Haziran\", \"Temmuz-A\\u011fustos\", \"Eyl\\u00fcl-Ekim\", \"Kas\\u0131m-Aral\\u0131k\", \"Ocak-\\u015eubat\"], \"y\": [343487.77777777775, 372212.5555555555, 400937.33333333326, 429662.111111111, 458386.88888888876, 487111.6666666665, 515836.44444444426]}],\n",
       "                        {\"legend\": {\"bgcolor\": \"#F5F6F9\", \"font\": {\"color\": \"#4D5663\"}}, \"paper_bgcolor\": \"#F5F6F9\", \"plot_bgcolor\": \"#F5F6F9\", \"template\": {\"data\": {\"bar\": [{\"error_x\": {\"color\": \"#2a3f5f\"}, \"error_y\": {\"color\": \"#2a3f5f\"}, \"marker\": {\"line\": {\"color\": \"#E5ECF6\", \"width\": 0.5}}, \"type\": \"bar\"}], \"barpolar\": [{\"marker\": {\"line\": {\"color\": \"#E5ECF6\", \"width\": 0.5}}, \"type\": \"barpolar\"}], \"carpet\": [{\"aaxis\": {\"endlinecolor\": \"#2a3f5f\", \"gridcolor\": \"white\", \"linecolor\": \"white\", \"minorgridcolor\": \"white\", \"startlinecolor\": \"#2a3f5f\"}, \"baxis\": {\"endlinecolor\": \"#2a3f5f\", \"gridcolor\": \"white\", \"linecolor\": \"white\", \"minorgridcolor\": \"white\", \"startlinecolor\": \"#2a3f5f\"}, \"type\": \"carpet\"}], \"choropleth\": [{\"colorbar\": {\"outlinewidth\": 0, \"ticks\": \"\"}, \"type\": \"choropleth\"}], \"contour\": [{\"colorbar\": {\"outlinewidth\": 0, \"ticks\": \"\"}, \"colorscale\": [[0.0, \"#0d0887\"], [0.1111111111111111, \"#46039f\"], [0.2222222222222222, \"#7201a8\"], [0.3333333333333333, \"#9c179e\"], [0.4444444444444444, \"#bd3786\"], [0.5555555555555556, \"#d8576b\"], [0.6666666666666666, \"#ed7953\"], [0.7777777777777778, \"#fb9f3a\"], [0.8888888888888888, \"#fdca26\"], [1.0, \"#f0f921\"]], \"type\": \"contour\"}], \"contourcarpet\": [{\"colorbar\": {\"outlinewidth\": 0, \"ticks\": \"\"}, \"type\": \"contourcarpet\"}], \"heatmap\": [{\"colorbar\": {\"outlinewidth\": 0, \"ticks\": \"\"}, \"colorscale\": [[0.0, \"#0d0887\"], [0.1111111111111111, \"#46039f\"], [0.2222222222222222, \"#7201a8\"], [0.3333333333333333, \"#9c179e\"], [0.4444444444444444, \"#bd3786\"], [0.5555555555555556, \"#d8576b\"], [0.6666666666666666, \"#ed7953\"], [0.7777777777777778, \"#fb9f3a\"], [0.8888888888888888, \"#fdca26\"], [1.0, \"#f0f921\"]], \"type\": \"heatmap\"}], \"heatmapgl\": [{\"colorbar\": {\"outlinewidth\": 0, \"ticks\": \"\"}, \"colorscale\": [[0.0, \"#0d0887\"], [0.1111111111111111, \"#46039f\"], [0.2222222222222222, \"#7201a8\"], [0.3333333333333333, \"#9c179e\"], [0.4444444444444444, \"#bd3786\"], [0.5555555555555556, \"#d8576b\"], [0.6666666666666666, \"#ed7953\"], [0.7777777777777778, \"#fb9f3a\"], [0.8888888888888888, \"#fdca26\"], [1.0, \"#f0f921\"]], \"type\": \"heatmapgl\"}], \"histogram\": [{\"marker\": {\"colorbar\": {\"outlinewidth\": 0, \"ticks\": \"\"}}, \"type\": \"histogram\"}], \"histogram2d\": [{\"colorbar\": {\"outlinewidth\": 0, \"ticks\": \"\"}, \"colorscale\": [[0.0, \"#0d0887\"], [0.1111111111111111, \"#46039f\"], [0.2222222222222222, \"#7201a8\"], [0.3333333333333333, \"#9c179e\"], [0.4444444444444444, \"#bd3786\"], [0.5555555555555556, \"#d8576b\"], [0.6666666666666666, \"#ed7953\"], [0.7777777777777778, \"#fb9f3a\"], [0.8888888888888888, \"#fdca26\"], [1.0, \"#f0f921\"]], \"type\": \"histogram2d\"}], \"histogram2dcontour\": [{\"colorbar\": {\"outlinewidth\": 0, \"ticks\": \"\"}, \"colorscale\": [[0.0, \"#0d0887\"], [0.1111111111111111, \"#46039f\"], [0.2222222222222222, \"#7201a8\"], [0.3333333333333333, \"#9c179e\"], [0.4444444444444444, \"#bd3786\"], [0.5555555555555556, \"#d8576b\"], [0.6666666666666666, \"#ed7953\"], [0.7777777777777778, \"#fb9f3a\"], [0.8888888888888888, \"#fdca26\"], [1.0, \"#f0f921\"]], \"type\": \"histogram2dcontour\"}], \"mesh3d\": [{\"colorbar\": {\"outlinewidth\": 0, \"ticks\": \"\"}, \"type\": \"mesh3d\"}], \"parcoords\": [{\"line\": {\"colorbar\": {\"outlinewidth\": 0, \"ticks\": \"\"}}, \"type\": \"parcoords\"}], \"pie\": [{\"automargin\": true, \"type\": \"pie\"}], \"scatter\": [{\"marker\": {\"colorbar\": {\"outlinewidth\": 0, \"ticks\": \"\"}}, \"type\": \"scatter\"}], \"scatter3d\": [{\"line\": {\"colorbar\": {\"outlinewidth\": 0, \"ticks\": \"\"}}, \"marker\": {\"colorbar\": {\"outlinewidth\": 0, \"ticks\": \"\"}}, \"type\": \"scatter3d\"}], \"scattercarpet\": [{\"marker\": {\"colorbar\": {\"outlinewidth\": 0, \"ticks\": \"\"}}, \"type\": \"scattercarpet\"}], \"scattergeo\": [{\"marker\": {\"colorbar\": {\"outlinewidth\": 0, \"ticks\": \"\"}}, \"type\": \"scattergeo\"}], \"scattergl\": [{\"marker\": {\"colorbar\": {\"outlinewidth\": 0, \"ticks\": \"\"}}, \"type\": \"scattergl\"}], \"scattermapbox\": [{\"marker\": {\"colorbar\": {\"outlinewidth\": 0, \"ticks\": \"\"}}, \"type\": \"scattermapbox\"}], \"scatterpolar\": [{\"marker\": {\"colorbar\": {\"outlinewidth\": 0, \"ticks\": \"\"}}, \"type\": \"scatterpolar\"}], \"scatterpolargl\": [{\"marker\": {\"colorbar\": {\"outlinewidth\": 0, \"ticks\": \"\"}}, \"type\": \"scatterpolargl\"}], \"scatterternary\": [{\"marker\": {\"colorbar\": {\"outlinewidth\": 0, \"ticks\": \"\"}}, \"type\": \"scatterternary\"}], \"surface\": [{\"colorbar\": {\"outlinewidth\": 0, \"ticks\": \"\"}, \"colorscale\": [[0.0, \"#0d0887\"], [0.1111111111111111, \"#46039f\"], [0.2222222222222222, \"#7201a8\"], [0.3333333333333333, \"#9c179e\"], [0.4444444444444444, \"#bd3786\"], [0.5555555555555556, \"#d8576b\"], [0.6666666666666666, \"#ed7953\"], [0.7777777777777778, \"#fb9f3a\"], [0.8888888888888888, \"#fdca26\"], [1.0, \"#f0f921\"]], \"type\": \"surface\"}], \"table\": [{\"cells\": {\"fill\": {\"color\": \"#EBF0F8\"}, \"line\": {\"color\": \"white\"}}, \"header\": {\"fill\": {\"color\": \"#C8D4E3\"}, \"line\": {\"color\": \"white\"}}, \"type\": \"table\"}]}, \"layout\": {\"annotationdefaults\": {\"arrowcolor\": \"#2a3f5f\", \"arrowhead\": 0, \"arrowwidth\": 1}, \"coloraxis\": {\"colorbar\": {\"outlinewidth\": 0, \"ticks\": \"\"}}, \"colorscale\": {\"diverging\": [[0, \"#8e0152\"], [0.1, \"#c51b7d\"], [0.2, \"#de77ae\"], [0.3, \"#f1b6da\"], [0.4, \"#fde0ef\"], [0.5, \"#f7f7f7\"], [0.6, \"#e6f5d0\"], [0.7, \"#b8e186\"], [0.8, \"#7fbc41\"], [0.9, \"#4d9221\"], [1, \"#276419\"]], \"sequential\": [[0.0, \"#0d0887\"], [0.1111111111111111, \"#46039f\"], [0.2222222222222222, \"#7201a8\"], [0.3333333333333333, \"#9c179e\"], [0.4444444444444444, \"#bd3786\"], [0.5555555555555556, \"#d8576b\"], [0.6666666666666666, \"#ed7953\"], [0.7777777777777778, \"#fb9f3a\"], [0.8888888888888888, \"#fdca26\"], [1.0, \"#f0f921\"]], \"sequentialminus\": [[0.0, \"#0d0887\"], [0.1111111111111111, \"#46039f\"], [0.2222222222222222, \"#7201a8\"], [0.3333333333333333, \"#9c179e\"], [0.4444444444444444, \"#bd3786\"], [0.5555555555555556, \"#d8576b\"], [0.6666666666666666, \"#ed7953\"], [0.7777777777777778, \"#fb9f3a\"], [0.8888888888888888, \"#fdca26\"], [1.0, \"#f0f921\"]]}, \"colorway\": [\"#636efa\", \"#EF553B\", \"#00cc96\", \"#ab63fa\", \"#FFA15A\", \"#19d3f3\", \"#FF6692\", \"#B6E880\", \"#FF97FF\", \"#FECB52\"], \"font\": {\"color\": \"#2a3f5f\"}, \"geo\": {\"bgcolor\": \"white\", \"lakecolor\": \"white\", \"landcolor\": \"#E5ECF6\", \"showlakes\": true, \"showland\": true, \"subunitcolor\": \"white\"}, \"hoverlabel\": {\"align\": \"left\"}, \"hovermode\": \"closest\", \"mapbox\": {\"style\": \"light\"}, \"paper_bgcolor\": \"white\", \"plot_bgcolor\": \"#E5ECF6\", \"polar\": {\"angularaxis\": {\"gridcolor\": \"white\", \"linecolor\": \"white\", \"ticks\": \"\"}, \"bgcolor\": \"#E5ECF6\", \"radialaxis\": {\"gridcolor\": \"white\", \"linecolor\": \"white\", \"ticks\": \"\"}}, \"scene\": {\"xaxis\": {\"backgroundcolor\": \"#E5ECF6\", \"gridcolor\": \"white\", \"gridwidth\": 2, \"linecolor\": \"white\", \"showbackground\": true, \"ticks\": \"\", \"zerolinecolor\": \"white\"}, \"yaxis\": {\"backgroundcolor\": \"#E5ECF6\", \"gridcolor\": \"white\", \"gridwidth\": 2, \"linecolor\": \"white\", \"showbackground\": true, \"ticks\": \"\", \"zerolinecolor\": \"white\"}, \"zaxis\": {\"backgroundcolor\": \"#E5ECF6\", \"gridcolor\": \"white\", \"gridwidth\": 2, \"linecolor\": \"white\", \"showbackground\": true, \"ticks\": \"\", \"zerolinecolor\": \"white\"}}, \"shapedefaults\": {\"line\": {\"color\": \"#2a3f5f\"}}, \"ternary\": {\"aaxis\": {\"gridcolor\": \"white\", \"linecolor\": \"white\", \"ticks\": \"\"}, \"baxis\": {\"gridcolor\": \"white\", \"linecolor\": \"white\", \"ticks\": \"\"}, \"bgcolor\": \"#E5ECF6\", \"caxis\": {\"gridcolor\": \"white\", \"linecolor\": \"white\", \"ticks\": \"\"}}, \"title\": {\"x\": 0.05}, \"xaxis\": {\"automargin\": true, \"gridcolor\": \"white\", \"linecolor\": \"white\", \"ticks\": \"\", \"title\": {\"standoff\": 15}, \"zerolinecolor\": \"white\", \"zerolinewidth\": 2}, \"yaxis\": {\"automargin\": true, \"gridcolor\": \"white\", \"linecolor\": \"white\", \"ticks\": \"\", \"title\": {\"standoff\": 15}, \"zerolinecolor\": \"white\", \"zerolinewidth\": 2}}}, \"title\": {\"font\": {\"color\": \"#4D5663\"}}, \"xaxis\": {\"gridcolor\": \"#E1E5ED\", \"showgrid\": true, \"tickfont\": {\"color\": \"#4D5663\"}, \"title\": {\"font\": {\"color\": \"#4D5663\"}, \"text\": \"\"}, \"zerolinecolor\": \"#E1E5ED\"}, \"yaxis\": {\"gridcolor\": \"#E1E5ED\", \"showgrid\": true, \"tickfont\": {\"color\": \"#4D5663\"}, \"title\": {\"font\": {\"color\": \"#4D5663\"}, \"text\": \"\"}, \"zerolinecolor\": \"#E1E5ED\"}},\n",
       "                        {\"showLink\": true, \"linkText\": \"Export to plotly.your-company.com\", \"plotlyServerURL\": \"https://plotly.your-company.com\", \"responsive\": true}\n",
       "                    ).then(function(){\n",
       "                            \n",
       "var gd = document.getElementById('68bffb58-8375-4bf2-9937-dc7a3f605f6d');\n",
       "var x = new MutationObserver(function (mutations, observer) {{\n",
       "        var display = window.getComputedStyle(gd).display;\n",
       "        if (!display || display === 'none') {{\n",
       "            console.log([gd, 'removed!']);\n",
       "            Plotly.purge(gd);\n",
       "            observer.disconnect();\n",
       "        }}\n",
       "}});\n",
       "\n",
       "// Listen for the removal of the full notebook cells\n",
       "var notebookContainer = gd.closest('#notebook-container');\n",
       "if (notebookContainer) {{\n",
       "    x.observe(notebookContainer, {childList: true});\n",
       "}}\n",
       "\n",
       "// Listen for the clearing of the current output cell\n",
       "var outputEl = gd.closest('.output');\n",
       "if (outputEl) {{\n",
       "    x.observe(outputEl, {childList: true});\n",
       "}}\n",
       "\n",
       "                        })\n",
       "                };\n",
       "                });\n",
       "            </script>\n",
       "        </div>"
      ]
     },
     "metadata": {},
     "output_type": "display_data"
    }
   ],
   "source": [
    "pd.concat([test,prediction1],axis=1).iplot()"
   ]
  },
  {
   "cell_type": "code",
   "execution_count": 126,
   "metadata": {},
   "outputs": [
    {
     "data": {
      "text/html": [
       "<div>\n",
       "<style scoped>\n",
       "    .dataframe tbody tr th:only-of-type {\n",
       "        vertical-align: middle;\n",
       "    }\n",
       "\n",
       "    .dataframe tbody tr th {\n",
       "        vertical-align: top;\n",
       "    }\n",
       "\n",
       "    .dataframe thead th {\n",
       "        text-align: right;\n",
       "    }\n",
       "</style>\n",
       "<table border=\"1\" class=\"dataframe\">\n",
       "  <thead>\n",
       "    <tr style=\"text-align: right;\">\n",
       "      <th></th>\n",
       "      <th>Başvuru Dönemi - Tarih</th>\n",
       "      <th>Unnamed: 1</th>\n",
       "      <th>Unnamed: 2</th>\n",
       "      <th>ŞEY istatistik</th>\n",
       "      <th>Unnamed: 4</th>\n",
       "      <th>Unnamed: 5</th>\n",
       "      <th>Unnamed: 6</th>\n",
       "      <th>Unnamed: 7</th>\n",
       "      <th>Unnamed: 8</th>\n",
       "      <th>Ödeme dosyası</th>\n",
       "      <th>...</th>\n",
       "      <th>Unnamed: 12</th>\n",
       "      <th>Unnamed: 13</th>\n",
       "      <th>Unnamed: 14</th>\n",
       "      <th>Unnamed: 15</th>\n",
       "      <th>Unnamed: 16</th>\n",
       "      <th>Unnamed: 17</th>\n",
       "      <th>Unnamed: 18</th>\n",
       "      <th>Unnamed: 19</th>\n",
       "      <th>Unnamed: 20</th>\n",
       "      <th>Unnamed: 21</th>\n",
       "    </tr>\n",
       "  </thead>\n",
       "  <tbody>\n",
       "    <tr>\n",
       "      <th>0</th>\n",
       "      <td>NaN</td>\n",
       "      <td>Aylık Başvuru Sayısı</td>\n",
       "      <td>NaN</td>\n",
       "      <td>Toplam Başvuru Sayısı</td>\n",
       "      <td>Başvuru Sayısı Değişim Yüzdesi</td>\n",
       "      <td>Ödeme Dönemi - Tarih</td>\n",
       "      <td>Başvuru Kabul Edildi Sayısı</td>\n",
       "      <td>NaN</td>\n",
       "      <td>Yüzde</td>\n",
       "      <td>Bakanlıktan İletilen</td>\n",
       "      <td>...</td>\n",
       "      <td>NaN</td>\n",
       "      <td>Bakanlıktan Gelen</td>\n",
       "      <td>TRC Ödeme alan faydalanıcı sayısı</td>\n",
       "      <td>NaN</td>\n",
       "      <td>NaN</td>\n",
       "      <td>NaN</td>\n",
       "      <td>NaN</td>\n",
       "      <td>NaN</td>\n",
       "      <td>NaN</td>\n",
       "      <td>NaN</td>\n",
       "    </tr>\n",
       "    <tr>\n",
       "      <th>1</th>\n",
       "      <td>Mart-Nisan</td>\n",
       "      <td>NaN</td>\n",
       "      <td>NaN</td>\n",
       "      <td>NaN</td>\n",
       "      <td>NaN</td>\n",
       "      <td>Mayıs</td>\n",
       "      <td>NaN</td>\n",
       "      <td>NaN</td>\n",
       "      <td>NaN</td>\n",
       "      <td>56831</td>\n",
       "      <td>...</td>\n",
       "      <td>NaN</td>\n",
       "      <td>NaN</td>\n",
       "      <td>56240</td>\n",
       "      <td>NaN</td>\n",
       "      <td>NaN</td>\n",
       "      <td>NaN</td>\n",
       "      <td>NaN</td>\n",
       "      <td>NaN</td>\n",
       "      <td>NaN</td>\n",
       "      <td>NaN</td>\n",
       "    </tr>\n",
       "    <tr>\n",
       "      <th>2</th>\n",
       "      <td>Mayıs-Haziran</td>\n",
       "      <td>NaN</td>\n",
       "      <td>NaN</td>\n",
       "      <td>NaN</td>\n",
       "      <td>NaN</td>\n",
       "      <td>Temmuz</td>\n",
       "      <td>NaN</td>\n",
       "      <td>NaN</td>\n",
       "      <td>NaN</td>\n",
       "      <td>72504</td>\n",
       "      <td>...</td>\n",
       "      <td>NaN</td>\n",
       "      <td>NaN</td>\n",
       "      <td>72027</td>\n",
       "      <td>NaN</td>\n",
       "      <td>NaN</td>\n",
       "      <td>NaN</td>\n",
       "      <td>NaN</td>\n",
       "      <td>NaN</td>\n",
       "      <td>NaN</td>\n",
       "      <td>NaN</td>\n",
       "    </tr>\n",
       "    <tr>\n",
       "      <th>3</th>\n",
       "      <td>Temmuz-Ağustos</td>\n",
       "      <td>NaN</td>\n",
       "      <td>NaN</td>\n",
       "      <td>217638</td>\n",
       "      <td>NaN</td>\n",
       "      <td>Eylül</td>\n",
       "      <td>168769</td>\n",
       "      <td>NaN</td>\n",
       "      <td>NaN</td>\n",
       "      <td>137868</td>\n",
       "      <td>...</td>\n",
       "      <td>NaN</td>\n",
       "      <td>NaN</td>\n",
       "      <td>136523</td>\n",
       "      <td>NaN</td>\n",
       "      <td>NaN</td>\n",
       "      <td>NaN</td>\n",
       "      <td>NaN</td>\n",
       "      <td>NaN</td>\n",
       "      <td>NaN</td>\n",
       "      <td>NaN</td>\n",
       "    </tr>\n",
       "    <tr>\n",
       "      <th>4</th>\n",
       "      <td>Eylül-Ekim</td>\n",
       "      <td>NaN</td>\n",
       "      <td>NaN</td>\n",
       "      <td>314093</td>\n",
       "      <td>NaN</td>\n",
       "      <td>Kasım</td>\n",
       "      <td>281706</td>\n",
       "      <td>NaN</td>\n",
       "      <td>NaN</td>\n",
       "      <td>171144</td>\n",
       "      <td>...</td>\n",
       "      <td>NaN</td>\n",
       "      <td>NaN</td>\n",
       "      <td>167442</td>\n",
       "      <td>NaN</td>\n",
       "      <td>NaN</td>\n",
       "      <td>NaN</td>\n",
       "      <td>NaN</td>\n",
       "      <td>NaN</td>\n",
       "      <td>NaN</td>\n",
       "      <td>NaN</td>\n",
       "    </tr>\n",
       "    <tr>\n",
       "      <th>5</th>\n",
       "      <td>Kasım-Aralık</td>\n",
       "      <td>41348</td>\n",
       "      <td>NaN</td>\n",
       "      <td>346577</td>\n",
       "      <td>0.0937281</td>\n",
       "      <td>Ocak</td>\n",
       "      <td>322513</td>\n",
       "      <td>0.967173</td>\n",
       "      <td>0.930567</td>\n",
       "      <td>320559</td>\n",
       "      <td>...</td>\n",
       "      <td>0.993941</td>\n",
       "      <td>320559</td>\n",
       "      <td>311926</td>\n",
       "      <td>NaN</td>\n",
       "      <td>NaN</td>\n",
       "      <td>0.973069</td>\n",
       "      <td>0.973069</td>\n",
       "      <td>NaN</td>\n",
       "      <td>NaN</td>\n",
       "      <td>NaN</td>\n",
       "    </tr>\n",
       "    <tr>\n",
       "      <th>6</th>\n",
       "      <td>Ocak-Şubat</td>\n",
       "      <td>25795</td>\n",
       "      <td>NaN</td>\n",
       "      <td>372372</td>\n",
       "      <td>0.0692721</td>\n",
       "      <td>Mart</td>\n",
       "      <td>344946</td>\n",
       "      <td>0.849188</td>\n",
       "      <td>0.926348</td>\n",
       "      <td>298499</td>\n",
       "      <td>...</td>\n",
       "      <td>0.865350</td>\n",
       "      <td>298499</td>\n",
       "      <td>292924</td>\n",
       "      <td>NaN</td>\n",
       "      <td>NaN</td>\n",
       "      <td>0.981323</td>\n",
       "      <td>NaN</td>\n",
       "      <td>NaN</td>\n",
       "      <td>NaN</td>\n",
       "      <td>NaN</td>\n",
       "    </tr>\n",
       "    <tr>\n",
       "      <th>7</th>\n",
       "      <td>Mart-Nisan</td>\n",
       "      <td>13252</td>\n",
       "      <td>NaN</td>\n",
       "      <td>385624</td>\n",
       "      <td>0.0343651</td>\n",
       "      <td>Mayıs</td>\n",
       "      <td>356333</td>\n",
       "      <td>0.763418</td>\n",
       "      <td>0.924043</td>\n",
       "      <td>277516</td>\n",
       "      <td>...</td>\n",
       "      <td>0.778811</td>\n",
       "      <td>277516</td>\n",
       "      <td>272031</td>\n",
       "      <td>NaN</td>\n",
       "      <td>NaN</td>\n",
       "      <td>0.980235</td>\n",
       "      <td>NaN</td>\n",
       "      <td>NaN</td>\n",
       "      <td>NaN</td>\n",
       "      <td>NaN</td>\n",
       "    </tr>\n",
       "    <tr>\n",
       "      <th>8</th>\n",
       "      <td>Mayıs-Haziran</td>\n",
       "      <td>3480</td>\n",
       "      <td>NaN</td>\n",
       "      <td>389104</td>\n",
       "      <td>0.00894362</td>\n",
       "      <td>Temmuz</td>\n",
       "      <td>357633</td>\n",
       "      <td>0.873205</td>\n",
       "      <td>0.919119</td>\n",
       "      <td>322139</td>\n",
       "      <td>...</td>\n",
       "      <td>0.900753</td>\n",
       "      <td>322139</td>\n",
       "      <td>312287</td>\n",
       "      <td>NaN</td>\n",
       "      <td>NaN</td>\n",
       "      <td>0.969417</td>\n",
       "      <td>NaN</td>\n",
       "      <td>NaN</td>\n",
       "      <td>NaN</td>\n",
       "      <td>NaN</td>\n",
       "    </tr>\n",
       "    <tr>\n",
       "      <th>9</th>\n",
       "      <td>Temmuz-Ağustos</td>\n",
       "      <td>21794</td>\n",
       "      <td>NaN</td>\n",
       "      <td>410898</td>\n",
       "      <td>0.0530399</td>\n",
       "      <td>Eylül</td>\n",
       "      <td>366268</td>\n",
       "      <td>0.932328</td>\n",
       "      <td>0.891384</td>\n",
       "      <td>361078</td>\n",
       "      <td>...</td>\n",
       "      <td>0.985830</td>\n",
       "      <td>361078</td>\n",
       "      <td>341482</td>\n",
       "      <td>NaN</td>\n",
       "      <td>NaN</td>\n",
       "      <td>0.945729</td>\n",
       "      <td>NaN</td>\n",
       "      <td>NaN</td>\n",
       "      <td>NaN</td>\n",
       "      <td>NaN</td>\n",
       "    </tr>\n",
       "    <tr>\n",
       "      <th>10</th>\n",
       "      <td>Eylül-Ekim</td>\n",
       "      <td>78355</td>\n",
       "      <td>NaN</td>\n",
       "      <td>489253</td>\n",
       "      <td>0.160152</td>\n",
       "      <td>Kasım</td>\n",
       "      <td>444915</td>\n",
       "      <td>0.707468</td>\n",
       "      <td>0.909376</td>\n",
       "      <td>323418</td>\n",
       "      <td>...</td>\n",
       "      <td>0.726921</td>\n",
       "      <td>323418</td>\n",
       "      <td>314763</td>\n",
       "      <td>NaN</td>\n",
       "      <td>NaN</td>\n",
       "      <td>0.973239</td>\n",
       "      <td>NaN</td>\n",
       "      <td>NaN</td>\n",
       "      <td>NaN</td>\n",
       "      <td>NaN</td>\n",
       "    </tr>\n",
       "    <tr>\n",
       "      <th>11</th>\n",
       "      <td>Kasım-Aralık</td>\n",
       "      <td>21260</td>\n",
       "      <td>NaN</td>\n",
       "      <td>510513</td>\n",
       "      <td>0.0416444</td>\n",
       "      <td>Ocak</td>\n",
       "      <td>463333</td>\n",
       "      <td>0.947947</td>\n",
       "      <td>0.907583</td>\n",
       "      <td>462411</td>\n",
       "      <td>...</td>\n",
       "      <td>0.998010</td>\n",
       "      <td>462411</td>\n",
       "      <td>439215</td>\n",
       "      <td>NaN</td>\n",
       "      <td>NaN</td>\n",
       "      <td>0.949837</td>\n",
       "      <td>NaN</td>\n",
       "      <td>NaN</td>\n",
       "      <td>NaN</td>\n",
       "      <td>NaN</td>\n",
       "    </tr>\n",
       "    <tr>\n",
       "      <th>12</th>\n",
       "      <td>Ocak-Şubat</td>\n",
       "      <td>16238</td>\n",
       "      <td>NaN</td>\n",
       "      <td>526751</td>\n",
       "      <td>0.0308267</td>\n",
       "      <td>Mart</td>\n",
       "      <td>471829</td>\n",
       "      <td>0.856582</td>\n",
       "      <td>0.895734</td>\n",
       "      <td>412832</td>\n",
       "      <td>...</td>\n",
       "      <td>0.874961</td>\n",
       "      <td>412832</td>\n",
       "      <td>404160</td>\n",
       "      <td>NaN</td>\n",
       "      <td>NaN</td>\n",
       "      <td>0.978994</td>\n",
       "      <td>NaN</td>\n",
       "      <td>NaN</td>\n",
       "      <td>NaN</td>\n",
       "      <td>NaN</td>\n",
       "    </tr>\n",
       "    <tr>\n",
       "      <th>13</th>\n",
       "      <td>Mart-Nisan</td>\n",
       "      <td>8733</td>\n",
       "      <td>NaN</td>\n",
       "      <td>535484</td>\n",
       "      <td>0.0163086</td>\n",
       "      <td>Mayıs</td>\n",
       "      <td>479104</td>\n",
       "      <td>0.832855</td>\n",
       "      <td>0.894712</td>\n",
       "      <td>407715</td>\n",
       "      <td>...</td>\n",
       "      <td>0.850995</td>\n",
       "      <td>407715</td>\n",
       "      <td>399024</td>\n",
       "      <td>NaN</td>\n",
       "      <td>NaN</td>\n",
       "      <td>0.978684</td>\n",
       "      <td>NaN</td>\n",
       "      <td>NaN</td>\n",
       "      <td>NaN</td>\n",
       "      <td>NaN</td>\n",
       "    </tr>\n",
       "    <tr>\n",
       "      <th>14</th>\n",
       "      <td>Mayıs-Haziran</td>\n",
       "      <td>2655</td>\n",
       "      <td>NaN</td>\n",
       "      <td>538139</td>\n",
       "      <td>0.00493367</td>\n",
       "      <td>Temmuz</td>\n",
       "      <td>476810</td>\n",
       "      <td>0.820226</td>\n",
       "      <td>0.886035</td>\n",
       "      <td>400971</td>\n",
       "      <td>...</td>\n",
       "      <td>0.840945</td>\n",
       "      <td>400971</td>\n",
       "      <td>391092</td>\n",
       "      <td>NaN</td>\n",
       "      <td>NaN</td>\n",
       "      <td>0.975362</td>\n",
       "      <td>NaN</td>\n",
       "      <td>NaN</td>\n",
       "      <td>NaN</td>\n",
       "      <td>NaN</td>\n",
       "    </tr>\n",
       "    <tr>\n",
       "      <th>15</th>\n",
       "      <td>Temmuz-Ağustos</td>\n",
       "      <td>54131</td>\n",
       "      <td>NaN</td>\n",
       "      <td>592270</td>\n",
       "      <td>0.0913958</td>\n",
       "      <td>Eylül</td>\n",
       "      <td>488492</td>\n",
       "      <td>0.912516</td>\n",
       "      <td>0.82478</td>\n",
       "      <td>462325</td>\n",
       "      <td>...</td>\n",
       "      <td>0.946432</td>\n",
       "      <td>462325</td>\n",
       "      <td>445757</td>\n",
       "      <td>NaN</td>\n",
       "      <td>NaN</td>\n",
       "      <td>0.964164</td>\n",
       "      <td>NaN</td>\n",
       "      <td>NaN</td>\n",
       "      <td>NaN</td>\n",
       "      <td>NaN</td>\n",
       "    </tr>\n",
       "    <tr>\n",
       "      <th>16</th>\n",
       "      <td>Eylül-Ekim</td>\n",
       "      <td>24009</td>\n",
       "      <td>NaN</td>\n",
       "      <td>616279</td>\n",
       "      <td>0.038958</td>\n",
       "      <td>Kasım</td>\n",
       "      <td>543469</td>\n",
       "      <td>0.702879</td>\n",
       "      <td>0.881855</td>\n",
       "      <td>388535</td>\n",
       "      <td>...</td>\n",
       "      <td>0.714917</td>\n",
       "      <td>388535</td>\n",
       "      <td>381993</td>\n",
       "      <td>NaN</td>\n",
       "      <td>NaN</td>\n",
       "      <td>0.983162</td>\n",
       "      <td>NaN</td>\n",
       "      <td>NaN</td>\n",
       "      <td>NaN</td>\n",
       "      <td>NaN</td>\n",
       "    </tr>\n",
       "    <tr>\n",
       "      <th>17</th>\n",
       "      <td>Kasım-Aralık</td>\n",
       "      <td>7549</td>\n",
       "      <td>NaN</td>\n",
       "      <td>623828</td>\n",
       "      <td>0.0122493</td>\n",
       "      <td>Ocak</td>\n",
       "      <td>547304</td>\n",
       "      <td>0.910922</td>\n",
       "      <td>0.877332</td>\n",
       "      <td>512060</td>\n",
       "      <td>...</td>\n",
       "      <td>0.935604</td>\n",
       "      <td>512060</td>\n",
       "      <td>498551</td>\n",
       "      <td>NaN</td>\n",
       "      <td>NaN</td>\n",
       "      <td>0.973618</td>\n",
       "      <td>NaN</td>\n",
       "      <td>NaN</td>\n",
       "      <td>NaN</td>\n",
       "      <td>NaN</td>\n",
       "    </tr>\n",
       "    <tr>\n",
       "      <th>18</th>\n",
       "      <td>Ocak-Şubat</td>\n",
       "      <td>6236</td>\n",
       "      <td>NaN</td>\n",
       "      <td>630064</td>\n",
       "      <td>0.00999635</td>\n",
       "      <td>Mart</td>\n",
       "      <td>547171</td>\n",
       "      <td>0.845196</td>\n",
       "      <td>0.868437</td>\n",
       "      <td>470361</td>\n",
       "      <td>...</td>\n",
       "      <td>0.859623</td>\n",
       "      <td>470361</td>\n",
       "      <td>462467</td>\n",
       "      <td>NaN</td>\n",
       "      <td>NaN</td>\n",
       "      <td>0.983217</td>\n",
       "      <td>NaN</td>\n",
       "      <td>NaN</td>\n",
       "      <td>NaN</td>\n",
       "      <td>NaN</td>\n",
       "    </tr>\n",
       "    <tr>\n",
       "      <th>19</th>\n",
       "      <td>Mart-Nisan</td>\n",
       "      <td>1943</td>\n",
       "      <td>NaN</td>\n",
       "      <td>632007</td>\n",
       "      <td>0.00308381</td>\n",
       "      <td>Mayıs</td>\n",
       "      <td>542018</td>\n",
       "      <td>0.858331</td>\n",
       "      <td>0.857614</td>\n",
       "      <td>476842</td>\n",
       "      <td>...</td>\n",
       "      <td>0.879753</td>\n",
       "      <td>476842</td>\n",
       "      <td>465231</td>\n",
       "      <td>NaN</td>\n",
       "      <td>NaN</td>\n",
       "      <td>0.975650</td>\n",
       "      <td>NaN</td>\n",
       "      <td>NaN</td>\n",
       "      <td>NaN</td>\n",
       "      <td>NaN</td>\n",
       "    </tr>\n",
       "    <tr>\n",
       "      <th>20</th>\n",
       "      <td>Mayıs-Haziran</td>\n",
       "      <td>-1406</td>\n",
       "      <td>NaN</td>\n",
       "      <td>630601</td>\n",
       "      <td>-0.00222466</td>\n",
       "      <td>Temmuz</td>\n",
       "      <td>539715</td>\n",
       "      <td>0.916964</td>\n",
       "      <td>0.855874</td>\n",
       "      <td>508468</td>\n",
       "      <td>...</td>\n",
       "      <td>0.942105</td>\n",
       "      <td>508468</td>\n",
       "      <td>494899</td>\n",
       "      <td>NaN</td>\n",
       "      <td>NaN</td>\n",
       "      <td>0.973314</td>\n",
       "      <td>508468.000000</td>\n",
       "      <td>NaN</td>\n",
       "      <td>NaN</td>\n",
       "      <td>NaN</td>\n",
       "    </tr>\n",
       "    <tr>\n",
       "      <th>21</th>\n",
       "      <td>Temmuz-Ağustos</td>\n",
       "      <td>2434</td>\n",
       "      <td>NaN</td>\n",
       "      <td>633035</td>\n",
       "      <td>0.00385981</td>\n",
       "      <td>Eylül 2020</td>\n",
       "      <td>538699</td>\n",
       "      <td>0.949022</td>\n",
       "      <td>0.850978</td>\n",
       "      <td>470023</td>\n",
       "      <td>...</td>\n",
       "      <td>0.949022</td>\n",
       "      <td>511237</td>\n",
       "      <td>497460</td>\n",
       "      <td>NaN</td>\n",
       "      <td>NaN</td>\n",
       "      <td>0.973052</td>\n",
       "      <td>511237.000000</td>\n",
       "      <td>0.949022</td>\n",
       "      <td>NaN</td>\n",
       "      <td>0.923447</td>\n",
       "    </tr>\n",
       "    <tr>\n",
       "      <th>22</th>\n",
       "      <td>Eylül-Ekim</td>\n",
       "      <td>37617</td>\n",
       "      <td>NaN</td>\n",
       "      <td>670652</td>\n",
       "      <td>0.0594233</td>\n",
       "      <td>Kasım 2020</td>\n",
       "      <td>540110</td>\n",
       "      <td>0.916964</td>\n",
       "      <td>0.805351</td>\n",
       "      <td>417631</td>\n",
       "      <td>...</td>\n",
       "      <td>0.992042</td>\n",
       "      <td>535812</td>\n",
       "      <td>520787</td>\n",
       "      <td>528332.245396</td>\n",
       "      <td>NaN</td>\n",
       "      <td>0.971958</td>\n",
       "      <td>NaN</td>\n",
       "      <td>NaN</td>\n",
       "      <td>NaN</td>\n",
       "      <td>NaN</td>\n",
       "    </tr>\n",
       "    <tr>\n",
       "      <th>23</th>\n",
       "      <td>Kasım-Aralık</td>\n",
       "      <td>9877</td>\n",
       "      <td>NaN</td>\n",
       "      <td>680529</td>\n",
       "      <td>0.0147275</td>\n",
       "      <td>Ocak 2021</td>\n",
       "      <td>550466</td>\n",
       "      <td>0.949022</td>\n",
       "      <td>0.80888</td>\n",
       "      <td>491041</td>\n",
       "      <td>...</td>\n",
       "      <td>0.997707</td>\n",
       "      <td>549204</td>\n",
       "      <td>534233</td>\n",
       "      <td>565356.825902</td>\n",
       "      <td>NaN</td>\n",
       "      <td>0.972741</td>\n",
       "      <td>591960.560000</td>\n",
       "      <td>NaN</td>\n",
       "      <td>NaN</td>\n",
       "      <td>NaN</td>\n",
       "    </tr>\n",
       "  </tbody>\n",
       "</table>\n",
       "<p>24 rows × 22 columns</p>\n",
       "</div>"
      ],
      "text/plain": [
       "   Başvuru Dönemi - Tarih            Unnamed: 1  Unnamed: 2  \\\n",
       "0                     NaN  Aylık Başvuru Sayısı         NaN   \n",
       "1              Mart-Nisan                   NaN         NaN   \n",
       "2           Mayıs-Haziran                   NaN         NaN   \n",
       "3          Temmuz-Ağustos                   NaN         NaN   \n",
       "4              Eylül-Ekim                   NaN         NaN   \n",
       "5            Kasım-Aralık                 41348         NaN   \n",
       "6              Ocak-Şubat                 25795         NaN   \n",
       "7              Mart-Nisan                 13252         NaN   \n",
       "8           Mayıs-Haziran                  3480         NaN   \n",
       "9          Temmuz-Ağustos                 21794         NaN   \n",
       "10             Eylül-Ekim                 78355         NaN   \n",
       "11           Kasım-Aralık                 21260         NaN   \n",
       "12             Ocak-Şubat                 16238         NaN   \n",
       "13             Mart-Nisan                  8733         NaN   \n",
       "14          Mayıs-Haziran                  2655         NaN   \n",
       "15         Temmuz-Ağustos                 54131         NaN   \n",
       "16             Eylül-Ekim                 24009         NaN   \n",
       "17           Kasım-Aralık                  7549         NaN   \n",
       "18             Ocak-Şubat                  6236         NaN   \n",
       "19             Mart-Nisan                  1943         NaN   \n",
       "20          Mayıs-Haziran                 -1406         NaN   \n",
       "21         Temmuz-Ağustos                  2434         NaN   \n",
       "22             Eylül-Ekim                 37617         NaN   \n",
       "23           Kasım-Aralık                  9877         NaN   \n",
       "\n",
       "           ŞEY istatistik                      Unnamed: 4  \\\n",
       "0   Toplam Başvuru Sayısı  Başvuru Sayısı Değişim Yüzdesi   \n",
       "1                     NaN                             NaN   \n",
       "2                     NaN                             NaN   \n",
       "3                  217638                             NaN   \n",
       "4                  314093                             NaN   \n",
       "5                  346577                       0.0937281   \n",
       "6                  372372                       0.0692721   \n",
       "7                  385624                       0.0343651   \n",
       "8                  389104                      0.00894362   \n",
       "9                  410898                       0.0530399   \n",
       "10                 489253                        0.160152   \n",
       "11                 510513                       0.0416444   \n",
       "12                 526751                       0.0308267   \n",
       "13                 535484                       0.0163086   \n",
       "14                 538139                      0.00493367   \n",
       "15                 592270                       0.0913958   \n",
       "16                 616279                        0.038958   \n",
       "17                 623828                       0.0122493   \n",
       "18                 630064                      0.00999635   \n",
       "19                 632007                      0.00308381   \n",
       "20                 630601                     -0.00222466   \n",
       "21                 633035                      0.00385981   \n",
       "22                 670652                       0.0594233   \n",
       "23                 680529                       0.0147275   \n",
       "\n",
       "              Unnamed: 5                   Unnamed: 6  Unnamed: 7 Unnamed: 8  \\\n",
       "0   Ödeme Dönemi - Tarih  Başvuru Kabul Edildi Sayısı         NaN      Yüzde   \n",
       "1                  Mayıs                          NaN         NaN        NaN   \n",
       "2                 Temmuz                          NaN         NaN        NaN   \n",
       "3                  Eylül                       168769         NaN        NaN   \n",
       "4                  Kasım                       281706         NaN        NaN   \n",
       "5                   Ocak                       322513    0.967173   0.930567   \n",
       "6                   Mart                       344946    0.849188   0.926348   \n",
       "7                  Mayıs                       356333    0.763418   0.924043   \n",
       "8                 Temmuz                       357633    0.873205   0.919119   \n",
       "9                  Eylül                       366268    0.932328   0.891384   \n",
       "10                 Kasım                       444915    0.707468   0.909376   \n",
       "11                  Ocak                       463333    0.947947   0.907583   \n",
       "12                  Mart                       471829    0.856582   0.895734   \n",
       "13                 Mayıs                       479104    0.832855   0.894712   \n",
       "14                Temmuz                       476810    0.820226   0.886035   \n",
       "15                 Eylül                       488492    0.912516    0.82478   \n",
       "16                 Kasım                       543469    0.702879   0.881855   \n",
       "17                  Ocak                       547304    0.910922   0.877332   \n",
       "18                  Mart                       547171    0.845196   0.868437   \n",
       "19                 Mayıs                       542018    0.858331   0.857614   \n",
       "20                Temmuz                       539715    0.916964   0.855874   \n",
       "21            Eylül 2020                       538699    0.949022   0.850978   \n",
       "22            Kasım 2020                       540110    0.916964   0.805351   \n",
       "23             Ocak 2021                       550466    0.949022    0.80888   \n",
       "\n",
       "            Ödeme dosyası     ...      Unnamed: 12        Unnamed: 13  \\\n",
       "0   Bakanlıktan İletilen      ...              NaN  Bakanlıktan Gelen   \n",
       "1                   56831     ...              NaN                NaN   \n",
       "2                   72504     ...              NaN                NaN   \n",
       "3                  137868     ...              NaN                NaN   \n",
       "4                  171144     ...              NaN                NaN   \n",
       "5                  320559     ...         0.993941             320559   \n",
       "6                  298499     ...         0.865350             298499   \n",
       "7                  277516     ...         0.778811             277516   \n",
       "8                  322139     ...         0.900753             322139   \n",
       "9                  361078     ...         0.985830             361078   \n",
       "10                 323418     ...         0.726921             323418   \n",
       "11                 462411     ...         0.998010             462411   \n",
       "12                 412832     ...         0.874961             412832   \n",
       "13                 407715     ...         0.850995             407715   \n",
       "14                 400971     ...         0.840945             400971   \n",
       "15                 462325     ...         0.946432             462325   \n",
       "16                 388535     ...         0.714917             388535   \n",
       "17                 512060     ...         0.935604             512060   \n",
       "18                 470361     ...         0.859623             470361   \n",
       "19                 476842     ...         0.879753             476842   \n",
       "20                 508468     ...         0.942105             508468   \n",
       "21                 470023     ...         0.949022             511237   \n",
       "22                 417631     ...         0.992042             535812   \n",
       "23                 491041     ...         0.997707             549204   \n",
       "\n",
       "                          Unnamed: 14    Unnamed: 15 Unnamed: 16  Unnamed: 17  \\\n",
       "0   TRC Ödeme alan faydalanıcı sayısı            NaN         NaN          NaN   \n",
       "1                               56240            NaN         NaN          NaN   \n",
       "2                               72027            NaN         NaN          NaN   \n",
       "3                              136523            NaN         NaN          NaN   \n",
       "4                              167442            NaN         NaN          NaN   \n",
       "5                              311926            NaN         NaN     0.973069   \n",
       "6                              292924            NaN         NaN     0.981323   \n",
       "7                              272031            NaN         NaN     0.980235   \n",
       "8                              312287            NaN         NaN     0.969417   \n",
       "9                              341482            NaN         NaN     0.945729   \n",
       "10                             314763            NaN         NaN     0.973239   \n",
       "11                             439215            NaN         NaN     0.949837   \n",
       "12                             404160            NaN         NaN     0.978994   \n",
       "13                             399024            NaN         NaN     0.978684   \n",
       "14                             391092            NaN         NaN     0.975362   \n",
       "15                             445757            NaN         NaN     0.964164   \n",
       "16                             381993            NaN         NaN     0.983162   \n",
       "17                             498551            NaN         NaN     0.973618   \n",
       "18                             462467            NaN         NaN     0.983217   \n",
       "19                             465231            NaN         NaN     0.975650   \n",
       "20                             494899            NaN         NaN     0.973314   \n",
       "21                             497460            NaN         NaN     0.973052   \n",
       "22                             520787  528332.245396         NaN     0.971958   \n",
       "23                             534233  565356.825902         NaN     0.972741   \n",
       "\n",
       "      Unnamed: 18  Unnamed: 19  Unnamed: 20  Unnamed: 21  \n",
       "0             NaN          NaN          NaN          NaN  \n",
       "1             NaN          NaN          NaN          NaN  \n",
       "2             NaN          NaN          NaN          NaN  \n",
       "3             NaN          NaN          NaN          NaN  \n",
       "4             NaN          NaN          NaN          NaN  \n",
       "5        0.973069          NaN          NaN          NaN  \n",
       "6             NaN          NaN          NaN          NaN  \n",
       "7             NaN          NaN          NaN          NaN  \n",
       "8             NaN          NaN          NaN          NaN  \n",
       "9             NaN          NaN          NaN          NaN  \n",
       "10            NaN          NaN          NaN          NaN  \n",
       "11            NaN          NaN          NaN          NaN  \n",
       "12            NaN          NaN          NaN          NaN  \n",
       "13            NaN          NaN          NaN          NaN  \n",
       "14            NaN          NaN          NaN          NaN  \n",
       "15            NaN          NaN          NaN          NaN  \n",
       "16            NaN          NaN          NaN          NaN  \n",
       "17            NaN          NaN          NaN          NaN  \n",
       "18            NaN          NaN          NaN          NaN  \n",
       "19            NaN          NaN          NaN          NaN  \n",
       "20  508468.000000          NaN          NaN          NaN  \n",
       "21  511237.000000     0.949022          NaN     0.923447  \n",
       "22            NaN          NaN          NaN          NaN  \n",
       "23  591960.560000          NaN          NaN          NaN  \n",
       "\n",
       "[24 rows x 22 columns]"
      ]
     },
     "execution_count": 126,
     "metadata": {},
     "output_type": "execute_result"
    }
   ],
   "source": [
    "historic.head(24)"
   ]
  },
  {
   "cell_type": "code",
   "execution_count": 126,
   "metadata": {},
   "outputs": [],
   "source": [
    "app_month = historic['Aylık Başvuru Sayısı'][0:22]\n",
    "elig_ratio = historic['Yüzde'][0:22]\n",
    "y = np.array(app_month*elig_ratio)"
   ]
  },
  {
   "cell_type": "code",
   "execution_count": 127,
   "metadata": {},
   "outputs": [
    {
     "data": {
      "text/plain": [
       "array([56831.        , 72504.        , 68475.21575736, 86509.25754474,\n",
       "       38477.07009986, 23895.1426799 , 12245.41241209,  3198.53519882,\n",
       "       19426.82804978, 71254.16670925, 19295.21790826, 14544.93546666,\n",
       "        7813.52053843,  2352.42297994, 44646.17069495, 21172.46769888,\n",
       "        6622.97603827,  5415.57422103,  1666.34384429, -1203.35884339,\n",
       "        2071.2809971 , 30294.87404794])"
      ]
     },
     "execution_count": 127,
     "metadata": {},
     "output_type": "execute_result"
    }
   ],
   "source": [
    "y"
   ]
  },
  {
   "cell_type": "code",
   "execution_count": 128,
   "metadata": {
    "scrolled": true
   },
   "outputs": [
    {
     "data": {
      "text/plain": [
       "[<matplotlib.lines.Line2D at 0x19bdd609208>]"
      ]
     },
     "execution_count": 128,
     "metadata": {},
     "output_type": "execute_result"
    },
    {
     "data": {
      "image/png": "[encoded data removed]",
      "text/plain": [
       "<Figure size 432x288 with 1 Axes>"
      ]
     },
     "metadata": {
      "needs_background": "light"
     },
     "output_type": "display_data"
    }
   ],
   "source": [
    "plt.plot(y)"
   ]
  },
  {
   "cell_type": "code",
   "execution_count": 129,
   "metadata": {},
   "outputs": [
    {
     "data": {
      "text/plain": [
       "array([56831.        , 72504.        , 68475.21575736, 86509.25754474,\n",
       "       38477.07009986, 23895.1426799 , 12245.41241209,  3198.53519882,\n",
       "       19426.82804978, 71254.16670925, 19295.21790826, 14544.93546666,\n",
       "        7813.52053843,  2352.42297994, 44646.17069495, 21172.46769888,\n",
       "        6622.97603827,  5415.57422103,  1666.34384429, -1203.35884339,\n",
       "        2071.2809971 , 30294.87404794])"
      ]
     },
     "execution_count": 129,
     "metadata": {},
     "output_type": "execute_result"
    }
   ],
   "source": [
    "y"
   ]
  },
  {
   "cell_type": "code",
   "execution_count": 324,
   "metadata": {},
   "outputs": [
    {
     "name": "stderr",
     "output_type": "stream",
     "text": [
      "C:\\Users\\fedaa.elderdesawe\\Oracle\\feda\\lib\\site-packages\\statsmodels\\tsa\\statespace\\representation.py:375: FutureWarning:\n",
      "\n",
      "Using a non-tuple sequence for multidimensional indexing is deprecated; use `arr[tuple(seq)]` instead of `arr[seq]`. In the future this will be interpreted as an array index, `arr[np.array(seq)]`, which will result either in an error or a different result.\n",
      "\n"
     ]
    },
    {
     "data": {
      "text/plain": [
       "327.05415276431637"
      ]
     },
     "execution_count": 324,
     "metadata": {},
     "output_type": "execute_result"
    }
   ],
   "source": [
    "#reg = SARIMAX(list(y[12:]), order=(0,1,0), seasonal_order=(0,1, 0, 12), enforce_invertibility=False, enforce_stationarity=False).fit()\n",
    "reg.aic"
   ]
  },
  {
   "cell_type": "code",
   "execution_count": 147,
   "metadata": {
    "scrolled": true
   },
   "outputs": [
    {
     "name": "stdout",
     "output_type": "stream",
     "text": [
      "Fit ARIMA: order=(0, 1, 0) seasonal_order=(0, 0, 0, 12); AIC=487.755, BIC=489.844, Fit time=0.008 seconds\n",
      "Fit ARIMA: order=(1, 1, 0) seasonal_order=(1, 0, 0, 12); AIC=490.788, BIC=494.966, Fit time=0.028 seconds\n",
      "Fit ARIMA: order=(0, 1, 1) seasonal_order=(0, 0, 1, 12); AIC=nan, BIC=nan, Fit time=nan seconds\n",
      "Fit ARIMA: order=(0, 1, 0) seasonal_order=(1, 0, 0, 12); AIC=489.336, BIC=492.470, Fit time=0.021 seconds\n",
      "Fit ARIMA: order=(0, 1, 0) seasonal_order=(0, 0, 1, 12); AIC=nan, BIC=nan, Fit time=nan seconds\n",
      "Fit ARIMA: order=(0, 1, 0) seasonal_order=(1, 0, 1, 12); AIC=nan, BIC=nan, Fit time=nan seconds\n",
      "Fit ARIMA: order=(1, 1, 0) seasonal_order=(0, 0, 0, 12); AIC=489.548, BIC=492.682, Fit time=0.015 seconds\n",
      "Fit ARIMA: order=(0, 1, 1) seasonal_order=(0, 0, 0, 12); AIC=490.061, BIC=493.195, Fit time=0.018 seconds\n",
      "Fit ARIMA: order=(1, 1, 1) seasonal_order=(0, 0, 0, 12); AIC=nan, BIC=nan, Fit time=nan seconds\n",
      "Total fit time: 0.094 seconds\n",
      "487.75488179134936\n"
     ]
    }
   ],
   "source": [
    "reg  = auto_arima(y, start_p=0, start_q=0,\n",
    "                           max_p=10, max_q=10, m=12,\n",
    "                           start_P=0, seasonal=True,start_Q=0,\n",
    "                           d=1, D=0, trace=True,\n",
    "                           error_action='ignore',  \n",
    "                           suppress_warnings=True, \n",
    "                           stepwise=True,random_state=20,n_fits=50)\n",
    "print(reg.aic())"
   ]
  },
  {
   "cell_type": "code",
   "execution_count": 132,
   "metadata": {},
   "outputs": [
    {
     "data": {
      "text/plain": [
       "22"
      ]
     },
     "execution_count": 132,
     "metadata": {},
     "output_type": "execute_result"
    }
   ],
   "source": [
    "len(y)"
   ]
  },
  {
   "cell_type": "code",
   "execution_count": 145,
   "metadata": {},
   "outputs": [
    {
     "data": {
      "text/html": [
       "<table class=\"simpletable\">\n",
       "<caption>Statespace Model Results</caption>\n",
       "<tr>\n",
       "  <th>Dep. Variable:</th>           <td>y</td>        <th>  No. Observations:  </th>    <td>22</td>   \n",
       "</tr>\n",
       "<tr>\n",
       "  <th>Model:</th>           <td>SARIMAX(1, 0, 0)</td> <th>  Log Likelihood     </th> <td>-250.945</td>\n",
       "</tr>\n",
       "<tr>\n",
       "  <th>Date:</th>            <td>Fri, 04 Dec 2020</td> <th>  AIC                </th>  <td>507.890</td>\n",
       "</tr>\n",
       "<tr>\n",
       "  <th>Time:</th>                <td>14:41:56</td>     <th>  BIC                </th>  <td>511.163</td>\n",
       "</tr>\n",
       "<tr>\n",
       "  <th>Sample:</th>                  <td>0</td>        <th>  HQIC               </th>  <td>508.661</td>\n",
       "</tr>\n",
       "<tr>\n",
       "  <th></th>                       <td> - 22</td>      <th>                     </th>     <td> </td>   \n",
       "</tr>\n",
       "<tr>\n",
       "  <th>Covariance Type:</th>        <td>opg</td>       <th>                     </th>     <td> </td>   \n",
       "</tr>\n",
       "</table>\n",
       "<table class=\"simpletable\">\n",
       "<tr>\n",
       "      <td></td>         <th>coef</th>     <th>std err</th>      <th>z</th>      <th>P>|z|</th>  <th>[0.025</th>    <th>0.975]</th>  \n",
       "</tr>\n",
       "<tr>\n",
       "  <th>intercept</th> <td> 1.043e+04</td> <td> 7054.699</td> <td>    1.479</td> <td> 0.139</td> <td>-3392.731</td> <td> 2.43e+04</td>\n",
       "</tr>\n",
       "<tr>\n",
       "  <th>ar.L1</th>     <td>    0.6184</td> <td>    0.159</td> <td>    3.900</td> <td> 0.000</td> <td>    0.308</td> <td>    0.929</td>\n",
       "</tr>\n",
       "<tr>\n",
       "  <th>sigma2</th>    <td> 4.566e+08</td> <td>    0.208</td> <td> 2.19e+09</td> <td> 0.000</td> <td> 4.57e+08</td> <td> 4.57e+08</td>\n",
       "</tr>\n",
       "</table>\n",
       "<table class=\"simpletable\">\n",
       "<tr>\n",
       "  <th>Ljung-Box (Q):</th>          <td>14.22</td> <th>  Jarque-Bera (JB):  </th> <td>1.98</td>\n",
       "</tr>\n",
       "<tr>\n",
       "  <th>Prob(Q):</th>                <td>0.86</td>  <th>  Prob(JB):          </th> <td>0.37</td>\n",
       "</tr>\n",
       "<tr>\n",
       "  <th>Heteroskedasticity (H):</th> <td>0.39</td>  <th>  Skew:              </th> <td>0.68</td>\n",
       "</tr>\n",
       "<tr>\n",
       "  <th>Prob(H) (two-sided):</th>    <td>0.24</td>  <th>  Kurtosis:          </th> <td>2.43</td>\n",
       "</tr>\n",
       "</table><br/><br/>Warnings:<br/>[1] Covariance matrix calculated using the outer product of gradients (complex-step).<br/>[2] Covariance matrix is singular or near-singular, with condition number 6.85e+24. Standard errors may be unstable."
      ],
      "text/plain": [
       "<class 'statsmodels.iolib.summary.Summary'>\n",
       "\"\"\"\n",
       "                           Statespace Model Results                           \n",
       "==============================================================================\n",
       "Dep. Variable:                      y   No. Observations:                   22\n",
       "Model:               SARIMAX(1, 0, 0)   Log Likelihood                -250.945\n",
       "Date:                Fri, 04 Dec 2020   AIC                            507.890\n",
       "Time:                        14:41:56   BIC                            511.163\n",
       "Sample:                             0   HQIC                           508.661\n",
       "                                 - 22                                         \n",
       "Covariance Type:                  opg                                         \n",
       "==============================================================================\n",
       "                 coef    std err          z      P>|z|      [0.025      0.975]\n",
       "------------------------------------------------------------------------------\n",
       "intercept   1.043e+04   7054.699      1.479      0.139   -3392.731    2.43e+04\n",
       "ar.L1          0.6184      0.159      3.900      0.000       0.308       0.929\n",
       "sigma2      4.566e+08      0.208   2.19e+09      0.000    4.57e+08    4.57e+08\n",
       "===================================================================================\n",
       "Ljung-Box (Q):                       14.22   Jarque-Bera (JB):                 1.98\n",
       "Prob(Q):                              0.86   Prob(JB):                         0.37\n",
       "Heteroskedasticity (H):               0.39   Skew:                             0.68\n",
       "Prob(H) (two-sided):                  0.24   Kurtosis:                         2.43\n",
       "===================================================================================\n",
       "\n",
       "Warnings:\n",
       "[1] Covariance matrix calculated using the outer product of gradients (complex-step).\n",
       "[2] Covariance matrix is singular or near-singular, with condition number 6.85e+24. Standard errors may be unstable.\n",
       "\"\"\""
      ]
     },
     "execution_count": 145,
     "metadata": {},
     "output_type": "execute_result"
    }
   ],
   "source": [
    "reg.summary()"
   ]
  },
  {
   "cell_type": "code",
   "execution_count": 148,
   "metadata": {
    "scrolled": true
   },
   "outputs": [
    {
     "data": {
      "text/plain": [
       "array([29031.24900261, 27767.62395727, 26503.99891193, 25240.3738666 ,\n",
       "       23976.74882126, 22713.12377592, 21449.49873059, 20185.87368525,\n",
       "       18922.24863992, 17658.62359458])"
      ]
     },
     "execution_count": 148,
     "metadata": {},
     "output_type": "execute_result"
    }
   ],
   "source": [
    "y_pred_new_reg = reg.predict(n_periods=10)\n",
    "y_pred_new_reg"
   ]
  },
  {
   "cell_type": "code",
   "execution_count": 149,
   "metadata": {
    "scrolled": true
   },
   "outputs": [
    {
     "data": {
      "image/png": "[encoded data removed]",
      "text/plain": [
       "<Figure size 720x360 with 1 Axes>"
      ]
     },
     "metadata": {
      "needs_background": "light"
     },
     "output_type": "display_data"
    }
   ],
   "source": [
    "hfont = {'fontname':'Trebuchet MS'}\n",
    "\n",
    "fig = plt.figure(figsize=(10,5))\n",
    "plt.scatter(np.arange(len(y))+1, y,color='gray',linewidth=0.7, s = 7)\n",
    "plt.scatter(np.arange(len(y_pred_new_reg))+len(y)+1, y_pred_new_reg,color='red',linewidth=0.7, s = 7)\n",
    "plt.ylim(0, 30000)\n",
    "plt.xlabel('months since program start', **hfont)\n",
    "plt.ylabel('number of new eligible households by service centers', **hfont)\n",
    "plt.show()"
   ]
  },
  {
   "cell_type": "code",
   "execution_count": 194,
   "metadata": {},
   "outputs": [
    {
     "data": {
      "text/html": [
       "<div>\n",
       "<style scoped>\n",
       "    .dataframe tbody tr th:only-of-type {\n",
       "        vertical-align: middle;\n",
       "    }\n",
       "\n",
       "    .dataframe tbody tr th {\n",
       "        vertical-align: top;\n",
       "    }\n",
       "\n",
       "    .dataframe thead th {\n",
       "        text-align: right;\n",
       "    }\n",
       "</style>\n",
       "<table border=\"1\" class=\"dataframe\">\n",
       "  <thead>\n",
       "    <tr style=\"text-align: right;\">\n",
       "      <th></th>\n",
       "      <th>Aylık Başvuru Sayısı</th>\n",
       "      <th>Toplam Başvuru Sayısı</th>\n",
       "      <th>Başvuru Sayısı Değişim Yüzdesi</th>\n",
       "      <th>Ödeme Dönemi - Tarih</th>\n",
       "      <th>Başvuru Kabul Edildi Sayısı</th>\n",
       "      <th>Unnamed: 5</th>\n",
       "      <th>Yüzde</th>\n",
       "      <th>Bakanlıktan İletilen</th>\n",
       "      <th>Yüzde.1</th>\n",
       "      <th>Unnamed: 9</th>\n",
       "      <th>ORAN_b</th>\n",
       "      <th>Bakanlıktan Gelen</th>\n",
       "      <th>TRC Ödeme alan faydalanıcı sayısı</th>\n",
       "      <th>Unnamed: 13</th>\n",
       "      <th>Unnamed: 14</th>\n",
       "      <th>odeme_oran</th>\n",
       "      <th>Unnamed: 16</th>\n",
       "      <th>Unnamed: 17</th>\n",
       "    </tr>\n",
       "  </thead>\n",
       "  <tbody>\n",
       "    <tr>\n",
       "      <th>Mart-Nisan</th>\n",
       "      <td>56831.0</td>\n",
       "      <td>56831.0</td>\n",
       "      <td>NaN</td>\n",
       "      <td>Mayıs</td>\n",
       "      <td>56831.0</td>\n",
       "      <td>0.967173</td>\n",
       "      <td>1.0</td>\n",
       "      <td>56831.0</td>\n",
       "      <td>NaN</td>\n",
       "      <td>NaN</td>\n",
       "      <td>1.000000</td>\n",
       "      <td>56831.0</td>\n",
       "      <td>56240.0</td>\n",
       "      <td>NaN</td>\n",
       "      <td>NaN</td>\n",
       "      <td>0.989601</td>\n",
       "      <td>NaN</td>\n",
       "      <td>NaN</td>\n",
       "    </tr>\n",
       "    <tr>\n",
       "      <th>Mayıs-Haziran</th>\n",
       "      <td>72504.0</td>\n",
       "      <td>129335.0</td>\n",
       "      <td>NaN</td>\n",
       "      <td>Temmuz</td>\n",
       "      <td>129335.0</td>\n",
       "      <td>0.967173</td>\n",
       "      <td>1.0</td>\n",
       "      <td>72504.0</td>\n",
       "      <td>0.216167</td>\n",
       "      <td>NaN</td>\n",
       "      <td>0.560591</td>\n",
       "      <td>72504.0</td>\n",
       "      <td>72027.0</td>\n",
       "      <td>NaN</td>\n",
       "      <td>NaN</td>\n",
       "      <td>0.993421</td>\n",
       "      <td>NaN</td>\n",
       "      <td>NaN</td>\n",
       "    </tr>\n",
       "  </tbody>\n",
       "</table>\n",
       "</div>"
      ],
      "text/plain": [
       "               Aylık Başvuru Sayısı  Toplam Başvuru Sayısı  \\\n",
       "Mart-Nisan                  56831.0                56831.0   \n",
       "Mayıs-Haziran               72504.0               129335.0   \n",
       "\n",
       "               Başvuru Sayısı Değişim Yüzdesi Ödeme Dönemi - Tarih  \\\n",
       "Mart-Nisan                                NaN                Mayıs   \n",
       "Mayıs-Haziran                             NaN               Temmuz   \n",
       "\n",
       "               Başvuru Kabul Edildi Sayısı  Unnamed: 5  Yüzde  \\\n",
       "Mart-Nisan                         56831.0    0.967173    1.0   \n",
       "Mayıs-Haziran                     129335.0    0.967173    1.0   \n",
       "\n",
       "               Bakanlıktan İletilen    Yüzde.1  Unnamed: 9    ORAN_b  \\\n",
       "Mart-Nisan                   56831.0       NaN         NaN  1.000000   \n",
       "Mayıs-Haziran                72504.0  0.216167         NaN  0.560591   \n",
       "\n",
       "               Bakanlıktan Gelen  TRC Ödeme alan faydalanıcı sayısı  \\\n",
       "Mart-Nisan               56831.0                            56240.0   \n",
       "Mayıs-Haziran            72504.0                            72027.0   \n",
       "\n",
       "               Unnamed: 13  Unnamed: 14  odeme_oran  Unnamed: 16  Unnamed: 17  \n",
       "Mart-Nisan             NaN          NaN    0.989601          NaN          NaN  \n",
       "Mayıs-Haziran          NaN          NaN    0.993421          NaN          NaN  "
      ]
     },
     "execution_count": 194,
     "metadata": {},
     "output_type": "execute_result"
    }
   ],
   "source": [
    "historic.head(2)"
   ]
  },
  {
   "cell_type": "markdown",
   "metadata": {},
   "source": [
    "### Bakanlık gelen"
   ]
  },
  {
   "cell_type": "code",
   "execution_count": 198,
   "metadata": {},
   "outputs": [],
   "source": [
    "total_app=historic['Toplam Başvuru Sayısı'][0:22]\n",
    "elig_ratio = historic['Yüzde'][0:22]\n",
    "elig_app = np.array(total_app*elig_ratio)\n"
   ]
  },
  {
   "cell_type": "code",
   "execution_count": 371,
   "metadata": {
    "scrolled": true
   },
   "outputs": [
    {
     "data": {
      "text/plain": [
       "array([ 56831.,  72504., 137868., 171144., 320559., 298499., 277516.,\n",
       "       322139., 361078., 323418., 462411., 412832., 407715., 400971.,\n",
       "       462325., 388535., 512060., 470361., 476842., 508468., 511237.,\n",
       "       535812.])"
      ]
     },
     "execution_count": 371,
     "metadata": {},
     "output_type": "execute_result"
    }
   ],
   "source": [
    "bakanliksayi = np.array(historic['ORAN_b'][0:22]*elig_app)\n",
    "bakanliksayi"
   ]
  },
  {
   "cell_type": "code",
   "execution_count": 372,
   "metadata": {},
   "outputs": [],
   "source": [
    "y = np.array(bakanliksayi)"
   ]
  },
  {
   "cell_type": "code",
   "execution_count": 388,
   "metadata": {},
   "outputs": [
    {
     "name": "stdout",
     "output_type": "stream",
     "text": [
      "Fit ARIMA: order=(1, 1, 0) seasonal_order=(0, 1, 0, 12); AIC=223.722, BIC=224.314, Fit time=0.078 seconds\n",
      "Fit ARIMA: order=(0, 1, 0) seasonal_order=(0, 1, 0, 12); AIC=221.780, BIC=222.175, Fit time=0.023 seconds\n",
      "Fit ARIMA: order=(1, 1, 0) seasonal_order=(1, 1, 0, 12); AIC=nan, BIC=nan, Fit time=nan seconds\n",
      "Fit ARIMA: order=(0, 1, 1) seasonal_order=(0, 1, 1, 12); AIC=nan, BIC=nan, Fit time=nan seconds\n",
      "Fit ARIMA: order=(0, 1, 0) seasonal_order=(1, 1, 0, 12); AIC=nan, BIC=nan, Fit time=nan seconds\n",
      "Fit ARIMA: order=(0, 1, 0) seasonal_order=(0, 1, 1, 12); AIC=nan, BIC=nan, Fit time=nan seconds\n",
      "Fit ARIMA: order=(0, 1, 0) seasonal_order=(1, 1, 1, 12); AIC=nan, BIC=nan, Fit time=nan seconds\n",
      "Fit ARIMA: order=(0, 1, 1) seasonal_order=(0, 1, 0, 12); AIC=225.826, BIC=226.418, Fit time=0.055 seconds\n",
      "Fit ARIMA: order=(1, 1, 1) seasonal_order=(0, 1, 0, 12); AIC=227.734, BIC=228.523, Fit time=0.104 seconds\n",
      "Total fit time: 0.279 seconds\n",
      "221.78017431173214\n"
     ]
    }
   ],
   "source": [
    "reg = auto_arima(y, start_p=1, start_q=0,\n",
    "                           max_p=4, max_q=4, m=12,\n",
    "                           start_P=0,start_Q=0, seasonal=True,\n",
    "                           d=1, D=1, trace=True,\n",
    "                           error_action='ignore',  \n",
    "                           suppress_warnings=True, \n",
    "                           stepwise=True)\n",
    "print(reg.aic())"
   ]
  },
  {
   "cell_type": "code",
   "execution_count": 389,
   "metadata": {},
   "outputs": [
    {
     "data": {
      "text/html": [
       "<table class=\"simpletable\">\n",
       "<caption>Statespace Model Results</caption>\n",
       "<tr>\n",
       "  <th>Dep. Variable:</th>                  <td>y</td>               <th>  No. Observations:  </th>    <td>22</td>   \n",
       "</tr>\n",
       "<tr>\n",
       "  <th>Model:</th>           <td>SARIMAX(0, 1, 0)x(0, 1, 0, 12)</td> <th>  Log Likelihood     </th> <td>-108.890</td>\n",
       "</tr>\n",
       "<tr>\n",
       "  <th>Date:</th>                   <td>Mon, 07 Dec 2020</td>        <th>  AIC                </th>  <td>221.780</td>\n",
       "</tr>\n",
       "<tr>\n",
       "  <th>Time:</th>                       <td>08:42:27</td>            <th>  BIC                </th>  <td>222.175</td>\n",
       "</tr>\n",
       "<tr>\n",
       "  <th>Sample:</th>                         <td>0</td>               <th>  HQIC               </th>  <td>220.929</td>\n",
       "</tr>\n",
       "<tr>\n",
       "  <th></th>                              <td> - 22</td>             <th>                     </th>     <td> </td>   \n",
       "</tr>\n",
       "<tr>\n",
       "  <th>Covariance Type:</th>               <td>opg</td>              <th>                     </th>     <td> </td>   \n",
       "</tr>\n",
       "</table>\n",
       "<table class=\"simpletable\">\n",
       "<tr>\n",
       "      <td></td>         <th>coef</th>     <th>std err</th>      <th>z</th>      <th>P>|z|</th>  <th>[0.025</th>    <th>0.975]</th>  \n",
       "</tr>\n",
       "<tr>\n",
       "  <th>intercept</th> <td>-1.539e+04</td> <td> 1.48e+04</td> <td>   -1.040</td> <td> 0.298</td> <td>-4.44e+04</td> <td> 1.36e+04</td>\n",
       "</tr>\n",
       "<tr>\n",
       "  <th>sigma2</th>    <td>  1.89e+09</td> <td> 8.24e+08</td> <td>    2.294</td> <td> 0.022</td> <td> 2.75e+08</td> <td> 3.51e+09</td>\n",
       "</tr>\n",
       "</table>\n",
       "<table class=\"simpletable\">\n",
       "<tr>\n",
       "  <th>Ljung-Box (Q):</th>          <td>6.70</td> <th>  Jarque-Bera (JB):  </th> <td>0.22</td> \n",
       "</tr>\n",
       "<tr>\n",
       "  <th>Prob(Q):</th>                <td>0.57</td> <th>  Prob(JB):          </th> <td>0.90</td> \n",
       "</tr>\n",
       "<tr>\n",
       "  <th>Heteroskedasticity (H):</th> <td>0.75</td> <th>  Skew:              </th> <td>-0.32</td>\n",
       "</tr>\n",
       "<tr>\n",
       "  <th>Prob(H) (two-sided):</th>    <td>0.82</td> <th>  Kurtosis:          </th> <td>3.44</td> \n",
       "</tr>\n",
       "</table><br/><br/>Warnings:<br/>[1] Covariance matrix calculated using the outer product of gradients (complex-step)."
      ],
      "text/plain": [
       "<class 'statsmodels.iolib.summary.Summary'>\n",
       "\"\"\"\n",
       "                                 Statespace Model Results                                 \n",
       "==========================================================================================\n",
       "Dep. Variable:                                  y   No. Observations:                   22\n",
       "Model:             SARIMAX(0, 1, 0)x(0, 1, 0, 12)   Log Likelihood                -108.890\n",
       "Date:                            Mon, 07 Dec 2020   AIC                            221.780\n",
       "Time:                                    08:42:27   BIC                            222.175\n",
       "Sample:                                         0   HQIC                           220.929\n",
       "                                             - 22                                         \n",
       "Covariance Type:                              opg                                         \n",
       "==============================================================================\n",
       "                 coef    std err          z      P>|z|      [0.025      0.975]\n",
       "------------------------------------------------------------------------------\n",
       "intercept  -1.539e+04   1.48e+04     -1.040      0.298   -4.44e+04    1.36e+04\n",
       "sigma2       1.89e+09   8.24e+08      2.294      0.022    2.75e+08    3.51e+09\n",
       "===================================================================================\n",
       "Ljung-Box (Q):                        6.70   Jarque-Bera (JB):                 0.22\n",
       "Prob(Q):                              0.57   Prob(JB):                         0.90\n",
       "Heteroskedasticity (H):               0.75   Skew:                            -0.32\n",
       "Prob(H) (two-sided):                  0.82   Kurtosis:                         3.44\n",
       "===================================================================================\n",
       "\n",
       "Warnings:\n",
       "[1] Covariance matrix calculated using the outer product of gradients (complex-step).\n",
       "\"\"\""
      ]
     },
     "execution_count": 389,
     "metadata": {},
     "output_type": "execute_result"
    }
   ],
   "source": [
    "reg.summary()"
   ]
  },
  {
   "cell_type": "code",
   "execution_count": 390,
   "metadata": {
    "scrolled": true
   },
   "outputs": [],
   "source": [
    "y_pred_bakanlik = reg.predict(n_periods=10)"
   ]
  },
  {
   "cell_type": "code",
   "execution_count": 391,
   "metadata": {},
   "outputs": [
    {
     "data": {
      "text/plain": [
       "array([659417.22222222, 594450.44444444, 573945.66666667, 551813.88888889,\n",
       "       597780.11111111, 508602.33333333, 616739.55555556, 559652.77777778,\n",
       "       550746.        , 566984.22222222])"
      ]
     },
     "execution_count": 391,
     "metadata": {},
     "output_type": "execute_result"
    }
   ],
   "source": [
    "y_pred_bakanlik "
   ]
  },
  {
   "cell_type": "markdown",
   "metadata": {},
   "source": [
    "# TRC Ödeme alan faydalanıcı sayısı (# of Beneficiaries- Post Verification)"
   ]
  },
  {
   "cell_type": "code",
   "execution_count": 392,
   "metadata": {},
   "outputs": [],
   "source": [
    "\n",
    "fayda = historic['TRC Ödeme alan faydalanıcı sayısı'][0:22] \n",
    "app_month = historic['Aylık Başvuru Sayısı'][0:22]\n",
    "elig_ratio = 0.97\n",
    "odeme_alan = y_pred_bakanlik *elig_ratio\n",
    "\n",
    "#PARTIAL MODIFICATION - TRC to explain further why the eligible number of HH in January 2017 is 19145, if the total number of applicants in December was 85629, and the eligibility ratio was 28.8%? \n",
    "#we assume the new eligible for registration in service centers in June was 19145- 589 (eligible first month)\n",
    "#new_reg[1] = historic['# of Eligibile Household - Post Verification'][1]-historic['# of Eligibile Household - Post Verification'][0]"
   ]
  },
  {
   "cell_type": "code",
   "execution_count": 397,
   "metadata": {},
   "outputs": [
    {
     "data": {
      "text/plain": [
       "array([659417.22222222, 594450.44444444, 573945.66666667, 551813.88888889,\n",
       "       597780.11111111, 508602.33333333, 616739.55555556, 559652.77777778,\n",
       "       550746.        , 566984.22222222])"
      ]
     },
     "execution_count": 397,
     "metadata": {},
     "output_type": "execute_result"
    }
   ],
   "source": [
    "y_pred_bakanlik"
   ]
  },
  {
   "cell_type": "code",
   "execution_count": 399,
   "metadata": {},
   "outputs": [],
   "source": [
    "f = {'Months of Payment':months_to_pred,'Bakanlıktan Gelen' : y_pred_bakanlik,'TRC Ödeme alan faydalanıcı sayısı': odeme_alan}"
   ]
  },
  {
   "cell_type": "code",
   "execution_count": 400,
   "metadata": {},
   "outputs": [],
   "source": [
    "predictions2 = pd.DataFrame(data = f)"
   ]
  },
  {
   "cell_type": "code",
   "execution_count": 401,
   "metadata": {},
   "outputs": [
    {
     "data": {
      "text/html": [
       "<div>\n",
       "<style scoped>\n",
       "    .dataframe tbody tr th:only-of-type {\n",
       "        vertical-align: middle;\n",
       "    }\n",
       "\n",
       "    .dataframe tbody tr th {\n",
       "        vertical-align: top;\n",
       "    }\n",
       "\n",
       "    .dataframe thead th {\n",
       "        text-align: right;\n",
       "    }\n",
       "</style>\n",
       "<table border=\"1\" class=\"dataframe\">\n",
       "  <thead>\n",
       "    <tr style=\"text-align: right;\">\n",
       "      <th></th>\n",
       "      <th>Months of Payment</th>\n",
       "      <th>Bakanlıktan Gelen</th>\n",
       "      <th>TRC Ödeme alan faydalanıcı sayısı</th>\n",
       "    </tr>\n",
       "  </thead>\n",
       "  <tbody>\n",
       "    <tr>\n",
       "      <th>0</th>\n",
       "      <td>Jan 2021</td>\n",
       "      <td>659417.222222</td>\n",
       "      <td>639634.705556</td>\n",
       "    </tr>\n",
       "    <tr>\n",
       "      <th>1</th>\n",
       "      <td>Mar 2021</td>\n",
       "      <td>594450.444444</td>\n",
       "      <td>576616.931111</td>\n",
       "    </tr>\n",
       "    <tr>\n",
       "      <th>2</th>\n",
       "      <td>May 2021</td>\n",
       "      <td>573945.666667</td>\n",
       "      <td>556727.296667</td>\n",
       "    </tr>\n",
       "    <tr>\n",
       "      <th>3</th>\n",
       "      <td>Jul 2021</td>\n",
       "      <td>551813.888889</td>\n",
       "      <td>535259.472222</td>\n",
       "    </tr>\n",
       "    <tr>\n",
       "      <th>4</th>\n",
       "      <td>Sep 2021</td>\n",
       "      <td>597780.111111</td>\n",
       "      <td>579846.707778</td>\n",
       "    </tr>\n",
       "    <tr>\n",
       "      <th>5</th>\n",
       "      <td>Nov 2021</td>\n",
       "      <td>508602.333333</td>\n",
       "      <td>493344.263333</td>\n",
       "    </tr>\n",
       "    <tr>\n",
       "      <th>6</th>\n",
       "      <td>Jan 2022</td>\n",
       "      <td>616739.555556</td>\n",
       "      <td>598237.368889</td>\n",
       "    </tr>\n",
       "    <tr>\n",
       "      <th>7</th>\n",
       "      <td>Mar 2022</td>\n",
       "      <td>559652.777778</td>\n",
       "      <td>542863.194444</td>\n",
       "    </tr>\n",
       "    <tr>\n",
       "      <th>8</th>\n",
       "      <td>May 2022</td>\n",
       "      <td>550746.000000</td>\n",
       "      <td>534223.620000</td>\n",
       "    </tr>\n",
       "    <tr>\n",
       "      <th>9</th>\n",
       "      <td>Jul 2022</td>\n",
       "      <td>566984.222222</td>\n",
       "      <td>549974.695556</td>\n",
       "    </tr>\n",
       "  </tbody>\n",
       "</table>\n",
       "</div>"
      ],
      "text/plain": [
       "  Months of Payment  Bakanlıktan Gelen  TRC Ödeme alan faydalanıcı sayısı\n",
       "0          Jan 2021      659417.222222                      639634.705556\n",
       "1          Mar 2021      594450.444444                      576616.931111\n",
       "2          May 2021      573945.666667                      556727.296667\n",
       "3          Jul 2021      551813.888889                      535259.472222\n",
       "4          Sep 2021      597780.111111                      579846.707778\n",
       "5          Nov 2021      508602.333333                      493344.263333\n",
       "6          Jan 2022      616739.555556                      598237.368889\n",
       "7          Mar 2022      559652.777778                      542863.194444\n",
       "8          May 2022      550746.000000                      534223.620000\n",
       "9          Jul 2022      566984.222222                      549974.695556"
      ]
     },
     "execution_count": 401,
     "metadata": {},
     "output_type": "execute_result"
    }
   ],
   "source": [
    "predictions2"
   ]
  },
  {
   "cell_type": "code",
   "execution_count": 410,
   "metadata": {
    "scrolled": true
   },
   "outputs": [
    {
     "name": "stdout",
     "output_type": "stream",
     "text": [
      "Fit ARIMA: order=(0, 2, 0) seasonal_order=(0, 0, 0, 12); AIC=518.771, BIC=520.763, Fit time=0.024 seconds\n",
      "Fit ARIMA: order=(1, 2, 0) seasonal_order=(1, 0, 0, 12); AIC=nan, BIC=nan, Fit time=nan seconds\n",
      "Fit ARIMA: order=(0, 2, 1) seasonal_order=(0, 0, 1, 12); AIC=nan, BIC=nan, Fit time=nan seconds\n",
      "Fit ARIMA: order=(0, 2, 0) seasonal_order=(1, 0, 0, 12); AIC=nan, BIC=nan, Fit time=nan seconds\n",
      "Fit ARIMA: order=(0, 2, 0) seasonal_order=(0, 0, 1, 12); AIC=nan, BIC=nan, Fit time=nan seconds\n",
      "Fit ARIMA: order=(0, 2, 0) seasonal_order=(1, 0, 1, 12); AIC=nan, BIC=nan, Fit time=nan seconds\n",
      "Fit ARIMA: order=(1, 2, 0) seasonal_order=(0, 0, 0, 12); AIC=506.697, BIC=509.684, Fit time=0.059 seconds\n",
      "Fit ARIMA: order=(1, 2, 1) seasonal_order=(0, 0, 0, 12); AIC=504.752, BIC=508.735, Fit time=0.163 seconds\n",
      "Fit ARIMA: order=(2, 2, 2) seasonal_order=(0, 0, 0, 12); AIC=nan, BIC=nan, Fit time=nan seconds\n",
      "Fit ARIMA: order=(1, 2, 1) seasonal_order=(1, 0, 0, 12); AIC=nan, BIC=nan, Fit time=nan seconds\n",
      "Fit ARIMA: order=(1, 2, 1) seasonal_order=(0, 0, 1, 12); AIC=nan, BIC=nan, Fit time=nan seconds\n",
      "Fit ARIMA: order=(1, 2, 1) seasonal_order=(1, 0, 1, 12); AIC=nan, BIC=nan, Fit time=nan seconds\n",
      "Fit ARIMA: order=(0, 2, 1) seasonal_order=(0, 0, 0, 12); AIC=nan, BIC=nan, Fit time=nan seconds\n",
      "Fit ARIMA: order=(2, 2, 1) seasonal_order=(0, 0, 0, 12); AIC=503.905, BIC=508.883, Fit time=0.110 seconds\n",
      "Fit ARIMA: order=(2, 2, 0) seasonal_order=(0, 0, 0, 12); AIC=503.347, BIC=507.330, Fit time=0.056 seconds\n",
      "Fit ARIMA: order=(3, 2, 1) seasonal_order=(0, 0, 0, 12); AIC=504.152, BIC=510.126, Fit time=0.219 seconds\n",
      "Fit ARIMA: order=(2, 2, 0) seasonal_order=(1, 0, 0, 12); AIC=nan, BIC=nan, Fit time=nan seconds\n",
      "Fit ARIMA: order=(2, 2, 0) seasonal_order=(0, 0, 1, 12); AIC=nan, BIC=nan, Fit time=nan seconds\n",
      "Fit ARIMA: order=(2, 2, 0) seasonal_order=(1, 0, 1, 12); AIC=nan, BIC=nan, Fit time=nan seconds\n",
      "Fit ARIMA: order=(3, 2, 0) seasonal_order=(0, 0, 0, 12); AIC=502.205, BIC=507.183, Fit time=0.238 seconds\n",
      "Fit ARIMA: order=(4, 2, 1) seasonal_order=(0, 0, 0, 12); AIC=505.076, BIC=512.046, Fit time=0.155 seconds\n",
      "Fit ARIMA: order=(3, 2, 0) seasonal_order=(1, 0, 0, 12); AIC=nan, BIC=nan, Fit time=nan seconds\n",
      "Fit ARIMA: order=(3, 2, 0) seasonal_order=(0, 0, 1, 12); AIC=nan, BIC=nan, Fit time=nan seconds\n",
      "Fit ARIMA: order=(3, 2, 0) seasonal_order=(1, 0, 1, 12); AIC=nan, BIC=nan, Fit time=nan seconds\n",
      "Fit ARIMA: order=(4, 2, 0) seasonal_order=(0, 0, 0, 12); AIC=503.758, BIC=509.732, Fit time=0.139 seconds\n",
      "Total fit time: 1.242 seconds\n",
      "502.20478624873226\n"
     ]
    }
   ],
   "source": [
    " reg = auto_arima(fayda, start_p=0, start_q=0,start_Q=0,\n",
    "                           max_p=5, max_q=5, m=12,\n",
    "                           start_P=0, seasonal=True,\n",
    "                           d=2, D=0, trace=True,\n",
    "                           error_action='ignore',  \n",
    "                           suppress_warnings=True, \n",
    "                           stepwise=True)\n",
    "print(reg.aic())"
   ]
  },
  {
   "cell_type": "code",
   "execution_count": 405,
   "metadata": {
    "scrolled": true
   },
   "outputs": [
    {
     "data": {
      "text/html": [
       "<table class=\"simpletable\">\n",
       "<caption>Statespace Model Results</caption>\n",
       "<tr>\n",
       "  <th>Dep. Variable:</th>                  <td>y</td>               <th>  No. Observations:  </th>   <td>22</td>   \n",
       "</tr>\n",
       "<tr>\n",
       "  <th>Model:</th>           <td>SARIMAX(0, 2, 0)x(0, 1, 0, 12)</td> <th>  Log Likelihood     </th> <td>-97.961</td>\n",
       "</tr>\n",
       "<tr>\n",
       "  <th>Date:</th>                   <td>Mon, 07 Dec 2020</td>        <th>  AIC                </th> <td>199.921</td>\n",
       "</tr>\n",
       "<tr>\n",
       "  <th>Time:</th>                       <td>09:00:51</td>            <th>  BIC                </th> <td>200.080</td>\n",
       "</tr>\n",
       "<tr>\n",
       "  <th>Sample:</th>                         <td>0</td>               <th>  HQIC               </th> <td>198.850</td>\n",
       "</tr>\n",
       "<tr>\n",
       "  <th></th>                              <td> - 22</td>             <th>                     </th>    <td> </td>   \n",
       "</tr>\n",
       "<tr>\n",
       "  <th>Covariance Type:</th>               <td>opg</td>              <th>                     </th>    <td> </td>   \n",
       "</tr>\n",
       "</table>\n",
       "<table class=\"simpletable\">\n",
       "<tr>\n",
       "      <td></td>         <th>coef</th>     <th>std err</th>      <th>z</th>      <th>P>|z|</th>  <th>[0.025</th>    <th>0.975]</th>  \n",
       "</tr>\n",
       "<tr>\n",
       "  <th>intercept</th> <td> 9220.6250</td> <td>  1.9e+04</td> <td>    0.485</td> <td> 0.628</td> <td>-2.81e+04</td> <td> 4.65e+04</td>\n",
       "</tr>\n",
       "<tr>\n",
       "  <th>sigma2</th>    <td> 2.532e+09</td> <td> 1.72e+09</td> <td>    1.474</td> <td> 0.141</td> <td>-8.36e+08</td> <td>  5.9e+09</td>\n",
       "</tr>\n",
       "</table>\n",
       "<table class=\"simpletable\">\n",
       "<tr>\n",
       "  <th>Ljung-Box (Q):</th>          <td>9.08</td> <th>  Jarque-Bera (JB):  </th> <td>0.40</td> \n",
       "</tr>\n",
       "<tr>\n",
       "  <th>Prob(Q):</th>                <td>0.25</td> <th>  Prob(JB):          </th> <td>0.82</td> \n",
       "</tr>\n",
       "<tr>\n",
       "  <th>Heteroskedasticity (H):</th> <td>0.58</td> <th>  Skew:              </th> <td>-0.39</td>\n",
       "</tr>\n",
       "<tr>\n",
       "  <th>Prob(H) (two-sided):</th>    <td>0.67</td> <th>  Kurtosis:          </th> <td>2.24</td> \n",
       "</tr>\n",
       "</table><br/><br/>Warnings:<br/>[1] Covariance matrix calculated using the outer product of gradients (complex-step)."
      ],
      "text/plain": [
       "<class 'statsmodels.iolib.summary.Summary'>\n",
       "\"\"\"\n",
       "                                 Statespace Model Results                                 \n",
       "==========================================================================================\n",
       "Dep. Variable:                                  y   No. Observations:                   22\n",
       "Model:             SARIMAX(0, 2, 0)x(0, 1, 0, 12)   Log Likelihood                 -97.961\n",
       "Date:                            Mon, 07 Dec 2020   AIC                            199.921\n",
       "Time:                                    09:00:51   BIC                            200.080\n",
       "Sample:                                         0   HQIC                           198.850\n",
       "                                             - 22                                         \n",
       "Covariance Type:                              opg                                         \n",
       "==============================================================================\n",
       "                 coef    std err          z      P>|z|      [0.025      0.975]\n",
       "------------------------------------------------------------------------------\n",
       "intercept   9220.6250    1.9e+04      0.485      0.628   -2.81e+04    4.65e+04\n",
       "sigma2      2.532e+09   1.72e+09      1.474      0.141   -8.36e+08     5.9e+09\n",
       "===================================================================================\n",
       "Ljung-Box (Q):                        9.08   Jarque-Bera (JB):                 0.40\n",
       "Prob(Q):                              0.25   Prob(JB):                         0.82\n",
       "Heteroskedasticity (H):               0.58   Skew:                            -0.39\n",
       "Prob(H) (two-sided):                  0.67   Kurtosis:                         2.24\n",
       "===================================================================================\n",
       "\n",
       "Warnings:\n",
       "[1] Covariance matrix calculated using the outer product of gradients (complex-step).\n",
       "\"\"\""
      ]
     },
     "execution_count": 405,
     "metadata": {},
     "output_type": "execute_result"
    }
   ],
   "source": [
    "reg.summary()"
   ]
  },
  {
   "cell_type": "code",
   "execution_count": 411,
   "metadata": {},
   "outputs": [],
   "source": [
    "fayda_predict = reg.predict(n_periods=10)"
   ]
  },
  {
   "cell_type": "code",
   "execution_count": 412,
   "metadata": {},
   "outputs": [
    {
     "data": {
      "text/plain": [
       "array([520151.70788404, 530330.04484912, 528809.00045919, 530467.22870874,\n",
       "       522869.02685624, 517341.00568998, 504868.05995238, 491546.04708687,\n",
       "       473299.78955372, 453388.86332675])"
      ]
     },
     "execution_count": 412,
     "metadata": {},
     "output_type": "execute_result"
    }
   ],
   "source": [
    "fayda_predict"
   ]
  },
  {
   "cell_type": "code",
   "execution_count": 446,
   "metadata": {},
   "outputs": [],
   "source": [
    "predictions.to_excel('C:/Users/fedaa.elderdesawe/desktop/Forecast ESSN(model10).xlsx') "
   ]
  }
 ],
 "metadata": {
  "celltoolbar": "Raw Cell Format",
  "kernelspec": {
   "display_name": "Python 3",
   "language": "python",
   "name": "python3"
  },
  "language_info": {
   "codemirror_mode": {
    "name": "ipython",
    "version": 3
   },
   "file_extension": ".py",
   "mimetype": "text/x-python",
   "name": "python",
   "nbconvert_exporter": "python",
   "pygments_lexer": "ipython3",
   "version": "3.8.8"
  }
 },
 "nbformat": 4,
 "nbformat_minor": 2
}
